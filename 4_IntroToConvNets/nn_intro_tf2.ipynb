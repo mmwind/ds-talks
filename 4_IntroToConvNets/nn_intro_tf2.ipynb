{
 "cells": [
  {
   "cell_type": "markdown",
   "metadata": {},
   "source": [
    "# Семинар по методам интеллектуального анализа данных\n",
    "## Введение в сверточные нейронные сети и библиотеку Tensorflow 2.0"
   ]
  },
  {
   "cell_type": "markdown",
   "metadata": {},
   "source": [
    "Содержание\n",
    "- Задача классификации изображений\n",
    "- Линейный классификатор\n",
    "- Функция потерь, обучение линейного классификатора\n",
    "- Сверточный слой нейросети\n",
    "- Задачи, решаемые сверточными нейросетями\n",
    "\n",
    "Отличный курс по нейросетям (видео лекций и материалы по курсу):\n",
    "\n",
    "CS231n: Convolutional Neural Networks for Visual Recognition (Stanford)\n",
    "\n",
    "http://cs231n.stanford.edu/"
   ]
  },
  {
   "cell_type": "markdown",
   "metadata": {},
   "source": [
    "### Библиотека Tensorflow"
   ]
  },
  {
   "cell_type": "markdown",
   "metadata": {},
   "source": [
    "<img align=left src=\"img/tf_logo.png\">"
   ]
  },
  {
   "cell_type": "markdown",
   "metadata": {},
   "source": [
    "https://www.tensorflow.org/\n",
    "\n",
    "Другие библиотеки для обучения нейросетей (глубокого обучения - Deep learning):\n",
    "- PyTorch https://pytorch.org/\n",
    "- Apache MXNet https://mxnet.apache.org/\n",
    "- Caffe2 https://caffe2.ai/"
   ]
  },
  {
   "cell_type": "code",
   "execution_count": 1,
   "metadata": {},
   "outputs": [
    {
     "name": "stdout",
     "output_type": "stream",
     "text": [
      "Python version: 3.7.3 (default, Mar 27 2019, 17:13:21) [MSC v.1915 64 bit (AMD64)]\n",
      "Tensorflow version: 2.0.0-alpha0\n",
      "Numpy version: 1.16.2\n",
      "Matplotlib version 3.0.3\n"
     ]
    }
   ],
   "source": [
    "%matplotlib inline\n",
    "import sys\n",
    "import tensorflow as tf\n",
    "import pickle\n",
    "import numpy as np\n",
    "from pathlib import Path\n",
    "import matplotlib\n",
    "from matplotlib import pyplot as plt\n",
    "\n",
    "print('Python version:', sys.version)\n",
    "print('Tensorflow version:', tf.__version__)\n",
    "print('Numpy version:', np.__version__)\n",
    "print('Matplotlib version', matplotlib.__version__)"
   ]
  },
  {
   "cell_type": "code",
   "execution_count": 2,
   "metadata": {},
   "outputs": [],
   "source": [
    "# PATHS\n",
    "PATH_CIFAR = Path('data') / 'cifar-10-batches-py'"
   ]
  },
  {
   "cell_type": "markdown",
   "metadata": {},
   "source": [
    "### Задача классификации изображений\n",
    "\n",
    "Пусть имеется набор изображений с известными метками классов (кошка, собака, машина и т.п.). Необходимо составить алгоритм, который будет определять метку класса для нового изображения. Наиболее известным набором размеченных изображений, на котором сравнивается качество разных алгоримов, является ImageNet, содержащий более 14 миллионов картинок, разделенных на 20000 классов.\n",
    "\n",
    "Примеры изображений ImageNet:\n",
    "\n",
    "![Imagenet_sample1](img/imagenet_sample1.jpg)\n",
    "![Imagenet_sample1](img/imagenet_sample2.jpg)\n",
    "\n",
    "Ежегодно проводится соревнование ImageNet Large Scale Visual Recognition Challenge (ILSVRC), где используется малая часть ImageNet (1.4 млн изображений, 1000 классов). В настоящее время нейросети показывают наилучшие результаты при решении этой задачи.\n",
    "\n",
    "![Imagenet_winner_history](img/ILSVRC_winners.png)\n",
    "\n",
    "- Deng et al, ImageNet: A Large-Scale Hierarchical Image Database, 2009."
   ]
  },
  {
   "cell_type": "markdown",
   "metadata": {},
   "source": [
    "Сети для классификации изображений ImageNet тренируются несколько дней. Чтобы уменьшить объем вычислений, мы будем использовать набор данных поменьше - **CIFAR**, который включает 10 классов, 50000 тренировочных и 10000 тестовых изображений.\n",
    "\n",
    "CIFAR-10 можно загрузить по ссылке: https://www.cs.toronto.edu/~kriz/cifar-10-python.tar.gz и необходимо распаковать в папку data.\n",
    "\n",
    "Изображения из набора данных CIFAR-10:\n",
    "\n",
    "![CIRAR](img/cifar_classes.png)"
   ]
  },
  {
   "cell_type": "code",
   "execution_count": 3,
   "metadata": {},
   "outputs": [],
   "source": [
    "def get_cifar10():\n",
    "    CIFAR_DIM = (3, 32, 32)\n",
    "    path_meta = PATH_CIFAR / 'batches.meta'\n",
    "    paths_batches = [\n",
    "        PATH_CIFAR / 'data_batch_1',\n",
    "        PATH_CIFAR / 'data_batch_2',\n",
    "        PATH_CIFAR / 'data_batch_3',\n",
    "        PATH_CIFAR / 'data_batch_4',\n",
    "        PATH_CIFAR / 'data_batch_5',    \n",
    "    ]\n",
    "    path_test = PATH_CIFAR / 'test_batch'\n",
    "    \n",
    "    # Train\n",
    "    cifar10_train = {'data': [], 'labels': []}\n",
    "    for path in paths_batches:\n",
    "        with open(path, 'rb') as file:\n",
    "            x = pickle.load(file, encoding='bytes')\n",
    "            cifar10_train['data'].append(x[b'data'])\n",
    "            cifar10_train['labels'].append(x[b'labels'])\n",
    "    cifar10_train['data'] = np.concatenate(cifar10_train['data'])\n",
    "    cifar10_train['data'] = cifar10_train['data'].reshape(-1, *CIFAR_DIM).transpose(0, 2, 3, 1)\n",
    "    cifar10_train['labels'] = np.concatenate(cifar10_train['labels'])\n",
    "    \n",
    "    # Test\n",
    "    cifar10_test = {}\n",
    "    with open(path_test, 'rb') as file:\n",
    "        x = pickle.load(file, encoding='bytes')\n",
    "        cifar10_test['data'] = x[b'data'].reshape(-1, *CIFAR_DIM).transpose(0, 2, 3, 1)\n",
    "        cifar10_test['labels'] = np.array(x[b'labels'], dtype=np.int8)\n",
    "    \n",
    "    # Class names\n",
    "    with open(path_meta, 'rb') as file:\n",
    "        class_names = [bytes_name.decode() for bytes_name \n",
    "                       in pickle.load(file, encoding='bytes')[b'label_names']]\n",
    "    \n",
    "    return cifar10_train, cifar10_test, class_names"
   ]
  },
  {
   "cell_type": "code",
   "execution_count": 4,
   "metadata": {},
   "outputs": [
    {
     "name": "stdout",
     "output_type": "stream",
     "text": [
      "Имена классов: ['airplane', 'automobile', 'bird', 'cat', 'deer', 'dog', 'frog', 'horse', 'ship', 'truck']\n",
      "Размер тренировочных данных: 50000\n",
      "Размер тестовых данных: 10000\n",
      "Размер изображения: 32 (32x32x3)\n"
     ]
    }
   ],
   "source": [
    "# Загрузим датасет CIFAR10\n",
    "cifar10_train, cifar10_test, class_names = get_cifar10()\n",
    "\n",
    "cifar10_train_size = cifar10_train['data'].shape[0]\n",
    "cifar10_test_size = cifar10_test['data'].shape[0]\n",
    "\n",
    "print('Имена классов:', class_names)\n",
    "print('Размер тренировочных данных:', cifar10_train_size)\n",
    "assert cifar10_train_size == cifar10_train['labels'].size\n",
    "print('Размер тестовых данных:', cifar10_test_size)\n",
    "assert cifar10_test_size == cifar10_test['labels'].size\n",
    "print('Размер изображения: {} (32x32x3)'.format(cifar10_train['data'].shape[1]))"
   ]
  },
  {
   "cell_type": "code",
   "execution_count": 5,
   "metadata": {},
   "outputs": [
    {
     "data": {
      "image/png": "[encoded data removed]",
      "text/plain": [
       "<Figure size 864x216 with 10 Axes>"
      ]
     },
     "metadata": {
      "needs_background": "light"
     },
     "output_type": "display_data"
    }
   ],
   "source": [
    "# Построим 10 случайных изображений CIFAR\n",
    "def plot_cifar_imgs(imgs, labels):\n",
    "    plt.figure(figsize=(len(imgs) + 2, 3))\n",
    "    for img_num, (img, lbl) in enumerate(zip(imgs, labels), 1):\n",
    "        plt.subplot(1, len(imgs), img_num)\n",
    "        plt.imshow(img)\n",
    "        plt.title(class_names[lbl])\n",
    "        plt.axis('off')\n",
    "\n",
    "show_idxs = np.random.randint(0, cifar10_train_size, size=10)\n",
    "images = [cifar10_train['data'][idx] for idx in show_idxs]\n",
    "labels = [cifar10_train['labels'][idx] for idx in show_idxs]\n",
    "plot_cifar_imgs(images, labels)"
   ]
  },
  {
   "cell_type": "code",
   "execution_count": 89,
   "metadata": {},
   "outputs": [
    {
     "name": "stdout",
     "output_type": "stream",
     "text": [
      "[5000 5000 5000 5000 5000 5000 5000 5000 5000 5000]\n",
      "[1000 1000 1000 1000 1000 1000 1000 1000 1000 1000]\n"
     ]
    }
   ],
   "source": [
    "# Посмотрим на распредление классов\n",
    "print(np.unique(cifar10_train['labels'], return_counts=True)[1])\n",
    "print(np.unique(cifar10_test['labels'], return_counts=True)[1])"
   ]
  },
  {
   "cell_type": "markdown",
   "metadata": {},
   "source": [
    "Видно, что изображения CIFAR10 распределены по классам равномерно."
   ]
  },
  {
   "cell_type": "markdown",
   "metadata": {},
   "source": [
    "### Обучение однослойной нейросети\n",
    "В основе нейросети лежит линейная функция (простейший классификатор):\n",
    "\n",
    "$$y = Wx + b,$$\n",
    "\n",
    "где $x$ - входной вектор $\\mathbb{R}^N$, $y$ - выходной вектор  $\\mathbb{R}^M$, $W$ - матрица весов $\\mathbb{R}^{M \\times N}$, $b$ - вектор смещений $\\mathbb{R}^M$."
   ]
  },
  {
   "cell_type": "code",
   "execution_count": 6,
   "metadata": {},
   "outputs": [
    {
     "data": {
      "image/png": "[encoded data removed]",
      "text/plain": [
       "<Figure size 360x216 with 3 Axes>"
      ]
     },
     "metadata": {
      "needs_background": "light"
     },
     "output_type": "display_data"
    }
   ],
   "source": [
    "# Возмем 3 изображения разных классов\n",
    "labels = [3, 6, 8]\n",
    "images = np.stack([cifar10_train['data'][np.where(cifar10_train['labels'] == lbl)[0][0]] for lbl in labels])\n",
    "plot_cifar_imgs(images, labels)"
   ]
  },
  {
   "cell_type": "code",
   "execution_count": 7,
   "metadata": {},
   "outputs": [],
   "source": [
    "# Представим изображения в виде векторов длинной 3072 = 32x32x3\n",
    "images = images.reshape(3, -1)"
   ]
  },
  {
   "cell_type": "code",
   "execution_count": 8,
   "metadata": {},
   "outputs": [],
   "source": [
    "# Создадим случайную матрицу весов и вектор смещений\n",
    "n = images[0].shape[0]\n",
    "m = 10  # 10 классов\n",
    "weights = tf.random.normal((m, n)) / 100\n",
    "bias = tf.random.normal((m, ))"
   ]
  },
  {
   "cell_type": "code",
   "execution_count": 9,
   "metadata": {},
   "outputs": [
    {
     "name": "stdout",
     "output_type": "stream",
     "text": [
      "tf.Tensor(\n",
      "[[  -6.5521264  -65.75461     -7.6227465   37.98676    -65.283775\n",
      "     6.6298523   35.0437     -42.607082    -8.631969   -37.641396 ]\n",
      " [ -40.042355   -48.254227   -70.513794   -26.883457   -89.08337\n",
      "    43.884132   -57.794846     8.830553    21.09018   -221.28424  ]\n",
      " [  -9.295894   -87.66952    -53.05158      6.7628098 -172.27931\n",
      "   -27.069271    50.68219    -58.066475   -11.965881  -139.93343  ]], shape=(3, 10), dtype=float32)\n"
     ]
    }
   ],
   "source": [
    "# Применим линейную функцию к изображениям\n",
    "# images - numpy массив, weights - tensorflow массив, но их можно перемножать\n",
    "y = images @ tf.transpose(weights) + bias  # @ - умножение матриц (== tf.matmul)\n",
    "print(y)  # получается tensorflow массив"
   ]
  },
  {
   "cell_type": "markdown",
   "metadata": {},
   "source": [
    "Каждое число (или score) можно интерпретировать, как принадлежность каждого изображения к одному из 10 классов. Тот индекс, где score наибольший и есть предсказанный класс."
   ]
  },
  {
   "cell_type": "code",
   "execution_count": 10,
   "metadata": {},
   "outputs": [
    {
     "name": "stdout",
     "output_type": "stream",
     "text": [
      "Предсказание для изображения cat: cat\n",
      "Предсказание для изображения frog: dog\n",
      "Предсказание для изображения ship: frog\n"
     ]
    }
   ],
   "source": [
    "predictions = tf.argmax(y, axis=1)\n",
    "for true_label, prediction in zip(labels, predictions):\n",
    "    print('Предсказание для изображения {}: {}'\n",
    "          ''.format(class_names[true_label], class_names[prediction]))"
   ]
  },
  {
   "cell_type": "markdown",
   "metadata": {},
   "source": [
    "Так как веса случайны, мы получаем случайное предсказание. Чтобы найти веса, которые позволят разделять классы необходимо  ввести функцию потерь, которая будет штрафовать классификатор за неверные предсказания классов. Один из вариатов таких функций является Hinge loss, которая применятся в методе опорных векторов (SVM):\n",
    "\n",
    "$$L = \\max(0, 1 + \\max\\limits_{i\\neq t}(y_i - y_t)),$$\n",
    "\n",
    "$y_t$ - значения предсказания для истинного класса. Если максимальное значение среди предсказаний соотсветствует истинному классу, значение функции потерь равно0, если другому классу, то $L > 0$."
   ]
  },
  {
   "cell_type": "code",
   "execution_count": 77,
   "metadata": {},
   "outputs": [
    {
     "name": "stdout",
     "output_type": "stream",
     "text": [
      "Закодированные метки классов:\n",
      "[[0. 0. 0. 1. 0. 0. 0. 0. 0. 0.]\n",
      " [0. 0. 0. 0. 0. 0. 1. 0. 0. 0.]\n",
      " [0. 0. 0. 0. 0. 0. 0. 0. 1. 0.]]\n",
      "\n",
      "Значение функции потерь (усреднение по трем предсказаниям): 55.44\n"
     ]
    }
   ],
   "source": [
    "# В Tensorflow 2.0 функции потерь находяться в модуле tf.losses\n",
    "hinge_loss = tf.losses.CategoricalHinge()\n",
    "\n",
    "# Однако на вход функции необходимо подавать не индексы классов, \n",
    "# а вектор 0 и 1 длиной 10 (например, 3 класс преобразуется в [0, 0, 0, 1, 0, 0, 0, 0, 0, 0])\n",
    "# Это называется one-hot-encoding\n",
    "one_hot_labels = tf.one_hot(labels, depth=10)\n",
    "print('Закодированные метки классов:\\n{}\\n'.format(one_hot_labels))\n",
    "loss = hinge_loss(one_hot_labels, y)\n",
    "print('Значение функции потерь (усреднение по трем предсказаниям): {:.2f}'.format(loss.numpy().item()))"
   ]
  },
  {
   "cell_type": "markdown",
   "metadata": {},
   "source": [
    "Hinge loss - выпуклая, но недифференцируемая функция, однако при минимизации этим пренебрегают. Теперь мы может использовать простейший градиентый спуск для того чтобы найти оптимальные весовые коэффициенты."
   ]
  },
  {
   "cell_type": "code",
   "execution_count": null,
   "metadata": {},
   "outputs": [],
   "source": []
  },
  {
   "cell_type": "markdown",
   "metadata": {},
   "source": [
    "Конечно в tensorflow есть более простые способы для минизации функции потерь."
   ]
  },
  {
   "cell_type": "code",
   "execution_count": null,
   "metadata": {},
   "outputs": [],
   "source": []
  },
  {
   "cell_type": "code",
   "execution_count": null,
   "metadata": {},
   "outputs": [],
   "source": []
  },
  {
   "cell_type": "markdown",
   "metadata": {},
   "source": [
    "Чаще в качестве функции потерь для задачи определения меток взаимоисключающих классов используется перекрестная энтропия (cross-entropy loss). Метки классов - это вектор нулей и единиц (например, кошка в CIFAR-10 - [0, 0, 0, 1, 0, 0, 0, 0, 0, 0]). Вектор можно интерпретировать как вероятность принадлежности к классу, поэтому удобно, когда выходные значения нейросети тоже представляют собой вероятности.\n",
    "\n",
    "Функция softmax позволяет отнормировать предсказания линейного слоя ($y$) и получить подобие вероятностного распределения:\n",
    "\n",
    "$$z = \\sigma(y)_i = \\frac{e^{y_i}}{\\sum\\limits_{k=1}^K e^{y_k}}$$\n",
    "\n",
    "Cross-entropy loss - это функция потерь, которая исользует истинное и предсказанное распределение классов:\n",
    "\n",
    "$$L = \\frac{1}{N} \\sum\\limits_{n=1}^N H(p_n, q_n)\n",
    "    = -\\frac{1}{N} \\sum\\limits_{n=1}^N [z_n \\log \\hat{z}_n + (1 - z_n)\\log(1 - \\hat{z}_n)],$$\n",
    "    \n",
    "где $p$ - истинное распределение классов, $q$ - распределение, предсказанное моделью. Чем больше предсказанная вероятность для истинного класса, тем меньше значение функции потерь. Однако, как видно из формулы, если модель предскажет 1 там, где должен быть 0, функция потерь $L = \\infty$. Это приводит к тому, что модели, обученные с помощью перекрестной энтропии, никогда не уверенны до конца в своих предсказаниях."
   ]
  },
  {
   "cell_type": "code",
   "execution_count": null,
   "metadata": {},
   "outputs": [],
   "source": []
  },
  {
   "cell_type": "markdown",
   "metadata": {},
   "source": [
    "Линейный классификатор можно интерпретировать как поверхность, разделяющую разные классы в многомерном прострастве, определяемым размерностью входного вектора.\n",
    "\n",
    "CIFAR, ImageNET, нейрон, перцептрон, функции потерь, градиентный спуск, обратное распространение ошибки, сверточные сети, пуллинг, батч-нормализация"
   ]
  },
  {
   "cell_type": "markdown",
   "metadata": {},
   "source": [
    "Входные фильтры нейросетей (7х7)"
   ]
  },
  {
   "cell_type": "markdown",
   "metadata": {},
   "source": [
    "## Задачи, решаемые сверточными нейросетями\n",
    "- Классификация изображений\n",
    "- Сегментация (instance и semantic segmentation)\n",
    "- Подсчет объектов"
   ]
  },
  {
   "cell_type": "code",
   "execution_count": null,
   "metadata": {},
   "outputs": [],
   "source": []
  }
 ],
 "metadata": {
  "kernelspec": {
   "display_name": "Python 3",
   "language": "python",
   "name": "python3"
  },
  "language_info": {
   "codemirror_mode": {
    "name": "ipython",
    "version": 3
   },
   "file_extension": ".py",
   "mimetype": "text/x-python",
   "name": "python",
   "nbconvert_exporter": "python",
   "pygments_lexer": "ipython3",
   "version": "3.7.3"
  }
 },
 "nbformat": 4,
 "nbformat_minor": 2
}
