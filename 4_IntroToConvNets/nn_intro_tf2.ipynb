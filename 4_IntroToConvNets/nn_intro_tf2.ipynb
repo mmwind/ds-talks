{
 "cells": [
  {
   "cell_type": "markdown",
   "metadata": {},
   "source": [
    "# Семинар по методам интеллектуального анализа данных\n",
    "## Введение в сверточные нейронные сети и библиотеку Tensorflow 2.0"
   ]
  },
  {
   "cell_type": "markdown",
   "metadata": {},
   "source": [
    "Содержание\n",
    "- Задача классификации изображений\n",
    "- Линейный классификатор\n",
    "- Функция потерь, обучение линейного классификатора\n",
    "- Сверточный слой нейросети\n",
    "- Задачи, решаемые сверточными нейросетями\n",
    "\n",
    "Отличный курс по нейросетям (видео лекций и материалы по курсу):\n",
    "\n",
    "CS231n: Convolutional Neural Networks for Visual Recognition (Stanford)\n",
    "\n",
    "http://cs231n.stanford.edu/"
   ]
  },
  {
   "cell_type": "markdown",
   "metadata": {},
   "source": [
    "### Библиотека Tensorflow"
   ]
  },
  {
   "cell_type": "markdown",
   "metadata": {},
   "source": [
    "<img align=left src=\"img/tf_logo.png\">"
   ]
  },
  {
   "cell_type": "markdown",
   "metadata": {},
   "source": [
    "https://www.tensorflow.org/\n",
    "\n",
    "Другие библиотеки для обучения нейросетей (глубокого обучения - Deep learning):\n",
    "- PyTorch https://pytorch.org/\n",
    "- Apache MXNet https://mxnet.apache.org/\n",
    "- Caffe2 https://caffe2.ai/"
   ]
  },
  {
   "cell_type": "code",
   "execution_count": 1,
   "metadata": {},
   "outputs": [
    {
     "name": "stdout",
     "output_type": "stream",
     "text": [
      "Python version: 3.7.3 (default, Mar 27 2019, 17:13:21) [MSC v.1915 64 bit (AMD64)]\n",
      "Tensorflow version: 2.0.0-alpha0\n",
      "Numpy version: 1.16.2\n",
      "Scikit-learn version: 0.20.3\n",
      "Matplotlib version 3.0.3\n"
     ]
    }
   ],
   "source": [
    "%matplotlib inline\n",
    "import sys\n",
    "import math\n",
    "import tensorflow as tf\n",
    "import pickle\n",
    "import numpy as np\n",
    "import sklearn\n",
    "from pathlib import Path\n",
    "import matplotlib\n",
    "from matplotlib import pyplot as plt\n",
    "from sklearn.metrics import accuracy_score\n",
    "\n",
    "print('Python version:', sys.version)\n",
    "print('Tensorflow version:', tf.__version__)\n",
    "print('Numpy version:', np.__version__)\n",
    "print('Scikit-learn version:', sklearn.__version__)\n",
    "print('Matplotlib version', matplotlib.__version__)"
   ]
  },
  {
   "cell_type": "code",
   "execution_count": 2,
   "metadata": {},
   "outputs": [],
   "source": [
    "# PATHS\n",
    "PATH_CIFAR = Path('data') / 'cifar-10-batches-py'"
   ]
  },
  {
   "cell_type": "markdown",
   "metadata": {},
   "source": [
    "### Задача классификации изображений\n",
    "\n",
    "Пусть имеется набор изображений с известными метками классов (кошка, собака, машина и т.п.). Необходимо составить алгоритм, который будет определять метку класса для нового изображения. Наиболее известным набором размеченных изображений, на котором сравнивается качество разных алгоримов, является ImageNet, содержащий более 14 миллионов картинок, разделенных на 20000 классов.\n",
    "\n",
    "Примеры изображений ImageNet:\n",
    "\n",
    "![Imagenet_sample1](img/imagenet_sample1.jpg)\n",
    "![Imagenet_sample1](img/imagenet_sample2.jpg)\n",
    "\n",
    "Ежегодно проводится соревнование ImageNet Large Scale Visual Recognition Challenge (ILSVRC), где используется малая часть ImageNet (1.4 млн изображений, 1000 классов). В настоящее время нейросети показывают наилучшие результаты при решении этой задачи.\n",
    "\n",
    "![Imagenet_winner_history](img/ILSVRC_winners.png)\n",
    "\n",
    "- Deng et al, ImageNet: A Large-Scale Hierarchical Image Database, 2009."
   ]
  },
  {
   "cell_type": "markdown",
   "metadata": {},
   "source": [
    "Сети для классификации изображений ImageNet тренируются несколько дней. Чтобы уменьшить объем вычислений, мы будем использовать набор данных поменьше - **CIFAR**, который включает 10 классов, 50000 тренировочных и 10000 тестовых изображений.\n",
    "\n",
    "CIFAR-10 можно загрузить по ссылке: https://www.cs.toronto.edu/~kriz/cifar-10-python.tar.gz и необходимо распаковать в папку data.\n",
    "\n",
    "Изображения из набора данных CIFAR-10:\n",
    "\n",
    "![CIRAR](img/cifar_classes.png)"
   ]
  },
  {
   "cell_type": "code",
   "execution_count": 3,
   "metadata": {},
   "outputs": [],
   "source": [
    "def get_cifar10():\n",
    "    CIFAR_DIM = (3, 32, 32)\n",
    "    path_meta = PATH_CIFAR / 'batches.meta'\n",
    "    paths_batches = [\n",
    "        PATH_CIFAR / 'data_batch_1',\n",
    "        PATH_CIFAR / 'data_batch_2',\n",
    "        PATH_CIFAR / 'data_batch_3',\n",
    "        PATH_CIFAR / 'data_batch_4',\n",
    "        PATH_CIFAR / 'data_batch_5',    \n",
    "    ]\n",
    "    path_test = PATH_CIFAR / 'test_batch'\n",
    "    \n",
    "    # Train\n",
    "    cifar10_train = {'data': [], 'labels': []}\n",
    "    for path in paths_batches:\n",
    "        with open(path, 'rb') as file:\n",
    "            x = pickle.load(file, encoding='bytes')\n",
    "            cifar10_train['data'].append(x[b'data'])\n",
    "            cifar10_train['labels'].append(x[b'labels'])\n",
    "    cifar10_train['data'] = np.concatenate(cifar10_train['data'])\n",
    "    cifar10_train['data'] = cifar10_train['data'].reshape(-1, *CIFAR_DIM).transpose(0, 2, 3, 1)\n",
    "    cifar10_train['labels'] = np.concatenate(cifar10_train['labels'])\n",
    "    \n",
    "    # Test\n",
    "    cifar10_test = {}\n",
    "    with open(path_test, 'rb') as file:\n",
    "        x = pickle.load(file, encoding='bytes')\n",
    "        cifar10_test['data'] = x[b'data'].reshape(-1, *CIFAR_DIM).transpose(0, 2, 3, 1)\n",
    "        cifar10_test['labels'] = np.array(x[b'labels'], dtype=np.int32)\n",
    "    \n",
    "    # Class names\n",
    "    with open(path_meta, 'rb') as file:\n",
    "        class_names = [bytes_name.decode() for bytes_name \n",
    "                       in pickle.load(file, encoding='bytes')[b'label_names']]\n",
    "    \n",
    "    return cifar10_train, cifar10_test, class_names"
   ]
  },
  {
   "cell_type": "code",
   "execution_count": 4,
   "metadata": {},
   "outputs": [
    {
     "name": "stdout",
     "output_type": "stream",
     "text": [
      "Имена классов: ['airplane', 'automobile', 'bird', 'cat', 'deer', 'dog', 'frog', 'horse', 'ship', 'truck']\n",
      "Размер тренировочных данных: 50000\n",
      "Размер тестовых данных: 10000\n",
      "Размер изображения: 32 (32x32x3)\n",
      "Количество пикселей на изображении: 3072\n"
     ]
    }
   ],
   "source": [
    "# Загрузим датасет CIFAR10\n",
    "cifar10_train, cifar10_test, class_names = get_cifar10()\n",
    "\n",
    "cifar10_train_size = cifar10_train['data'].shape[0]\n",
    "cifar10_test_size = cifar10_test['data'].shape[0]\n",
    "\n",
    "# Нам также понадобяться изображения в виде вектора пикселей\n",
    "# длиной 3072 = 32x32x3\n",
    "cifar10_train_vectors = cifar10_train['data'].reshape(cifar10_train_size, -1)\n",
    "cifar10_test_vectors = cifar10_test['data'].reshape(cifar10_test_size, -1)\n",
    "\n",
    "print('Имена классов:', class_names)\n",
    "print('Размер тренировочных данных:', cifar10_train_size)\n",
    "assert cifar10_train_size == cifar10_train['labels'].size\n",
    "print('Размер тестовых данных:', cifar10_test_size)\n",
    "assert cifar10_test_size == cifar10_test['labels'].size\n",
    "print('Размер изображения: {} (32x32x3)'.format(cifar10_train['data'].shape[1]))\n",
    "print('Количество пикселей на изображении: {}'.format(np.product(cifar10_train['data'].shape[1:])))"
   ]
  },
  {
   "cell_type": "code",
   "execution_count": 5,
   "metadata": {},
   "outputs": [
    {
     "data": {
      "image/png": "[encoded data removed]",
      "text/plain": [
       "<Figure size 864x216 with 10 Axes>"
      ]
     },
     "metadata": {
      "needs_background": "light"
     },
     "output_type": "display_data"
    }
   ],
   "source": [
    "# Построим 10 случайных изображений CIFAR\n",
    "def plot_cifar_imgs(imgs, labels, interpolation=None):\n",
    "    plt.figure(figsize=(len(imgs) + 2, 3))\n",
    "    for img_num, (img, lbl) in enumerate(zip(imgs, labels), 1):\n",
    "        plt.subplot(1, len(imgs), img_num)\n",
    "        plt.imshow(img, interpolation=interpolation)\n",
    "        plt.title(class_names[lbl])\n",
    "        plt.axis('off')\n",
    "\n",
    "show_idxs = np.random.randint(0, cifar10_train_size, size=10)\n",
    "images = [cifar10_train['data'][idx] for idx in show_idxs]\n",
    "labels = [cifar10_train['labels'][idx] for idx in show_idxs]\n",
    "plot_cifar_imgs(images, labels)"
   ]
  },
  {
   "cell_type": "code",
   "execution_count": 6,
   "metadata": {},
   "outputs": [
    {
     "name": "stdout",
     "output_type": "stream",
     "text": [
      "[5000 5000 5000 5000 5000 5000 5000 5000 5000 5000]\n",
      "[1000 1000 1000 1000 1000 1000 1000 1000 1000 1000]\n"
     ]
    }
   ],
   "source": [
    "# Посмотрим на распредление классов\n",
    "print(np.unique(cifar10_train['labels'], return_counts=True)[1])\n",
    "print(np.unique(cifar10_test['labels'], return_counts=True)[1])"
   ]
  },
  {
   "cell_type": "markdown",
   "metadata": {},
   "source": [
    "Видно, что изображения CIFAR10 распределены по классам равномерно."
   ]
  },
  {
   "cell_type": "markdown",
   "metadata": {},
   "source": [
    "### Обучение однослойной нейросети\n",
    "В основе нейросети лежит линейная функция (простейший классификатор):\n",
    "\n",
    "$$y = Wx + b,$$\n",
    "\n",
    "где $x$ - входной вектор $\\mathbb{R}^N$, $y$ - выходной вектор  $\\mathbb{R}^M$, $W$ - матрица весов $\\mathbb{R}^{M \\times N}$, $b$ - вектор смещений $\\mathbb{R}^M$."
   ]
  },
  {
   "cell_type": "code",
   "execution_count": 7,
   "metadata": {},
   "outputs": [
    {
     "data": {
      "image/png": "[encoded data removed]",
      "text/plain": [
       "<Figure size 360x216 with 3 Axes>"
      ]
     },
     "metadata": {
      "needs_background": "light"
     },
     "output_type": "display_data"
    }
   ],
   "source": [
    "# Возмем 3 изображения разных классов\n",
    "labels = [3, 6, 8]\n",
    "images = np.stack([cifar10_train['data'][np.where(cifar10_train['labels'] == lbl)[0][0]] for lbl in labels])\n",
    "plot_cifar_imgs(images, labels)"
   ]
  },
  {
   "cell_type": "code",
   "execution_count": 8,
   "metadata": {},
   "outputs": [],
   "source": [
    "# Представим изображения в виде векторов длинной 3072 = 32x32x3\n",
    "images = images.reshape(3, -1)"
   ]
  },
  {
   "cell_type": "code",
   "execution_count": 9,
   "metadata": {},
   "outputs": [],
   "source": [
    "# Создадим случайную матрицу весов и вектор смещений\n",
    "n = images[0].shape[0]\n",
    "m = 10  # 10 классов\n",
    "weights = tf.random.normal((m, n)) / 10\n",
    "bias = tf.random.normal((m, ))"
   ]
  },
  {
   "cell_type": "code",
   "execution_count": 10,
   "metadata": {},
   "outputs": [
    {
     "name": "stdout",
     "output_type": "stream",
     "text": [
      "tf.Tensor(\n",
      "[[ 278.96497  -373.84625   530.5867    104.04567   557.5654     47.605877\n",
      "  -624.4115    691.2342   -237.60196   693.433   ]\n",
      " [-617.0538    694.3246    946.81396   786.84717  -380.98947  -126.20673\n",
      "  -462.07822   989.2734    347.8658    895.97003 ]\n",
      " [-693.7989   -663.58636  1069.4034    433.301    -129.90227   256.27893\n",
      "  -550.062     988.89465   476.08896  1067.7925  ]], shape=(3, 10), dtype=float32)\n"
     ]
    }
   ],
   "source": [
    "# Применим линейную функцию к изображениям\n",
    "# images - numpy массив, weights - tensorflow массив, но их можно перемножать\n",
    "y = images @ tf.transpose(weights) + bias  # @ - умножение матриц (== tf.matmul)\n",
    "print(y)  # получается tensorflow массив"
   ]
  },
  {
   "cell_type": "markdown",
   "metadata": {},
   "source": [
    "Каждое число (или score) можно интерпретировать, как принадлежность каждого изображения к одному из 10 классов. Тот индекс, где score наибольший и есть предсказанный класс."
   ]
  },
  {
   "cell_type": "code",
   "execution_count": 11,
   "metadata": {},
   "outputs": [
    {
     "name": "stdout",
     "output_type": "stream",
     "text": [
      "Предсказание для изображения cat: truck\n",
      "Предсказание для изображения frog: horse\n",
      "Предсказание для изображения ship: bird\n"
     ]
    }
   ],
   "source": [
    "predictions = tf.argmax(y, axis=1)\n",
    "for true_label, prediction in zip(labels, predictions):\n",
    "    print('Предсказание для изображения {}: {}'\n",
    "          ''.format(class_names[true_label], class_names[prediction]))"
   ]
  },
  {
   "cell_type": "code",
   "execution_count": 12,
   "metadata": {},
   "outputs": [],
   "source": [
    "# Введем метрику для оценки качества предсказаний\n",
    "def estimate_accuracy(input_weights, input_bias, input_data, input_labels):\n",
    "    y = input_data @ tf.transpose(input_weights) + bias\n",
    "    return accuracy_score(input_labels, tf.argmax(y, axis=1))"
   ]
  },
  {
   "cell_type": "code",
   "execution_count": 13,
   "metadata": {},
   "outputs": [
    {
     "name": "stdout",
     "output_type": "stream",
     "text": [
      "Точность предсказания: 10.08%\n"
     ]
    }
   ],
   "source": [
    "# Оценим качество предсказания для тестовой выборки для наших текущих, случаных весов\n",
    "cifar10_test_predictions_random_weights = estimate_accuracy(\n",
    "    weights, bias, cifar10_train_vectors, cifar10_train['labels']\n",
    ")\n",
    "print('Точность предсказания: {:.2f}%'.format(cifar10_test_predictions_random_weights * 100))"
   ]
  },
  {
   "cell_type": "markdown",
   "metadata": {},
   "source": [
    "Точность находится в пределах 10%, потому что у нас 10 классов, а предсказание - случайное. Чтобы найти веса, которые позволят лучше разделять классы необходимо ввести функцию потерь, которая будет штрафовать классификатор за неверные предсказания классов. Один из вариатов таких функций является Hinge loss, которая применятся в методе опорных векторов (SVM):\n",
    "\n",
    "$$L = \\max(0, 1 + \\max\\limits_{i\\neq t}(y_i - y_t)),$$\n",
    "\n",
    "$y_t$ - значения предсказания для истинного класса. Если максимальное значение среди предсказаний соотсветствует истинному классу, значение функции потерь равно0, если другому классу, то $L > 0$."
   ]
  },
  {
   "cell_type": "code",
   "execution_count": 14,
   "metadata": {
    "scrolled": true
   },
   "outputs": [
    {
     "name": "stdout",
     "output_type": "stream",
     "text": [
      "Закодированные метки классов:\n",
      "[[0. 0. 0. 1. 0. 0. 0. 0. 0. 0.]\n",
      " [0. 0. 0. 0. 0. 0. 1. 0. 0. 0.]\n",
      " [0. 0. 0. 0. 0. 0. 0. 0. 1. 0.]]\n",
      "\n",
      "Значение функции потерь (усреднение по трем предсказаниям): 879.02\n"
     ]
    }
   ],
   "source": [
    "# В Tensorflow 2.0 функции потерь находяться в модуле tf.losses\n",
    "hinge_loss = tf.losses.CategoricalHinge()\n",
    "\n",
    "# Однако на вход функции необходимо подавать не индексы классов, \n",
    "# а вектор 0 и 1 длиной 10 (например, 3 класс преобразуется в [0, 0, 0, 1, 0, 0, 0, 0, 0, 0])\n",
    "# Это называется one-hot-encoding\n",
    "one_hot_labels = tf.one_hot(labels, depth=10)\n",
    "print('Закодированные метки классов:\\n{}\\n'.format(one_hot_labels))\n",
    "loss = hinge_loss(one_hot_labels, y)\n",
    "print('Значение функции потерь (усреднение по трем предсказаниям): {:.2f}'.format(loss.numpy().item()))"
   ]
  },
  {
   "cell_type": "markdown",
   "metadata": {},
   "source": [
    "Hinge loss - выпуклая, но недифференцируемая функция, однако при минимизации этим пренебрегают. Теперь мы может использовать простейший градиентый спуск для того чтобы найти оптимальные весовые коэффициенты."
   ]
  },
  {
   "cell_type": "code",
   "execution_count": 15,
   "metadata": {},
   "outputs": [
    {
     "name": "stdout",
     "output_type": "stream",
     "text": [
      "tf.Tensor(\n",
      "[[  0.         0.         0.       ...   0.         0.         0.      ]\n",
      " [  0.         0.         0.       ...   0.         0.         0.      ]\n",
      " [ 44.666668  62.        74.333336 ...  10.666667  31.333334  46.      ]\n",
      " ...\n",
      " [ 19.666668  20.666668  21.       ...  41.        30.666668  24.      ]\n",
      " [-44.666668 -62.       -74.333336 ... -10.666667 -31.333334 -46.      ]\n",
      " [ 41.666668  41.666668  38.666668 ...  48.        38.666668  28.666668]], shape=(10, 3072), dtype=float32)\n"
     ]
    }
   ],
   "source": [
    "# Tensorflow обладает модулем автоматического дифференцирования\n",
    "# Однако, чтобы получить доступ к градиентам необходимо указать,\n",
    "# какие переменные должны отслеживаться.\n",
    "# Это необходимо, так как мы используем динамические вычисления\n",
    "# (раньше Tensorflow составлял граф всех необходимых вычислений,\n",
    "# который испольнялся в специальной сессии)\n",
    "with tf.GradientTape() as g:\n",
    "    g.watch(weights)\n",
    "    y = images @ tf.transpose(weights) + bias\n",
    "    loss = hinge_loss(one_hot_labels, y)\n",
    "\n",
    "dL_dW = g.gradient(loss, weights)\n",
    "print(dL_dW)"
   ]
  },
  {
   "cell_type": "code",
   "execution_count": 16,
   "metadata": {},
   "outputs": [
    {
     "name": "stdout",
     "output_type": "stream",
     "text": [
      "Эпоха 1/10\n",
      "Точность на тренировочных данных: 21.53%\n",
      "Точность на тeстовых данных: 22.16%\n",
      "Эпоха 2/10\n",
      "Точность на тренировочных данных: 21.49%\n",
      "Точность на тeстовых данных: 21.40%\n",
      "Эпоха 3/10\n",
      "Точность на тренировочных данных: 22.73%\n",
      "Точность на тeстовых данных: 22.45%\n",
      "Эпоха 4/10\n",
      "Точность на тренировочных данных: 31.02%\n",
      "Точность на тeстовых данных: 30.19%\n",
      "Эпоха 5/10\n",
      "Точность на тренировочных данных: 33.98%\n",
      "Точность на тeстовых данных: 32.70%\n",
      "Эпоха 6/10\n",
      "Точность на тренировочных данных: 37.67%\n",
      "Точность на тeстовых данных: 35.16%\n",
      "Эпоха 7/10\n",
      "Точность на тренировочных данных: 38.00%\n",
      "Точность на тeстовых данных: 35.27%\n",
      "Эпоха 8/10\n",
      "Точность на тренировочных данных: 37.98%\n",
      "Точность на тeстовых данных: 35.22%\n",
      "Эпоха 9/10\n",
      "Точность на тренировочных данных: 38.04%\n",
      "Точность на тeстовых данных: 35.19%\n",
      "Эпоха 10/10\n",
      "Точность на тренировочных данных: 37.98%\n",
      "Точность на тeстовых данных: 35.13%\n"
     ]
    }
   ],
   "source": [
    "# У нас есть все инструменты для написания простого алгоритма градиентного спуска\n",
    "# Параметры обучения\n",
    "batch_size = 128\n",
    "learning_rate = 0.001\n",
    "n_epochs = 10\n",
    "\n",
    "# Эпохами называют проход по всем изображениям набора данных\n",
    "for epoch in range(n_epochs):    \n",
    "    print('Эпоха {}/{}'.format(epoch + 1, n_epochs))\n",
    "    \n",
    "    # Разобъем имеющиеся данные на батчи по 128 изображений\n",
    "    # Таким образом мы получаем стохастический градиентный спуск\n",
    "    # и при этом алгоритм не будет работь слишком медленно\n",
    "    for batch_num in range(math.ceil(cifar10_train_size / batch_size)):\n",
    "        sl = slice(batch_num * batch_size,\n",
    "                   min((batch_num + 1) * batch_size, cifar10_train_size))\n",
    "        batch_train = cifar10_train_vectors[sl]\n",
    "        batch_labels = cifar10_train['labels'][sl]\n",
    "        one_hot_labels = tf.one_hot(batch_labels, depth=10)\n",
    "        \n",
    "        # Фиксируем градиенты весов и смещений\n",
    "        with tf.GradientTape() as g:\n",
    "            g.watch([weights, bias])\n",
    "            \n",
    "            # Однослойный линейный классификатор\n",
    "            y = batch_train @ tf.transpose(weights) + bias\n",
    "            loss = hinge_loss(one_hot_labels, y)\n",
    "        \n",
    "        # Делаем шаг в направлении убывания градиента\n",
    "        dL_dW, dL_db = g.gradient(loss, [weights, bias])\n",
    "        weights -= learning_rate * dL_dW\n",
    "        bias -= learning_rate * dL_db\n",
    "    \n",
    "    # Уменьшаем скорость обучения с каждой пройденой эпохой\n",
    "    # На первых эпохах происходит грубая подгонка весов,\n",
    "    # затем они уточняются\n",
    "    learning_rate /= 2\n",
    "\n",
    "    # Оченим качество предсказаний на всем тренировочном и тестовом датасете\n",
    "    accuracy_train = estimate_accuracy(weights, bias, cifar10_train_vectors, cifar10_train['labels'])\n",
    "    accuracy_test = estimate_accuracy(weights, bias, cifar10_test_vectors, cifar10_test['labels'])\n",
    "\n",
    "    print('Точность на тренировочных данных: {:.2f}%'.format(accuracy_train * 100))\n",
    "    print('Точность на тeстовых данных: {:.2f}%'.format(accuracy_test * 100))"
   ]
  },
  {
   "cell_type": "markdown",
   "metadata": {},
   "source": [
    "Конечно в tensorflow есть более простые способы для обучения классификатора."
   ]
  },
  {
   "cell_type": "code",
   "execution_count": 17,
   "metadata": {},
   "outputs": [
    {
     "name": "stdout",
     "output_type": "stream",
     "text": [
      "Смещение до шага минимизации: [ 1.3420424  -1.8466502  -1.308539    0.38557678  0.08406472  0.37971517\n",
      " -0.03453567 -0.5170687  -0.27184507 -0.89503306]\n",
      "Смещение после шага минимизации: [ 1.3421049  -1.8473502  -1.3084891   0.38570178  0.08402722  0.37980267\n",
      " -0.03442317 -0.5169562  -0.27173257 -0.8949581 ]\n"
     ]
    }
   ],
   "source": [
    "# Например, tf.optimizers содержат готовые алгоритмы оптимизации\n",
    "# (реализации одного \"шага\" изменения весов)\n",
    "# Однако из интерфейс привязан к представлению статичных графов tensorflow\n",
    "# Веса и смещения должны быть обернуты в специальный класс tf.Variable\n",
    "# Это те тензоры, значения которых не должны меняться по мере обучения\n",
    "weights = tf.Variable(tf.random.normal((m, n)))\n",
    "bias = tf.Variable(tf.random.normal((m, )))\n",
    "\n",
    "# Оптимизатор Stochastic gradient descent\n",
    "sgd = tf.optimizers.SGD(learning_rate=0.001)\n",
    "\n",
    "# Оптимизируемая функция\n",
    "def foo():\n",
    "    y = batch_train @ tf.transpose(weights) + bias\n",
    "    return hinge_loss(one_hot_labels, y)\n",
    "\n",
    "# Один шаг изменения весов\n",
    "print('Смещение до шага минимизации:', bias.numpy())\n",
    "sgd.minimize(foo, [weights, bias]);\n",
    "print('Смещение после шага минимизации:', bias.numpy())"
   ]
  },
  {
   "cell_type": "markdown",
   "metadata": {},
   "source": [
    "# Место для рассказа про статический граф"
   ]
  },
  {
   "cell_type": "markdown",
   "metadata": {},
   "source": [
    "Tensorflow также обладает более высокоуровненым интерфейсом:\n",
    "![tf_api](img/tensorflow_api.png)\n",
    "\n",
    "Основные компоненты библиотеки и иструменты для распределенных вычислений написаны на C++ и CUDA. Наиболее полноценный и задокументированный API написан Python, но есть интерфейсы и для других языков. \n",
    "\n",
    "tf.losses, tf.optimizers, tf.GradientTape являются элементами низкого уровня, полезными, когда необходимо реализовать функционал, который отсутствует в API верхнего уровня. Создатели библиотеки рекомендуют использовать высокоуровнений API - tf.estimator и tf.keras (начиная с Tensorflow 2.0 утверждается, что tf.keras почти такой же быстрый).\n",
    "\n",
    "**tf.estimator** содержит готовые модели, включающие обучение, оценку, предсказание и экспорт моделей. https://www.tensorflow.org/guide/estimators\n",
    "\n",
    "**tf.keras** позволяет легко создавать собственные модели. https://www.tensorflow.org/guide/keras"
   ]
  },
  {
   "cell_type": "code",
   "execution_count": 18,
   "metadata": {},
   "outputs": [
    {
     "name": "stdout",
     "output_type": "stream",
     "text": [
      "Train on 50000 samples, validate on 10000 samples\n",
      "Epoch 1/10\n",
      "50000/50000 [==============================] - 3s 63us/sample - loss: 1.9329 - categorical_accuracy: 0.2105 - val_loss: 1.8935 - val_categorical_accuracy: 0.2259\n",
      "Epoch 2/10\n",
      "50000/50000 [==============================] - 3s 59us/sample - loss: 1.2452 - categorical_accuracy: 0.3105 - val_loss: 1.2380 - val_categorical_accuracy: 0.3042\n",
      "Epoch 3/10\n",
      "50000/50000 [==============================] - 3s 60us/sample - loss: 1.1278 - categorical_accuracy: 0.3472 - val_loss: 1.1385 - val_categorical_accuracy: 0.3198\n",
      "Epoch 4/10\n",
      "50000/50000 [==============================] - 3s 59us/sample - loss: 1.1001 - categorical_accuracy: 0.3566 - val_loss: 1.1093 - val_categorical_accuracy: 0.3342\n",
      "Epoch 5/10\n",
      "50000/50000 [==============================] - 3s 56us/sample - loss: 1.0912 - categorical_accuracy: 0.3591 - val_loss: 1.0976 - val_categorical_accuracy: 0.3396\n",
      "Epoch 6/10\n",
      "50000/50000 [==============================] - 3s 57us/sample - loss: 1.0876 - categorical_accuracy: 0.3601 - val_loss: 1.0934 - val_categorical_accuracy: 0.3444\n",
      "Epoch 7/10\n",
      "50000/50000 [==============================] - 3s 59us/sample - loss: 1.0860 - categorical_accuracy: 0.3617 - val_loss: 1.0914 - val_categorical_accuracy: 0.3486\n",
      "Epoch 8/10\n",
      "50000/50000 [==============================] - 3s 60us/sample - loss: 1.0851 - categorical_accuracy: 0.3611 - val_loss: 1.0907 - val_categorical_accuracy: 0.3487\n",
      "Epoch 9/10\n",
      "50000/50000 [==============================] - 3s 60us/sample - loss: 1.0847 - categorical_accuracy: 0.3615 - val_loss: 1.0906 - val_categorical_accuracy: 0.3485\n",
      "Epoch 10/10\n",
      "50000/50000 [==============================] - 3s 60us/sample - loss: 1.0845 - categorical_accuracy: 0.3610 - val_loss: 1.0905 - val_categorical_accuracy: 0.3486\n"
     ]
    },
    {
     "data": {
      "text/plain": [
       "<tensorflow.python.keras.callbacks.History at 0x29bcca8d400>"
      ]
     },
     "execution_count": 18,
     "metadata": {},
     "output_type": "execute_result"
    }
   ],
   "source": [
    "# Построим с помощью keras такой же однослойный классификатор, как и ранее\n",
    "\n",
    "# Параметры\n",
    "learning_rate = 0.01\n",
    "\n",
    "def lr_schedule(epoch):\n",
    "    return learning_rate / (2 ** epoch)\n",
    "\n",
    "batch_size = 128\n",
    "n_epochs = 10\n",
    "\n",
    "# Создадим линейный слой 3072 -> 10\n",
    "model = tf.keras.Sequential([\n",
    "    tf.keras.layers.Dense(10, input_shape=(3072, )),\n",
    "])\n",
    "\n",
    "# Зададим параметры обучения с помощью model.compile()\n",
    "model.compile(\n",
    "    optimizer=tf.optimizers.SGD(learning_rate=learning_rate),\n",
    "    loss=tf.losses.CategoricalHinge(),\n",
    "    metrics=['categorical_accuracy']\n",
    ")\n",
    "\n",
    "# Не нужно разбивать набор на батчи и создавать цикл по эпохам,\n",
    "# keras все сделает сам, задаем только параметры\n",
    "\n",
    "model.fit(\n",
    "    x=cifar10_train_vectors / 255.0,\n",
    "    y=tf.one_hot(cifar10_train['labels'], depth=10),\n",
    "    batch_size=batch_size,\n",
    "    epochs=n_epochs,\n",
    "    # Тестовые данные в качестве валидации\n",
    "    validation_data=(cifar10_test_vectors / 255.0, tf.one_hot(cifar10_test['labels'], depth=10)),\n",
    "    # callbacks - это набор функций, которые будут вызываться каждую эпоху\n",
    "    callbacks=[tf.keras.callbacks.LearningRateScheduler(schedule=lr_schedule)],\n",
    ")"
   ]
  },
  {
   "cell_type": "code",
   "execution_count": 19,
   "metadata": {},
   "outputs": [
    {
     "name": "stdout",
     "output_type": "stream",
     "text": [
      "Точность на тренировочных данных: 35.58%\n",
      "Точность на тeстовых данных: 34.39%\n"
     ]
    }
   ],
   "source": [
    "# Можно извлечь веса модели и оценик точность самостоятельно\n",
    "weights, bias = model.get_weights()\n",
    "\n",
    "accuracy_train = estimate_accuracy(weights.T, bias, cifar10_train_vectors, cifar10_train['labels'])\n",
    "accuracy_test = estimate_accuracy(weights.T, bias, cifar10_test_vectors, cifar10_test['labels'])\n",
    "\n",
    "print('Точность на тренировочных данных: {:.2f}%'.format(accuracy_train * 100))\n",
    "print('Точность на тeстовых данных: {:.2f}%'.format(accuracy_test * 100))"
   ]
  },
  {
   "cell_type": "code",
   "execution_count": 20,
   "metadata": {},
   "outputs": [],
   "source": [
    "# !Использовать tf.metrics\n",
    "...\n",
    "...\n",
    "..."
   ]
  },
  {
   "cell_type": "markdown",
   "metadata": {},
   "source": [
    "Чаще в качестве функции потерь для задачи определения меток взаимоисключающих классов используется перекрестная энтропия (**cross-entropy loss**). Метки классов - это вектор нулей и единиц (например, кошка в CIFAR-10 - [0, 0, 0, 1, 0, 0, 0, 0, 0, 0]), который можно интерпретировать как вероятность принадлежности к классу, поэтому удобно, когда выходные значения нейросети тоже представляют собой вероятности.\n",
    "\n",
    "Функция **softmax** позволяет отнормировать предсказания линейного слоя ($y$) и получить подобие вероятностного распределения:\n",
    "\n",
    "$$z = \\sigma(y)_i = \\frac{e^{y_i}}{\\sum\\limits_{k=1}^K e^{y_k}}$$\n",
    "\n",
    "**Cross-entropy loss** - это функция потерь, которая исользует истинное и предсказанное распределение классов:\n",
    "\n",
    "$$L = \\frac{1}{N} \\sum\\limits_{n=1}^N H(p_n, q_n)\n",
    "    = -\\frac{1}{N} \\sum\\limits_{n=1}^N [z_n \\log \\hat{z}_n + (1 - z_n)\\log(1 - \\hat{z}_n)],$$\n",
    "    \n",
    "где $p$ - истинное распределение классов, $q$ - распределение, предсказанное моделью, $N$ - размер выборки. Чем больше предсказанная вероятность для истинного класса, тем меньше значение функции потерь. Однако, как видно из формулы, если модель предскажет 1 там, где должен быть 0, функция потерь $L = \\infty$. Это приводит к тому, что модели, обученные с помощью перекрестной энтропии, никогда не уверенны до конца в своих предсказаниях."
   ]
  },
  {
   "cell_type": "code",
   "execution_count": 21,
   "metadata": {},
   "outputs": [
    {
     "name": "stdout",
     "output_type": "stream",
     "text": [
      "Train on 50000 samples, validate on 10000 samples\n",
      "Epoch 1/10\n",
      "50000/50000 [==============================] - 3s 57us/sample - loss: 1.9110 - categorical_accuracy: 0.3339 - val_loss: 1.8277 - val_categorical_accuracy: 0.3698\n",
      "Epoch 2/10\n",
      "50000/50000 [==============================] - 3s 53us/sample - loss: 1.8039 - categorical_accuracy: 0.3812 - val_loss: 1.7888 - val_categorical_accuracy: 0.3847\n",
      "Epoch 3/10\n",
      "50000/50000 [==============================] - 3s 54us/sample - loss: 1.7831 - categorical_accuracy: 0.3913 - val_loss: 1.7832 - val_categorical_accuracy: 0.3861\n",
      "Epoch 4/10\n",
      "50000/50000 [==============================] - 3s 54us/sample - loss: 1.7753 - categorical_accuracy: 0.3941 - val_loss: 1.7749 - val_categorical_accuracy: 0.3925\n",
      "Epoch 5/10\n",
      "50000/50000 [==============================] - 3s 55us/sample - loss: 1.7713 - categorical_accuracy: 0.3957 - val_loss: 1.7730 - val_categorical_accuracy: 0.3921\n",
      "Epoch 6/10\n",
      "50000/50000 [==============================] - 3s 54us/sample - loss: 1.7694 - categorical_accuracy: 0.3972 - val_loss: 1.7721 - val_categorical_accuracy: 0.3927\n",
      "Epoch 7/10\n",
      "50000/50000 [==============================] - 3s 52us/sample - loss: 1.7685 - categorical_accuracy: 0.3969 - val_loss: 1.7717 - val_categorical_accuracy: 0.3915\n",
      "Epoch 8/10\n",
      "50000/50000 [==============================] - 3s 50us/sample - loss: 1.7680 - categorical_accuracy: 0.3973 - val_loss: 1.7714 - val_categorical_accuracy: 0.3927\n",
      "Epoch 9/10\n",
      "50000/50000 [==============================] - 3s 51us/sample - loss: 1.7678 - categorical_accuracy: 0.3977 - val_loss: 1.7713 - val_categorical_accuracy: 0.3926\n",
      "Epoch 10/10\n",
      "50000/50000 [==============================] - 3s 51us/sample - loss: 1.7677 - categorical_accuracy: 0.3978 - val_loss: 1.7713 - val_categorical_accuracy: 0.3924\n"
     ]
    },
    {
     "data": {
      "text/plain": [
       "<tensorflow.python.keras.callbacks.History at 0x29beb56c4e0>"
      ]
     },
     "execution_count": 21,
     "metadata": {},
     "output_type": "execute_result"
    }
   ],
   "source": [
    "# Однослойный классификатор с cross-entropy loss\n",
    "# Дополнительно указываем, что к выходам линейного слоя должна быть применена\n",
    "# функция softmax\n",
    "learning_rate = 5.\n",
    "\n",
    "# Чтобы классификатор бысрее обучался, а также для того чтобы получить\n",
    "# красивые картинки весов, вычтем среднее и разделим на дисперсию\n",
    "mean, var = cifar10_train_vectors.mean(), cifar10_train_vectors.var()\n",
    "\n",
    "model = tf.keras.Sequential([\n",
    "    tf.keras.layers.Dense(10, input_shape=(3072, ), activation='softmax'), \n",
    "])\n",
    "\n",
    "model.compile(\n",
    "    optimizer=tf.optimizers.SGD(learning_rate=learning_rate),\n",
    "    # изменяем функцию потерь\n",
    "    loss=tf.losses.CategoricalCrossentropy(),\n",
    "    metrics=['categorical_accuracy']\n",
    ")\n",
    "\n",
    "model.fit(\n",
    "    x=(cifar10_train_vectors - mean) / var,\n",
    "    # Как и для Hinge loss, здесь ожидается, что метки классов закодированы\n",
    "    y=tf.one_hot(cifar10_train['labels'], depth=10),\n",
    "    batch_size=batch_size,\n",
    "    epochs=n_epochs,\n",
    "    validation_data=((cifar10_test_vectors - mean) / var, tf.one_hot(cifar10_test['labels'], depth=10)),\n",
    "    callbacks=[tf.keras.callbacks.LearningRateScheduler(schedule=lr_schedule)],\n",
    ")"
   ]
  },
  {
   "cell_type": "code",
   "execution_count": 22,
   "metadata": {},
   "outputs": [],
   "source": [
    "def renormalize(x):\n",
    "    shape = x.shape\n",
    "    x = x.reshape(shape[0], -1)\n",
    "    x = ((x - x.min(axis=1, keepdims=True))\n",
    "         / x.ptp(axis=1, keepdims=True) * 255.0).astype(np.uint8)\n",
    "    return x.reshape(shape)"
   ]
  },
  {
   "cell_type": "code",
   "execution_count": 23,
   "metadata": {},
   "outputs": [
    {
     "data": {
      "image/png": "[encoded data removed]",
      "text/plain": [
       "<Figure size 864x216 with 10 Axes>"
      ]
     },
     "metadata": {
      "needs_background": "light"
     },
     "output_type": "display_data"
    }
   ],
   "source": [
    "# Посмотрим на изображение весов модели\n",
    "weights = model.get_weights()[0]  # 3072 x 10\n",
    "weights = weights.T  # 10 x 3072\n",
    "# Отнормируем веса в диапазон [0..255]\n",
    "weights = renormalize(weights)\n",
    "# 3072 = 32х32х3\n",
    "weights = weights.reshape(10, 32, 32, 3)\n",
    "plot_cifar_imgs(weights, np.arange(10))"
   ]
  },
  {
   "cell_type": "markdown",
   "metadata": {},
   "source": [
    "Видно, что классификатор пытается уловить средние цвета и форму изображений разных классов."
   ]
  },
  {
   "cell_type": "markdown",
   "metadata": {},
   "source": [
    "## Обучения двухслойной сети\n",
    "Линейный классификатор можно интерпретировать как поверхность, разделяющую разные классы в многомерном прострастве всех возможноых пикселей.\n",
    "\n",
    "![linear_separation](img/linear_separation.png)\n",
    "\n",
    "Чтобы получить поверхности более сложной формы используют несколько линейный слоев, причем к выходу каждого слоя применятся нелинейная функция - активация. Если не применять активацию, то сколько бы линейных слоев мы не сделали, все они могут быть выражены одним линейным слоем. Понятие искуственной нейронной сети применяют именно к набору линейных слоев с активациями, по аналогии с нейронами у животных.\n",
    "\n",
    "Разные функции активации:\n",
    "\n",
    "![activations](img/activations.png)"
   ]
  },
  {
   "cell_type": "code",
   "execution_count": 24,
   "metadata": {},
   "outputs": [
    {
     "name": "stdout",
     "output_type": "stream",
     "text": [
      "Train on 50000 samples, validate on 10000 samples\n",
      "Epoch 1/10\n",
      "50000/50000 [==============================] - 3s 58us/sample - loss: 2.0365 - categorical_accuracy: 0.2589 - val_loss: 1.8587 - val_categorical_accuracy: 0.3302\n",
      "Epoch 2/10\n",
      "50000/50000 [==============================] - 3s 54us/sample - loss: 1.7602 - categorical_accuracy: 0.3716 - val_loss: 1.7270 - val_categorical_accuracy: 0.3835\n",
      "Epoch 3/10\n",
      "50000/50000 [==============================] - 3s 53us/sample - loss: 1.6788 - categorical_accuracy: 0.4088 - val_loss: 1.6867 - val_categorical_accuracy: 0.3954\n",
      "Epoch 4/10\n",
      "50000/50000 [==============================] - 3s 57us/sample - loss: 1.6419 - categorical_accuracy: 0.4245 - val_loss: 1.6407 - val_categorical_accuracy: 0.4200\n",
      "Epoch 5/10\n",
      "50000/50000 [==============================] - 3s 61us/sample - loss: 1.6236 - categorical_accuracy: 0.4332 - val_loss: 1.6243 - val_categorical_accuracy: 0.4254\n",
      "Epoch 6/10\n",
      "50000/50000 [==============================] - 3s 57us/sample - loss: 1.6148 - categorical_accuracy: 0.4365 - val_loss: 1.6201 - val_categorical_accuracy: 0.4282\n",
      "Epoch 7/10\n",
      "50000/50000 [==============================] - 3s 56us/sample - loss: 1.6105 - categorical_accuracy: 0.4389 - val_loss: 1.6173 - val_categorical_accuracy: 0.4309\n",
      "Epoch 8/10\n",
      "50000/50000 [==============================] - 3s 55us/sample - loss: 1.6084 - categorical_accuracy: 0.4400 - val_loss: 1.6158 - val_categorical_accuracy: 0.4296\n",
      "Epoch 9/10\n",
      "50000/50000 [==============================] - 3s 55us/sample - loss: 1.6072 - categorical_accuracy: 0.4404 - val_loss: 1.6152 - val_categorical_accuracy: 0.4305\n",
      "Epoch 10/10\n",
      "50000/50000 [==============================] - 3s 55us/sample - loss: 1.6065 - categorical_accuracy: 0.4405 - val_loss: 1.6151 - val_categorical_accuracy: 0.4301\n"
     ]
    },
    {
     "data": {
      "text/plain": [
       "<tensorflow.python.keras.callbacks.History at 0x29d0a3cb438>"
      ]
     },
     "execution_count": 24,
     "metadata": {},
     "output_type": "execute_result"
    }
   ],
   "source": [
    "# Двухслойная нейросеть\n",
    "learning_rate = 0.1\n",
    "hidden_layer = 256  # размерность выходов первого слоя сети (их называют скрытыми)\n",
    "\n",
    "model = tf.keras.Sequential([\n",
    "    # Добавляем дополнительный слой [3072 -> 256] с активацией ReLU (Rectifier Linear Unit)\n",
    "    tf.keras.layers.Dense(256, input_shape=(3072, ), activation='relu'), \n",
    "    # [256 -> 10]\n",
    "    tf.keras.layers.Dense(10, activation='softmax'),     \n",
    "])\n",
    "\n",
    "model.compile(\n",
    "    optimizer=tf.optimizers.SGD(learning_rate=learning_rate),\n",
    "    loss=tf.losses.CategoricalCrossentropy(),\n",
    "    metrics=['categorical_accuracy']\n",
    ")\n",
    "\n",
    "model.fit(\n",
    "    x=(cifar10_train_vectors / 255.),\n",
    "    y=tf.one_hot(cifar10_train['labels'], depth=10),\n",
    "    batch_size=batch_size,\n",
    "    epochs=n_epochs,\n",
    "    validation_data=(cifar10_test_vectors / 255., tf.one_hot(cifar10_test['labels'], depth=10)),\n",
    "    callbacks=[tf.keras.callbacks.LearningRateScheduler(schedule=lr_schedule)],\n",
    ")"
   ]
  },
  {
   "cell_type": "markdown",
   "metadata": {},
   "source": [
    "По мере роста глубины сети и размерности скрытых слоев, точность будет немного возрастать и выйдет на плато. Такие сети, где все нейроны соседних слоев связаны между собой, называют полносвязными (**Fully-connected nets**).\n",
    "\n",
    "![fully_connected](img/fully_connected.png)\n",
    "\n",
    "Качество предсказаний такой модели мало отличается от деревьев решений (если не меньше), поскольку все пиксели изображений рассматриваются по отдельности. Если мы перемешаем все пиксели на всех изображениях одинаковым образом, качество предсказаний не измениться.\n",
    "\n",
    "Чтобы включить в сеть информацию о простраственной связности пикселей, используют сверточные нейросети."
   ]
  },
  {
   "cell_type": "markdown",
   "metadata": {},
   "source": [
    "## Сверточные нейросети\n",
    "\n",
    "В основе сверточных сетей лежит идея совместного использования весовых коэффициентов. Изображение сворачивают с фильтром заданного размера, веса которого одинаковы для всех дискретных положений свертки. Вся операция характеризуется шириной, высотой и глубиной фильтров (если мы имеем дело с двумерными изображениями), а также смещением положения фильтра на каждом шаге свертки и поведением на границах изображения.\n",
    "\n",
    "![convolution](img/convolution.gif)\n",
    "\n",
    "В данном случае мы имеем фильтр с размерностью 3x3x1, применяемому к изображению 5х5х1 со смещением (**strides**), равным двум и добавлением пикселей-заполнителей по краям (**padding**). Кроме того, варьируется количество самих фильтров. В зависимости от значений всех этих параметров, на выходе **сверточного слоя** сети получаются матрицы признаков (**feature maps**) разной размерности. Например, изображением имеет размерность 32х32х3; тогда после применения 5 фильтров с размерами 7х7 и шагом 5, выходная матрица признаков будет иметь размерость 6х6х5:\n",
    "\n",
    "$$Размер~выхода = \\frac{N - F}{stride} + 1 = \\frac{32 - 7}{5} + 1 = 6$$\n",
    "\n",
    "Здесь нам не нужно дополнительно заполнение по краям, так как все фильтры умещаются в изображение с заданным шагом. По мере мере роста числа последовательных слоев, на каждый нейрон будет приходится все больше информации исходного изображения. \n",
    "\n",
    "![receptive_field](img/receptive_field.png)\n",
    "\n",
    "Таким образом, веса нейрона кодируют базовое изображения и мы получаем сжатое представление об информации на изображении. Начальные сверточные слои захватывают информацию о текстурах на избражении (брусчатка/шерсть/кирпичи), а финальные слои - информацию о содержании изображения (улица/кошка/дом).\n",
    "\n",
    "Часто в сверточных сетях размерности по ширине и высоте сохраняются и меняется только число фильтров (либо и оно тоже остается постоянным, а слой только увеличивает глубину сети).\n",
    "\n",
    "Несмотря на то, что сети называют сверточными, в практических приложениях используется операция кросс-корреляции (фильтры в этом случае не перевернуты)."
   ]
  },
  {
   "cell_type": "code",
   "execution_count": 25,
   "metadata": {},
   "outputs": [],
   "source": [
    "# Теперь на вход сети будут подоваться не векторы длиной 3072, а изображения\n",
    "# Вычтем среднее и отнормируем их\n",
    "mean, std = cifar10_train['data'].mean(), cifar10_train['data'].var()\n",
    "cifar10_train_norm_img = (cifar10_train['data'] - mean) / std\n",
    "cifar10_test_norm_img = (cifar10_test['data'] - mean) / std"
   ]
  },
  {
   "cell_type": "code",
   "execution_count": 26,
   "metadata": {},
   "outputs": [
    {
     "name": "stdout",
     "output_type": "stream",
     "text": [
      "Train on 50000 samples, validate on 10000 samples\n",
      "Epoch 1/10\n",
      "50000/50000 [==============================] - 7s 133us/sample - loss: 1.4945 - categorical_accuracy: 0.4633 - val_loss: 1.2970 - val_categorical_accuracy: 0.5419\n",
      "Epoch 2/10\n",
      "50000/50000 [==============================] - 5s 98us/sample - loss: 1.1128 - categorical_accuracy: 0.6061 - val_loss: 1.1307 - val_categorical_accuracy: 0.6032\n",
      "Epoch 3/10\n",
      "50000/50000 [==============================] - 5s 97us/sample - loss: 0.9056 - categorical_accuracy: 0.6807 - val_loss: 1.0630 - val_categorical_accuracy: 0.6321\n",
      "Epoch 4/10\n",
      "50000/50000 [==============================] - 5s 96us/sample - loss: 0.7753 - categorical_accuracy: 0.7304 - val_loss: 1.0454 - val_categorical_accuracy: 0.6438\n",
      "Epoch 5/10\n",
      "50000/50000 [==============================] - 5s 97us/sample - loss: 0.7014 - categorical_accuracy: 0.7587 - val_loss: 1.0361 - val_categorical_accuracy: 0.6507\n",
      "Epoch 6/10\n",
      "50000/50000 [==============================] - 5s 96us/sample - loss: 0.6616 - categorical_accuracy: 0.7735 - val_loss: 1.0343 - val_categorical_accuracy: 0.6517\n",
      "Epoch 7/10\n",
      "50000/50000 [==============================] - 5s 97us/sample - loss: 0.6409 - categorical_accuracy: 0.7818 - val_loss: 1.0345 - val_categorical_accuracy: 0.6529\n",
      "Epoch 8/10\n",
      "50000/50000 [==============================] - 5s 97us/sample - loss: 0.6306 - categorical_accuracy: 0.7859 - val_loss: 1.0353 - val_categorical_accuracy: 0.6524\n",
      "Epoch 9/10\n",
      "50000/50000 [==============================] - 5s 93us/sample - loss: 0.6252 - categorical_accuracy: 0.7883 - val_loss: 1.0360 - val_categorical_accuracy: 0.6534\n",
      "Epoch 10/10\n",
      "50000/50000 [==============================] - 5s 92us/sample - loss: 0.6225 - categorical_accuracy: 0.7888 - val_loss: 1.0363 - val_categorical_accuracy: 0.6536\n"
     ]
    },
    {
     "data": {
      "text/plain": [
       "<tensorflow.python.keras.callbacks.History at 0x29d62547e80>"
      ]
     },
     "execution_count": 26,
     "metadata": {},
     "output_type": "execute_result"
    }
   ],
   "source": [
    "# Tensorflow содержит модуль tf.nn, в котором реализованы сверточные слои tf.nn.conv2d\n",
    "# tf.keras также включает необходимые классы\n",
    "\n",
    "learning_rate = 0.01\n",
    "\n",
    "model = tf.keras.Sequential([\n",
    "    # Задаем сверточный слой 7x7, на выходе получаем 26x26x32 нейрона\n",
    "    tf.keras.layers.Conv2D(filters=32, kernel_size=(7, 7), strides=(1, 1), activation='relu',\n",
    "                           input_shape=(32, 32, 3)),\n",
    "    # Задаем pooling слой. По умолчанию 2x2, следовательно на выходе 13x13x32\n",
    "    tf.keras.layers.MaxPooling2D(),\n",
    "    \n",
    "    tf.keras.layers.Flatten(),\n",
    "    tf.keras.layers.Dense(512, activation='relu'), \n",
    "    # Финальный слой обычно делают полносвязным, но это не обязательно\n",
    "    # (необходимо, чтобы количество выходных нейронов было равно числу классов)\n",
    "    tf.keras.layers.Dense(10, activation='softmax'),     \n",
    "])\n",
    "\n",
    "model.compile(\n",
    "    # Воспользуемся более продвинутым оптимизатором\n",
    "    # Adam (adaptive moment estimation) - это разновидность SGD,\n",
    "    # включающая момент (инерция изменения градиента)\n",
    "    # и подстройку значения градиента под отдельные параметры\n",
    "    optimizer=tf.optimizers.Adam(learning_rate=learning_rate),\n",
    "    loss=tf.losses.CategoricalCrossentropy(),\n",
    "    metrics=['categorical_accuracy']\n",
    ")\n",
    "\n",
    "model.fit(\n",
    "    x=cifar10_train_norm_img,\n",
    "    y=tf.one_hot(cifar10_train['labels'], depth=10),\n",
    "    batch_size=batch_size,\n",
    "    epochs=n_epochs,\n",
    "    validation_data=(cifar10_test_norm_img, tf.one_hot(cifar10_test['labels'], depth=10)),\n",
    "    callbacks=[tf.keras.callbacks.LearningRateScheduler(schedule=lr_schedule)],\n",
    ")"
   ]
  },
  {
   "cell_type": "code",
   "execution_count": 27,
   "metadata": {},
   "outputs": [
    {
     "name": "stdout",
     "output_type": "stream",
     "text": [
      "Размерность весов первого слоя: (7, 7, 3, 32)\n"
     ]
    },
    {
     "data": {
      "image/png": "[encoded data removed]",
      "text/plain": [
       "<Figure size 432x288 with 32 Axes>"
      ]
     },
     "metadata": {
      "needs_background": "light"
     },
     "output_type": "display_data"
    }
   ],
   "source": [
    "# Постоим веса\n",
    "weights = model.get_weights()[0]\n",
    "print('Размерность весов первого слоя:', weights.shape)\n",
    "\n",
    "weights = weights.transpose(3, 0, 1, 2)\n",
    "weights = renormalize(weights)\n",
    "\n",
    "fig, axes = plt.subplots(4, 8, figsize=(6, 4))\n",
    "axes = axes.ravel()\n",
    "for ax, w in zip(axes, weights):\n",
    "    ax.imshow(w.astype('uint8'))\n",
    "    ax.axis('off')\n"
   ]
  },
  {
   "cell_type": "markdown",
   "metadata": {},
   "source": [
    "Сеть даже с одним сверточным слоем достаточно быстро набирает хорошую точность на тренировочный выборке, по сравнению с полносвязной сетью. Однако разница в точности предсказаний на тренеровочных и тестовых данных возросла. Поэтому необходима дополнительная регуляризация."
   ]
  },
  {
   "cell_type": "markdown",
   "metadata": {},
   "source": [
    "## Задачи, решаемые сверточными нейросетями\n",
    "- Классификация изображений\n",
    "- Сегментация (instance и semantic segmentation)\n",
    "- Подсчет объектов"
   ]
  },
  {
   "cell_type": "code",
   "execution_count": null,
   "metadata": {},
   "outputs": [],
   "source": []
  }
 ],
 "metadata": {
  "kernelspec": {
   "display_name": "Python 3",
   "language": "python",
   "name": "python3"
  },
  "language_info": {
   "codemirror_mode": {
    "name": "ipython",
    "version": 3
   },
   "file_extension": ".py",
   "mimetype": "text/x-python",
   "name": "python",
   "nbconvert_exporter": "python",
   "pygments_lexer": "ipython3",
   "version": "3.7.3"
  }
 },
 "nbformat": 4,
 "nbformat_minor": 2
}
