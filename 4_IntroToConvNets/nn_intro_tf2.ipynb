{
 "cells": [
  {
   "cell_type": "markdown",
   "metadata": {},
   "source": [
    "# Семинар по методам интеллектуального анализа данных\n",
    "## Введение в сверточные нейронные сети и библиотеку Tensorflow 2.0"
   ]
  },
  {
   "cell_type": "markdown",
   "metadata": {},
   "source": [
    "Содержание\n",
    "- Задача классификации изображений\n",
    "- Линейный классификатор\n",
    "- Функция потерь, обучение линейного классификатора\n",
    "- Сверточный слой нейросети\n",
    "- Задачи, решаемые сверточными нейросетями\n",
    "\n",
    "Отличный курс по нейросетям (видео лекций и материалы по курсу):\n",
    "\n",
    "http://cs231n.stanford.edu/ CS231n: Convolutional Neural Networks for Visual Recognition (Stanford)"
   ]
  },
  {
   "cell_type": "markdown",
   "metadata": {},
   "source": [
    "### Библиотека Tensorflow"
   ]
  },
  {
   "cell_type": "markdown",
   "metadata": {},
   "source": [
    "<img align=left src=\"img/tf_logo.png\">"
   ]
  },
  {
   "cell_type": "markdown",
   "metadata": {},
   "source": [
    "https://www.tensorflow.org/\n",
    "\n",
    "Другие библиотеки для обучения нейросетей:\n",
    "- PyTorch https://pytorch.org/\n",
    "- Apache MXNet https://mxnet.apache.org/\n",
    "- Caffe2 https://caffe2.ai/"
   ]
  },
  {
   "cell_type": "code",
   "execution_count": 1,
   "metadata": {},
   "outputs": [
    {
     "name": "stdout",
     "output_type": "stream",
     "text": [
      "Python version: 3.7.3 (default, Mar 27 2019, 17:13:21) [MSC v.1915 64 bit (AMD64)]\n",
      "Tensorflow version: 2.0.0-alpha0\n",
      "Numpy version: 1.16.2\n",
      "Scikit-learn version: 0.20.3\n",
      "Matplotlib version 3.0.3\n"
     ]
    }
   ],
   "source": [
    "%matplotlib inline\n",
    "import sys\n",
    "import math\n",
    "import tensorflow as tf\n",
    "import pickle\n",
    "import numpy as np\n",
    "import sklearn\n",
    "from pathlib import Path\n",
    "import matplotlib\n",
    "from matplotlib import pyplot as plt\n",
    "from sklearn.metrics import accuracy_score\n",
    "\n",
    "print('Python version:', sys.version)\n",
    "print('Tensorflow version:', tf.__version__)\n",
    "print('Numpy version:', np.__version__)\n",
    "print('Scikit-learn version:', sklearn.__version__)\n",
    "print('Matplotlib version', matplotlib.__version__)"
   ]
  },
  {
   "cell_type": "code",
   "execution_count": 2,
   "metadata": {},
   "outputs": [],
   "source": [
    "# PATHS\n",
    "PATH_CIFAR = Path('data') / 'cifar-10-batches-py'"
   ]
  },
  {
   "cell_type": "markdown",
   "metadata": {},
   "source": [
    "### Задача классификации изображений\n",
    "\n",
    "Пусть имеется набор изображений с известными метками классов (кошка, собака, машина и т.п.). Необходимо составить алгоритм, который будет определять метку класса для нового изображения. Наиболее известным набором размеченных изображений, на котором сравнивается качество разных алгоримов, является ImageNet, содержащий более 14 миллионов картинок, разделенных на 20000 классов.\n",
    "\n",
    "Примеры изображений ImageNet:\n",
    "\n",
    "![Imagenet_sample1](img/imagenet_sample1.jpg)\n",
    "![Imagenet_sample1](img/imagenet_sample2.jpg)\n",
    "\n",
    "Ежегодно проводится соревнование ImageNet Large Scale Visual Recognition Challenge (ILSVRC), где используется малая часть ImageNet (1.4 млн изображений, 1000 классов). В настоящее время нейросети показывают наилучшие результаты при решении этой задачи.\n",
    "\n",
    "![Imagenet_winner_history](img/ILSVRC_winners.png)\n",
    "\n",
    "- Deng et al, ImageNet: A Large-Scale Hierarchical Image Database, 2009."
   ]
  },
  {
   "cell_type": "markdown",
   "metadata": {},
   "source": [
    "Сети для классификации изображений ImageNet тренируются несколько дней. Чтобы уменьшить объем вычислений, мы будем использовать набор данных поменьше - **CIFAR**, который включает 10 классов, 50000 тренировочных и 10000 тестовых изображений.\n",
    "\n",
    "CIFAR-10 можно загрузить по ссылке: https://www.cs.toronto.edu/~kriz/cifar-10-python.tar.gz и необходимо распаковать в папку data.\n",
    "\n",
    "Изображения из набора данных CIFAR-10:\n",
    "\n",
    "![CIRAR](img/cifar_classes.png)"
   ]
  },
  {
   "cell_type": "code",
   "execution_count": 3,
   "metadata": {},
   "outputs": [],
   "source": [
    "def get_cifar10():\n",
    "    CIFAR_DIM = (3, 32, 32)\n",
    "    path_meta = PATH_CIFAR / 'batches.meta'\n",
    "    paths_batches = [\n",
    "        PATH_CIFAR / 'data_batch_1',\n",
    "        PATH_CIFAR / 'data_batch_2',\n",
    "        PATH_CIFAR / 'data_batch_3',\n",
    "        PATH_CIFAR / 'data_batch_4',\n",
    "        PATH_CIFAR / 'data_batch_5',    \n",
    "    ]\n",
    "    path_test = PATH_CIFAR / 'test_batch'\n",
    "    \n",
    "    # Train\n",
    "    cifar10_train = {'data': [], 'labels': []}\n",
    "    for path in paths_batches:\n",
    "        with open(path, 'rb') as file:\n",
    "            x = pickle.load(file, encoding='bytes')\n",
    "            cifar10_train['data'].append(x[b'data'])\n",
    "            cifar10_train['labels'].append(x[b'labels'])\n",
    "    cifar10_train['data'] = np.concatenate(cifar10_train['data'])\n",
    "    cifar10_train['data'] = cifar10_train['data'].reshape(-1, *CIFAR_DIM).transpose(0, 2, 3, 1)\n",
    "    cifar10_train['labels'] = np.concatenate(cifar10_train['labels'])\n",
    "    \n",
    "    # Test\n",
    "    cifar10_test = {}\n",
    "    with open(path_test, 'rb') as file:\n",
    "        x = pickle.load(file, encoding='bytes')\n",
    "        cifar10_test['data'] = x[b'data'].reshape(-1, *CIFAR_DIM).transpose(0, 2, 3, 1)\n",
    "        cifar10_test['labels'] = np.array(x[b'labels'], dtype=np.int32)\n",
    "    \n",
    "    # Class names\n",
    "    with open(path_meta, 'rb') as file:\n",
    "        class_names = [bytes_name.decode() for bytes_name \n",
    "                       in pickle.load(file, encoding='bytes')[b'label_names']]\n",
    "    \n",
    "    return cifar10_train, cifar10_test, class_names"
   ]
  },
  {
   "cell_type": "code",
   "execution_count": 4,
   "metadata": {},
   "outputs": [
    {
     "name": "stdout",
     "output_type": "stream",
     "text": [
      "Имена классов: ['airplane', 'automobile', 'bird', 'cat', 'deer', 'dog', 'frog', 'horse', 'ship', 'truck']\n",
      "Размер тренировочных данных: 50000\n",
      "Размер тестовых данных: 10000\n",
      "Размер изображения: 32 (32x32x3)\n",
      "Количество пикселей на изображении: 3072\n"
     ]
    }
   ],
   "source": [
    "# Загрузим датасет CIFAR10\n",
    "cifar10_train, cifar10_test, class_names = get_cifar10()\n",
    "\n",
    "cifar10_train_size = cifar10_train['data'].shape[0]\n",
    "cifar10_test_size = cifar10_test['data'].shape[0]\n",
    "\n",
    "# Нам также понадобяться изображения в виде вектора пикселей\n",
    "# длиной 3072 = 32x32x3\n",
    "cifar10_train_vectors = cifar10_train['data'].reshape(cifar10_train_size, -1)\n",
    "cifar10_test_vectors = cifar10_test['data'].reshape(cifar10_test_size, -1)\n",
    "\n",
    "print('Имена классов:', class_names)\n",
    "print('Размер тренировочных данных:', cifar10_train_size)\n",
    "assert cifar10_train_size == cifar10_train['labels'].size\n",
    "print('Размер тестовых данных:', cifar10_test_size)\n",
    "assert cifar10_test_size == cifar10_test['labels'].size\n",
    "print('Размер изображения: {} (32x32x3)'.format(cifar10_train['data'].shape[1]))\n",
    "print('Количество пикселей на изображении: {}'.format(np.product(cifar10_train['data'].shape[1:])))"
   ]
  },
  {
   "cell_type": "code",
   "execution_count": 5,
   "metadata": {},
   "outputs": [
    {
     "data": {
      "image/png": "[encoded data removed]",
      "text/plain": [
       "<Figure size 864x216 with 10 Axes>"
      ]
     },
     "metadata": {
      "needs_background": "light"
     },
     "output_type": "display_data"
    }
   ],
   "source": [
    "# Построим 10 случайных изображений CIFAR\n",
    "def plot_cifar_imgs(imgs, labels, interpolation=None):\n",
    "    plt.figure(figsize=(len(imgs) + 2, 3))\n",
    "    for img_num, (img, lbl) in enumerate(zip(imgs, labels), 1):\n",
    "        plt.subplot(1, len(imgs), img_num)\n",
    "        plt.imshow(img, interpolation=interpolation)\n",
    "        plt.title(class_names[lbl])\n",
    "        plt.axis('off')\n",
    "\n",
    "show_idxs = np.random.randint(0, cifar10_train_size, size=10)\n",
    "images = [cifar10_train['data'][idx] for idx in show_idxs]\n",
    "labels = [cifar10_train['labels'][idx] for idx in show_idxs]\n",
    "plot_cifar_imgs(images, labels)"
   ]
  },
  {
   "cell_type": "code",
   "execution_count": 6,
   "metadata": {},
   "outputs": [
    {
     "name": "stdout",
     "output_type": "stream",
     "text": [
      "[5000 5000 5000 5000 5000 5000 5000 5000 5000 5000]\n",
      "[1000 1000 1000 1000 1000 1000 1000 1000 1000 1000]\n"
     ]
    }
   ],
   "source": [
    "# Посмотрим на распредление классов\n",
    "print(np.unique(cifar10_train['labels'], return_counts=True)[1])\n",
    "print(np.unique(cifar10_test['labels'], return_counts=True)[1])"
   ]
  },
  {
   "cell_type": "markdown",
   "metadata": {},
   "source": [
    "Видно, что изображения CIFAR10 распределены по классам равномерно."
   ]
  },
  {
   "cell_type": "markdown",
   "metadata": {},
   "source": [
    "### Обучение однослойной нейросети\n",
    "В основе нейросети лежит линейная функция (простейший классификатор):\n",
    "\n",
    "$$y = Wx + b,$$\n",
    "\n",
    "где $x$ - входной вектор $\\mathbb{R}^N$, $y$ - выходной вектор  $\\mathbb{R}^M$, $W$ - матрица весов $\\mathbb{R}^{M \\times N}$, $b$ - вектор смещений $\\mathbb{R}^M$."
   ]
  },
  {
   "cell_type": "code",
   "execution_count": 7,
   "metadata": {},
   "outputs": [
    {
     "data": {
      "image/png": "[encoded data removed]",
      "text/plain": [
       "<Figure size 360x216 with 3 Axes>"
      ]
     },
     "metadata": {
      "needs_background": "light"
     },
     "output_type": "display_data"
    }
   ],
   "source": [
    "# Возмем 3 изображения разных классов\n",
    "labels = [3, 6, 8]\n",
    "images = np.stack([cifar10_train['data'][np.where(cifar10_train['labels'] == lbl)[0][0]] for lbl in labels])\n",
    "plot_cifar_imgs(images, labels)"
   ]
  },
  {
   "cell_type": "code",
   "execution_count": 8,
   "metadata": {},
   "outputs": [],
   "source": [
    "# Представим изображения в виде векторов длинной 3072 = 32x32x3\n",
    "images = images.reshape(3, -1)"
   ]
  },
  {
   "cell_type": "code",
   "execution_count": 9,
   "metadata": {},
   "outputs": [],
   "source": [
    "# Создадим случайную матрицу весов и вектор смещений\n",
    "n = images[0].shape[0]\n",
    "m = 10  # 10 классов\n",
    "weights = tf.random.normal((m, n)) / 10\n",
    "bias = tf.random.normal((m, ))"
   ]
  },
  {
   "cell_type": "code",
   "execution_count": 10,
   "metadata": {},
   "outputs": [
    {
     "name": "stdout",
     "output_type": "stream",
     "text": [
      "tf.Tensor(\n",
      "[[  628.1846     469.71124   -311.75424   -599.56866   1051.7388\n",
      "    415.46646   -584.81775   -469.52762    188.28607   -407.80777 ]\n",
      " [ -295.22308    -34.645424  -576.3702    -613.0585    1091.5469\n",
      "    113.88597   -251.83186   -371.55908   -306.05368    -30.687168]\n",
      " [  563.644      169.40326  -1368.1985    -580.75696   1981.9872\n",
      "    105.22322   -394.27127  -1232.8837    -924.8567    -735.95557 ]], shape=(3, 10), dtype=float32)\n"
     ]
    }
   ],
   "source": [
    "# Применим линейную функцию к изображениям\n",
    "# images - numpy массив, weights - tensorflow массив, но их можно перемножать\n",
    "y = images @ tf.transpose(weights) + bias  # @ - умножение матриц (== tf.matmul)\n",
    "print(y)  # получается tensorflow массив"
   ]
  },
  {
   "cell_type": "markdown",
   "metadata": {},
   "source": [
    "Каждое число (или score) можно интерпретировать, как принадлежность каждого изображения к одному из 10 классов. Тот индекс, где score наибольший и есть предсказанный класс."
   ]
  },
  {
   "cell_type": "code",
   "execution_count": 11,
   "metadata": {},
   "outputs": [
    {
     "name": "stdout",
     "output_type": "stream",
     "text": [
      "Предсказание для изображения cat: deer\n",
      "Предсказание для изображения frog: deer\n",
      "Предсказание для изображения ship: deer\n"
     ]
    }
   ],
   "source": [
    "predictions = tf.argmax(y, axis=1)\n",
    "for true_label, prediction in zip(labels, predictions):\n",
    "    print('Предсказание для изображения {}: {}'\n",
    "          ''.format(class_names[true_label], class_names[prediction]))"
   ]
  },
  {
   "cell_type": "code",
   "execution_count": 12,
   "metadata": {},
   "outputs": [],
   "source": [
    "# Введем метрику для оценки качества предсказаний\n",
    "def estimate_accuracy(input_weights, input_bias, input_data, input_labels):\n",
    "    y = input_data @ tf.transpose(input_weights) + bias\n",
    "    return accuracy_score(input_labels, tf.argmax(y, axis=1))"
   ]
  },
  {
   "cell_type": "code",
   "execution_count": 13,
   "metadata": {},
   "outputs": [
    {
     "name": "stdout",
     "output_type": "stream",
     "text": [
      "Точность предсказания: 10.21%\n"
     ]
    }
   ],
   "source": [
    "# Оценим качество предсказания для тестовой выборки для наших текущих случаных весов\n",
    "cifar10_test_predictions_random_weights = estimate_accuracy(\n",
    "    weights, bias, cifar10_train_vectors, cifar10_train['labels']\n",
    ")\n",
    "print('Точность предсказания: {:.2f}%'.format(cifar10_test_predictions_random_weights * 100))"
   ]
  },
  {
   "cell_type": "markdown",
   "metadata": {},
   "source": [
    "Точность находится в пределах 10%, потому что у нас 10 классов, а предсказание - случайное. Чтобы найти веса, которые позволят лучше разделять классы необходимо ввести функцию потерь, которая будет штрафовать классификатор за неверные предсказания классов. Одной из таких функций является Hinge loss, которая применятся в методе опорных векторов (SVM):\n",
    "\n",
    "$$L = \\max(0, 1 + \\max\\limits_{i\\neq t}(y_i - y_t)),$$\n",
    "\n",
    "$y_t$ - значения предсказания для истинного класса. Если максимальное значение среди предсказаний соотсветствует истинному классу, значение функции потерь равно 0, если другому классу, то $L > 0$."
   ]
  },
  {
   "cell_type": "code",
   "execution_count": 14,
   "metadata": {
    "scrolled": true
   },
   "outputs": [
    {
     "name": "stdout",
     "output_type": "stream",
     "text": [
      "Закодированные метки классов:\n",
      "[[0. 0. 0. 1. 0. 0. 0. 0. 0. 0.]\n",
      " [0. 0. 0. 0. 0. 0. 1. 0. 0. 0.]\n",
      " [0. 0. 0. 0. 0. 0. 0. 0. 1. 0.]]\n",
      "\n",
      "Значение функции потерь (усреднение по трем предсказаниям): 1968.18\n"
     ]
    }
   ],
   "source": [
    "# В Tensorflow 2.0 функции потерь находяться в модуле tf.losses\n",
    "hinge_loss = tf.losses.CategoricalHinge()\n",
    "\n",
    "# Однако на вход функции необходимо подавать не индексы классов, \n",
    "# а вектор 0 и 1 длиной 10 (например, 3 класс преобразуется в [0, 0, 0, 1, 0, 0, 0, 0, 0, 0])\n",
    "# Это называется one-hot-encoding\n",
    "one_hot_labels = tf.one_hot(labels, depth=10)\n",
    "print('Закодированные метки классов:\\n{}\\n'.format(one_hot_labels))\n",
    "loss = hinge_loss(one_hot_labels, y)\n",
    "print('Значение функции потерь (усреднение по трем предсказаниям): {:.2f}'.format(loss.numpy().item()))"
   ]
  },
  {
   "cell_type": "markdown",
   "metadata": {},
   "source": [
    "Hinge loss - выпуклая, но недифференцируемая функция, однако при минимизации этим пренебрегают. Теперь мы может использовать простейший градиентый спуск для того чтобы найти оптимальные весовые коэффициенты."
   ]
  },
  {
   "cell_type": "code",
   "execution_count": 15,
   "metadata": {},
   "outputs": [
    {
     "name": "stdout",
     "output_type": "stream",
     "text": [
      "tf.Tensor(\n",
      "[[  0.         0.         0.       ...   0.         0.         0.      ]\n",
      " [  0.         0.         0.       ...   0.         0.         0.      ]\n",
      " [  0.         0.         0.       ...   0.         0.         0.      ]\n",
      " ...\n",
      " [  0.         0.         0.       ...   0.         0.         0.      ]\n",
      " [-44.666668 -62.       -74.333336 ... -10.666667 -31.333334 -46.      ]\n",
      " [  0.         0.         0.       ...   0.         0.         0.      ]], shape=(10, 3072), dtype=float32)\n"
     ]
    }
   ],
   "source": [
    "# Tensorflow обладает модулем автоматического дифференцирования\n",
    "# Однако, чтобы получить доступ к градиентам необходимо указать,\n",
    "# какие переменные должны отслеживаться.\n",
    "# Это необходимо, так как мы используем динамические вычисления\n",
    "# (раньше Tensorflow составлял граф всех необходимых вычислений,\n",
    "# который испольнялся в специальной сессии)\n",
    "with tf.GradientTape() as g:\n",
    "    g.watch(weights)\n",
    "    y = images @ tf.transpose(weights) + bias\n",
    "    loss = hinge_loss(one_hot_labels, y)\n",
    "\n",
    "dL_dW = g.gradient(loss, weights)\n",
    "print(dL_dW)"
   ]
  },
  {
   "cell_type": "code",
   "execution_count": 16,
   "metadata": {},
   "outputs": [
    {
     "name": "stdout",
     "output_type": "stream",
     "text": [
      "Эпоха 1/10\n",
      "Точность на тренировочных данных: 22.22%\n",
      "Точность на тeстовых данных: 22.16%\n",
      "Эпоха 2/10\n",
      "Точность на тренировочных данных: 18.74%\n",
      "Точность на тeстовых данных: 18.77%\n",
      "Эпоха 3/10\n",
      "Точность на тренировочных данных: 30.01%\n",
      "Точность на тeстовых данных: 29.69%\n",
      "Эпоха 4/10\n",
      "Точность на тренировочных данных: 27.42%\n",
      "Точность на тeстовых данных: 26.63%\n",
      "Эпоха 5/10\n",
      "Точность на тренировочных данных: 34.89%\n",
      "Точность на тeстовых данных: 33.67%\n",
      "Эпоха 6/10\n",
      "Точность на тренировочных данных: 36.98%\n",
      "Точность на тeстовых данных: 34.75%\n",
      "Эпоха 7/10\n",
      "Точность на тренировочных данных: 37.57%\n",
      "Точность на тeстовых данных: 35.09%\n",
      "Эпоха 8/10\n",
      "Точность на тренировочных данных: 37.60%\n",
      "Точность на тeстовых данных: 34.98%\n",
      "Эпоха 9/10\n",
      "Точность на тренировочных данных: 37.79%\n",
      "Точность на тeстовых данных: 34.93%\n",
      "Эпоха 10/10\n",
      "Точность на тренировочных данных: 37.87%\n",
      "Точность на тeстовых данных: 34.99%\n"
     ]
    }
   ],
   "source": [
    "# У нас есть все инструменты для написания простого алгоритма градиентного спуска\n",
    "# Параметры обучения\n",
    "batch_size = 128\n",
    "learning_rate = 0.001\n",
    "n_epochs = 10\n",
    "\n",
    "# Эпохами называют проход по всем изображениям набора данных\n",
    "for epoch in range(n_epochs):    \n",
    "    print('Эпоха {}/{}'.format(epoch + 1, n_epochs))\n",
    "    \n",
    "    # Разобъем имеющиеся данные на батчи по 128 изображений\n",
    "    # Таким образом мы получаем стохастический градиентный спуск\n",
    "    # и при этом алгоритм не будет работь слишком медленно\n",
    "    for batch_num in range(math.ceil(cifar10_train_size / batch_size)):\n",
    "        sl = slice(batch_num * batch_size,\n",
    "                   min((batch_num + 1) * batch_size, cifar10_train_size))\n",
    "        batch_train = cifar10_train_vectors[sl]\n",
    "        batch_labels = cifar10_train['labels'][sl]\n",
    "        one_hot_labels = tf.one_hot(batch_labels, depth=10)\n",
    "        \n",
    "        # Фиксируем градиенты весов и смещений\n",
    "        with tf.GradientTape() as g:\n",
    "            g.watch([weights, bias])\n",
    "            \n",
    "            # Однослойный линейный классификатор\n",
    "            y = batch_train @ tf.transpose(weights) + bias\n",
    "            loss = hinge_loss(one_hot_labels, y)\n",
    "        \n",
    "        # Делаем шаг в направлении убывания градиента\n",
    "        dL_dW, dL_db = g.gradient(loss, [weights, bias])\n",
    "        weights -= learning_rate * dL_dW\n",
    "        bias -= learning_rate * dL_db\n",
    "    \n",
    "    # Уменьшаем скорость обучения с каждой пройденой эпохой\n",
    "    # На первых эпохах происходит грубая подгонка весов,\n",
    "    # затем они уточняются\n",
    "    learning_rate /= 2\n",
    "\n",
    "    # Оченим качество предсказаний на тренировочном и тестовом датасетах\n",
    "    accuracy_train = estimate_accuracy(weights, bias, cifar10_train_vectors, cifar10_train['labels'])\n",
    "    accuracy_test = estimate_accuracy(weights, bias, cifar10_test_vectors, cifar10_test['labels'])\n",
    "\n",
    "    print('Точность на тренировочных данных: {:.2f}%'.format(accuracy_train * 100))\n",
    "    print('Точность на тeстовых данных: {:.2f}%'.format(accuracy_test * 100))"
   ]
  },
  {
   "cell_type": "markdown",
   "metadata": {},
   "source": [
    "Конечно в tensorflow есть более простые способы для обучения классификатора."
   ]
  },
  {
   "cell_type": "code",
   "execution_count": 17,
   "metadata": {},
   "outputs": [
    {
     "name": "stdout",
     "output_type": "stream",
     "text": [
      "Смещение до шага минимизации: [-0.9300397   0.13778019 -0.9891941   0.62783474 -0.17031959 -0.05220467\n",
      " -1.1422652  -0.8484497   0.5896149   0.3366194 ]\n",
      "Смещение после шага минимизации: [-0.9299772   0.1379052  -0.9891191   0.62793475 -0.17115709 -0.05214217\n",
      " -1.1421527  -0.84833723  0.5897274   0.33669442]\n"
     ]
    }
   ],
   "source": [
    "# Например, tf.optimizers содержат готовые алгоритмы оптимизации\n",
    "# (реализации одного \"шага\" изменения весов)\n",
    "# Однако из интерфейс привязан к представлению статичных графов tensorflow\n",
    "# Веса и смещения должны быть обернуты в специальный класс tf.Variable\n",
    "# Это те тензоры, значения которых не должны меняться по мере обучения\n",
    "weights = tf.Variable(tf.random.normal((m, n)))\n",
    "bias = tf.Variable(tf.random.normal((m, )))\n",
    "\n",
    "# Оптимизатор Stochastic gradient descent\n",
    "sgd = tf.optimizers.SGD(learning_rate=0.001)\n",
    "\n",
    "# Оптимизируемая функция\n",
    "def foo():\n",
    "    y = batch_train @ tf.transpose(weights) + bias\n",
    "    return hinge_loss(one_hot_labels, y)\n",
    "\n",
    "# Один шаг изменения весов\n",
    "print('Смещение до шага минимизации:', bias.numpy())\n",
    "sgd.minimize(foo, [weights, bias]);\n",
    "print('Смещение после шага минимизации:', bias.numpy())"
   ]
  },
  {
   "cell_type": "markdown",
   "metadata": {},
   "source": [
    "Tensorflow также обладает более высокоуровненым интерфейсом:\n",
    "![tf_api](img/tensorflow_api.png)\n",
    "\n",
    "Основные компоненты библиотеки и иструменты для распределенных вычислений написаны на C++ и CUDA. Наиболее полноценный и задокументированный API написан Python, но есть интерфейсы и для других языков. \n",
    "\n",
    "tf.losses, tf.optimizers, tf.GradientTape являются элементами низкого уровня, полезными, когда необходимо реализовать функционал, который отсутствует в API верхнего уровня. Создатели библиотеки рекомендуют использовать высокоуровнений API - tf.estimator и tf.keras (начиная с Tensorflow 2.0 утверждается, что tf.keras почти такой же быстрый).\n",
    "\n",
    "**tf.estimator** содержит готовые модели, включающие обучение, оценку, предсказание и экспорт моделей. https://www.tensorflow.org/guide/estimators\n",
    "\n",
    "**tf.keras** позволяет легко создавать собственные модели. https://www.tensorflow.org/guide/keras"
   ]
  },
  {
   "cell_type": "code",
   "execution_count": 18,
   "metadata": {},
   "outputs": [
    {
     "name": "stdout",
     "output_type": "stream",
     "text": [
      "Train on 50000 samples, validate on 10000 samples\n",
      "Epoch 1/5\n",
      "50000/50000 [==============================] - 3s 57us/sample - loss: 1.8864 - categorical_accuracy: 0.2123 - val_loss: 1.5240 - val_categorical_accuracy: 0.2570\n",
      "Epoch 2/5\n",
      "50000/50000 [==============================] - 3s 55us/sample - loss: 1.2408 - categorical_accuracy: 0.3144 - val_loss: 1.2909 - val_categorical_accuracy: 0.2622\n",
      "Epoch 3/5\n",
      "50000/50000 [==============================] - 3s 54us/sample - loss: 1.1276 - categorical_accuracy: 0.3463 - val_loss: 1.1897 - val_categorical_accuracy: 0.2877\n",
      "Epoch 4/5\n",
      "50000/50000 [==============================] - 3s 56us/sample - loss: 1.0996 - categorical_accuracy: 0.3555 - val_loss: 1.1171 - val_categorical_accuracy: 0.3307\n",
      "Epoch 5/5\n",
      "50000/50000 [==============================] - 3s 53us/sample - loss: 1.0902 - categorical_accuracy: 0.3588 - val_loss: 1.0988 - val_categorical_accuracy: 0.3440\n"
     ]
    },
    {
     "data": {
      "text/plain": [
       "<tensorflow.python.keras.callbacks.History at 0x22e35111898>"
      ]
     },
     "execution_count": 18,
     "metadata": {},
     "output_type": "execute_result"
    }
   ],
   "source": [
    "# Построим с помощью keras такой же однослойный классификатор, как и ранее\n",
    "\n",
    "# Параметры\n",
    "learning_rate = 0.01\n",
    "\n",
    "def lr_schedule(epoch):\n",
    "    return learning_rate / (2 ** epoch)\n",
    "\n",
    "batch_size = 128\n",
    "n_epochs = 5\n",
    "\n",
    "# Создадим линейный слой 3072 -> 10\n",
    "model = tf.keras.Sequential([\n",
    "    tf.keras.layers.Dense(10, input_shape=(3072, )),\n",
    "])\n",
    "\n",
    "# Зададим параметры обучения с помощью model.compile()\n",
    "model.compile(\n",
    "    optimizer=tf.optimizers.SGD(learning_rate=learning_rate),\n",
    "    loss=tf.losses.CategoricalHinge(),\n",
    "    metrics=['categorical_accuracy']\n",
    ")\n",
    "\n",
    "# Не нужно разбивать набор на батчи и создавать цикл по эпохам,\n",
    "# keras все сделает сам, задаем только параметры\n",
    "\n",
    "model.fit(\n",
    "    x=cifar10_train_vectors / 255.0,\n",
    "    y=tf.one_hot(cifar10_train['labels'], depth=10),\n",
    "    batch_size=batch_size,\n",
    "    epochs=n_epochs,\n",
    "    # Тестовые данные в качестве валидации\n",
    "    validation_data=(cifar10_test_vectors / 255.0, tf.one_hot(cifar10_test['labels'], depth=10)),\n",
    "    # callbacks - это набор функций, которые будут вызываться каждую эпоху\n",
    "    callbacks=[tf.keras.callbacks.LearningRateScheduler(schedule=lr_schedule)],\n",
    ")"
   ]
  },
  {
   "cell_type": "code",
   "execution_count": 19,
   "metadata": {},
   "outputs": [
    {
     "name": "stdout",
     "output_type": "stream",
     "text": [
      "Точность на тренировочных данных: 34.91%\n",
      "Точность на тeстовых данных: 34.21%\n"
     ]
    }
   ],
   "source": [
    "# Можно извлечь веса модели и оценик точность самостоятельно\n",
    "weights, bias = model.get_weights()\n",
    "\n",
    "accuracy_train = estimate_accuracy(weights.T, bias, cifar10_train_vectors, cifar10_train['labels'])\n",
    "accuracy_test = estimate_accuracy(weights.T, bias, cifar10_test_vectors, cifar10_test['labels'])\n",
    "\n",
    "print('Точность на тренировочных данных: {:.2f}%'.format(accuracy_train * 100))\n",
    "print('Точность на тeстовых данных: {:.2f}%'.format(accuracy_test * 100))"
   ]
  },
  {
   "cell_type": "markdown",
   "metadata": {},
   "source": [
    "Чаще в качестве функции потерь для задачи определения меток взаимоисключающих классов используется перекрестная энтропия (**cross-entropy loss**). Метки классов - это вектор нулей и единиц (например, кошка в CIFAR-10 - [0, 0, 0, 1, 0, 0, 0, 0, 0, 0]), который можно интерпретировать как вероятность принадлежности к классу, поэтому удобно, когда выходные значения нейросети тоже представляют собой вероятности.\n",
    "\n",
    "Функция **softmax** позволяет отнормировать предсказания линейного слоя ($y$) и получить подобие вероятностного распределения:\n",
    "\n",
    "$$z = \\sigma(y)_i = \\frac{e^{y_i}}{\\sum\\limits_{k=1}^K e^{y_k}}$$\n",
    "\n",
    "**Cross-entropy loss** - это функция потерь, которая исользует истинное и предсказанное распределение классов:\n",
    "\n",
    "$$L = \\frac{1}{N} \\sum\\limits_{n=1}^N H(p_n, q_n)\n",
    "    = -\\frac{1}{N} \\sum\\limits_{n=1}^N [z_n \\log \\hat{z}_n + (1 - z_n)\\log(1 - \\hat{z}_n)],$$\n",
    "    \n",
    "где $p$ - истинное распределение классов, $q$ - распределение, предсказанное моделью, $N$ - размер выборки. Чем больше предсказанная вероятность для истинного класса, тем меньше значение функции потерь. Однако, как видно из формулы, если модель предскажет 1 там, где должен быть 0, функция потерь $L = \\infty$. Это приводит к тому, что модели, обученные с помощью перекрестной энтропии, никогда не уверенны до конца в своих предсказаниях."
   ]
  },
  {
   "cell_type": "code",
   "execution_count": 20,
   "metadata": {},
   "outputs": [
    {
     "name": "stdout",
     "output_type": "stream",
     "text": [
      "Train on 50000 samples, validate on 10000 samples\n",
      "Epoch 1/5\n",
      "50000/50000 [==============================] - 3s 55us/sample - loss: 1.9104 - categorical_accuracy: 0.3351 - val_loss: 1.8266 - val_categorical_accuracy: 0.3619\n",
      "Epoch 2/5\n",
      "50000/50000 [==============================] - 3s 52us/sample - loss: 1.8040 - categorical_accuracy: 0.3820 - val_loss: 1.7946 - val_categorical_accuracy: 0.3821\n",
      "Epoch 3/5\n",
      "50000/50000 [==============================] - 3s 52us/sample - loss: 1.7835 - categorical_accuracy: 0.3908 - val_loss: 1.7811 - val_categorical_accuracy: 0.3901\n",
      "Epoch 4/5\n",
      "50000/50000 [==============================] - 3s 52us/sample - loss: 1.7752 - categorical_accuracy: 0.3947 - val_loss: 1.7764 - val_categorical_accuracy: 0.3895\n",
      "Epoch 5/5\n",
      "50000/50000 [==============================] - 3s 52us/sample - loss: 1.7714 - categorical_accuracy: 0.3976 - val_loss: 1.7736 - val_categorical_accuracy: 0.3912\n"
     ]
    },
    {
     "data": {
      "text/plain": [
       "<tensorflow.python.keras.callbacks.History at 0x22e4a823978>"
      ]
     },
     "execution_count": 20,
     "metadata": {},
     "output_type": "execute_result"
    }
   ],
   "source": [
    "# Однослойный классификатор с cross-entropy loss\n",
    "# Дополнительно указываем, что к выходам линейного слоя должна быть применена\n",
    "# функция softmax\n",
    "learning_rate = 5.\n",
    "\n",
    "# Чтобы классификатор бысрее обучался, а также для того чтобы получить\n",
    "# красивые картинки весов, вычтем среднее и разделим на дисперсию\n",
    "mean, var = cifar10_train_vectors.mean(), cifar10_train_vectors.var()\n",
    "\n",
    "model = tf.keras.Sequential([\n",
    "    tf.keras.layers.Dense(10, input_shape=(3072, ), activation='softmax'), \n",
    "])\n",
    "\n",
    "model.compile(\n",
    "    optimizer=tf.optimizers.SGD(learning_rate=learning_rate),\n",
    "    # изменяем функцию потерь\n",
    "    loss=tf.losses.CategoricalCrossentropy(),\n",
    "    metrics=['categorical_accuracy']\n",
    ")\n",
    "\n",
    "model.fit(\n",
    "    x=(cifar10_train_vectors - mean) / var,\n",
    "    # Как и для Hinge loss, здесь ожидается, что метки классов закодированы\n",
    "    y=tf.one_hot(cifar10_train['labels'], depth=10),\n",
    "    batch_size=batch_size,\n",
    "    epochs=n_epochs,\n",
    "    validation_data=((cifar10_test_vectors - mean) / var, tf.one_hot(cifar10_test['labels'], depth=10)),\n",
    "    callbacks=[tf.keras.callbacks.LearningRateScheduler(schedule=lr_schedule)],\n",
    ")"
   ]
  },
  {
   "cell_type": "code",
   "execution_count": 21,
   "metadata": {},
   "outputs": [],
   "source": [
    "def renormalize(x):\n",
    "    shape = x.shape\n",
    "    x = x.reshape(shape[0], -1)\n",
    "    x = ((x - x.min(axis=1, keepdims=True))\n",
    "         / x.ptp(axis=1, keepdims=True) * 255.0).astype(np.uint8)\n",
    "    return x.reshape(shape)"
   ]
  },
  {
   "cell_type": "code",
   "execution_count": 22,
   "metadata": {},
   "outputs": [
    {
     "data": {
      "image/png": "[encoded data removed]",
      "text/plain": [
       "<Figure size 864x216 with 10 Axes>"
      ]
     },
     "metadata": {
      "needs_background": "light"
     },
     "output_type": "display_data"
    }
   ],
   "source": [
    "# Посмотрим на изображение весов модели\n",
    "weights = model.get_weights()[0]  # 3072 x 10\n",
    "weights = weights.T  # 10 x 3072\n",
    "# Отнормируем веса в диапазон [0..255]\n",
    "weights = renormalize(weights)\n",
    "# 10x3072 = 10x32х32х3\n",
    "weights = weights.reshape(10, 32, 32, 3)\n",
    "plot_cifar_imgs(weights, np.arange(10))"
   ]
  },
  {
   "cell_type": "markdown",
   "metadata": {},
   "source": [
    "Видно, что классификатор пытается уловить средние цвета и форму изображений разных классов."
   ]
  },
  {
   "cell_type": "markdown",
   "metadata": {},
   "source": [
    "## Обучения двухслойной сети\n",
    "Линейный классификатор можно интерпретировать как поверхность, разделяющую разные классы в многомерном прострастве всех возможноых пикселей.\n",
    "\n",
    "![linear_separation](img/linear_separation.png)\n",
    "\n",
    "Чтобы получить поверхности более сложной формы используют несколько линейный слоев, причем к выходу каждого слоя применятся нелинейная функция - активация. Если не применять активацию, то сколько бы линейных слоев мы не сделали, все они могут быть выражены одним линейным слоем. Понятие искуственной нейронной сети применяют именно к набору линейных слоев с активациями, по аналогии с нейронами у животных.\n",
    "\n",
    "Разные функции активации:\n",
    "\n",
    "![activations](img/activations.png)"
   ]
  },
  {
   "cell_type": "code",
   "execution_count": 23,
   "metadata": {},
   "outputs": [
    {
     "name": "stdout",
     "output_type": "stream",
     "text": [
      "Train on 50000 samples, validate on 10000 samples\n",
      "Epoch 1/5\n",
      "50000/50000 [==============================] - 3s 57us/sample - loss: 1.9976 - categorical_accuracy: 0.2784 - val_loss: 1.8948 - val_categorical_accuracy: 0.3156\n",
      "Epoch 2/5\n",
      "50000/50000 [==============================] - 3s 53us/sample - loss: 1.7314 - categorical_accuracy: 0.3835 - val_loss: 1.6862 - val_categorical_accuracy: 0.4049\n",
      "Epoch 3/5\n",
      "50000/50000 [==============================] - 3s 54us/sample - loss: 1.6482 - categorical_accuracy: 0.4193 - val_loss: 1.6890 - val_categorical_accuracy: 0.3990\n",
      "Epoch 4/5\n",
      "50000/50000 [==============================] - 3s 54us/sample - loss: 1.6126 - categorical_accuracy: 0.4327 - val_loss: 1.6155 - val_categorical_accuracy: 0.4288\n",
      "Epoch 5/5\n",
      "50000/50000 [==============================] - 3s 54us/sample - loss: 1.5943 - categorical_accuracy: 0.4408 - val_loss: 1.6029 - val_categorical_accuracy: 0.4380\n"
     ]
    },
    {
     "data": {
      "text/plain": [
       "<tensorflow.python.keras.callbacks.History at 0x22f8a5e8b00>"
      ]
     },
     "execution_count": 23,
     "metadata": {},
     "output_type": "execute_result"
    }
   ],
   "source": [
    "# Двухслойная нейросеть\n",
    "learning_rate = 0.1\n",
    "hidden_layer = 256  # размерность выходов первого слоя сети (их называют скрытыми)\n",
    "\n",
    "model = tf.keras.Sequential([\n",
    "    # Добавляем дополнительный слой [3072 -> hidden_layer] с активацией ReLU (Rectifier Linear Unit)\n",
    "    tf.keras.layers.Dense(hidden_layer, input_shape=(3072, ), activation='relu'), \n",
    "    # [hidden_layer -> 10]\n",
    "    tf.keras.layers.Dense(10, activation='softmax'),     \n",
    "])\n",
    "\n",
    "model.compile(\n",
    "    optimizer=tf.optimizers.SGD(learning_rate=learning_rate),\n",
    "    loss=tf.losses.CategoricalCrossentropy(),\n",
    "    metrics=['categorical_accuracy']\n",
    ")\n",
    "\n",
    "model.fit(\n",
    "    x=(cifar10_train_vectors / 255.),\n",
    "    y=tf.one_hot(cifar10_train['labels'], depth=10),\n",
    "    batch_size=batch_size,\n",
    "    epochs=n_epochs,\n",
    "    validation_data=(cifar10_test_vectors / 255., tf.one_hot(cifar10_test['labels'], depth=10)),\n",
    "    callbacks=[tf.keras.callbacks.LearningRateScheduler(schedule=lr_schedule)],\n",
    ")"
   ]
  },
  {
   "cell_type": "markdown",
   "metadata": {},
   "source": [
    "По мере роста глубины сети и размерности скрытых слоев, точность будет немного возрастать и выйдет на плато. Такие сети, где все нейроны соседних слоев связаны между собой, называют полносвязными (**Fully-connected nets**).\n",
    "\n",
    "![fully_connected](img/fully_connected.png)\n",
    "\n",
    "Качество предсказаний такой модели мало отличается от деревьев решений (если не меньше), поскольку все пиксели изображений рассматриваются по отдельности. Если мы перемешаем все пиксели на всех изображениях одинаковым образом, качество предсказаний не измениться.\n",
    "\n",
    "Чтобы включить в сеть информацию о простраственной связности пикселей, используют сверточные нейросети."
   ]
  },
  {
   "cell_type": "markdown",
   "metadata": {},
   "source": [
    "## Сверточные нейросети\n",
    "\n",
    "В основе сверточных сетей лежит идея совместного использования весовых коэффициентов. Изображение сворачивают с фильтром заданного размера, веса которого одинаковы для всех дискретных положений свертки. Вся операция характеризуется шириной, высотой и глубиной фильтров (если мы имеем дело с двумерными изображениями), а также смещением положения фильтра на каждом шаге свертки и поведением на границах изображения.\n",
    "\n",
    "![convolution](img/convolution.gif)\n",
    "\n",
    "В данном случае мы имеем фильтр с размерностью 3x3x1, применяемому к изображению 5х5х1 со смещением (**strides**), равным двум и добавлением пикселей-заполнителей по краям (**padding**). Также может варьируется количество самих фильтров. В зависимости от значений всех этих параметров, на выходе **сверточного слоя** сети получаются матрицы признаков (**feature maps**) разной размерности. Например, пусть изображение имеет размерность 32х32х3; тогда после применения 5 фильтров с размерами 7х7 и шагом 5, выходная матрица признаков будет иметь размерость 6х6х5:\n",
    "\n",
    "$$Размер~выхода = \\frac{N - F}{stride} + 1 = \\frac{32 - 7}{5} + 1 = 6$$\n",
    "\n",
    "Здесь нам не нужно дополнительно заполнение по краям, так как все фильтры умещаются в изображение с заданным шагом. По мере мере роста числа последовательных слоев, на каждый нейрон будет приходится все больше информации исходного изображения. \n",
    "\n",
    "![receptive_field](img/receptive_field.png)\n",
    "\n",
    "Таким образом, веса нейронов кодируют базовое изображения и мы получаем сжатое представление о содержании изображения. Начальные сверточные слои захватывают информацию о текстурах на изображении (брусчатка/шерсть/кирпичи), а финальные слои - информацию о содержании изображения (улица/кошка/дом).\n",
    "\n",
    "Часто в сверточных сетях размерности по ширине и высоте сохраняются и меняется только число фильтров (либо и оно тоже остается постоянным, а слой только увеличивает глубину сети).\n",
    "\n",
    "Несмотря на то, что сети называют сверточными, в практических приложениях используется операция кросс-корреляции (фильтры в этом случае не перевернуты)."
   ]
  },
  {
   "cell_type": "code",
   "execution_count": 24,
   "metadata": {},
   "outputs": [],
   "source": [
    "# Теперь на вход сети будут подоваться не векторы длиной 3072, а изображения\n",
    "# Вычтем среднее и отнормируем их\n",
    "mean, std = cifar10_train['data'].mean(), cifar10_train['data'].var()\n",
    "cifar10_train_norm_img = (cifar10_train['data'] - mean) / std\n",
    "cifar10_test_norm_img = (cifar10_test['data'] - mean) / std"
   ]
  },
  {
   "cell_type": "code",
   "execution_count": 25,
   "metadata": {},
   "outputs": [
    {
     "name": "stdout",
     "output_type": "stream",
     "text": [
      "Train on 50000 samples, validate on 10000 samples\n",
      "Epoch 1/10\n",
      "50000/50000 [==============================] - 6s 111us/sample - loss: 1.4420 - categorical_accuracy: 0.4831 - val_loss: 1.2404 - val_categorical_accuracy: 0.5623\n",
      "Epoch 2/10\n",
      "50000/50000 [==============================] - 4s 86us/sample - loss: 1.0560 - categorical_accuracy: 0.6273 - val_loss: 1.0556 - val_categorical_accuracy: 0.6332\n",
      "Epoch 3/10\n",
      "50000/50000 [==============================] - 4s 85us/sample - loss: 0.8753 - categorical_accuracy: 0.6929 - val_loss: 0.9954 - val_categorical_accuracy: 0.6547\n",
      "Epoch 4/10\n",
      "50000/50000 [==============================] - 4s 86us/sample - loss: 0.7775 - categorical_accuracy: 0.7299 - val_loss: 0.9812 - val_categorical_accuracy: 0.6593\n",
      "Epoch 5/10\n",
      "50000/50000 [==============================] - 4s 86us/sample - loss: 0.7243 - categorical_accuracy: 0.7509 - val_loss: 0.9573 - val_categorical_accuracy: 0.6681\n",
      "Epoch 6/10\n",
      "50000/50000 [==============================] - 4s 85us/sample - loss: 0.6963 - categorical_accuracy: 0.7614 - val_loss: 0.9560 - val_categorical_accuracy: 0.6695\n",
      "Epoch 7/10\n",
      "50000/50000 [==============================] - 4s 85us/sample - loss: 0.6822 - categorical_accuracy: 0.7676 - val_loss: 0.9537 - val_categorical_accuracy: 0.6713\n",
      "Epoch 8/10\n",
      "50000/50000 [==============================] - 4s 85us/sample - loss: 0.6746 - categorical_accuracy: 0.7707 - val_loss: 0.9535 - val_categorical_accuracy: 0.6702\n",
      "Epoch 9/10\n",
      "50000/50000 [==============================] - 4s 85us/sample - loss: 0.6710 - categorical_accuracy: 0.7725 - val_loss: 0.9537 - val_categorical_accuracy: 0.6700\n",
      "Epoch 10/10\n",
      "50000/50000 [==============================] - 4s 86us/sample - loss: 0.6693 - categorical_accuracy: 0.7729 - val_loss: 0.9532 - val_categorical_accuracy: 0.6697\n"
     ]
    },
    {
     "data": {
      "text/plain": [
       "<tensorflow.python.keras.callbacks.History at 0x22f89e304e0>"
      ]
     },
     "execution_count": 25,
     "metadata": {},
     "output_type": "execute_result"
    }
   ],
   "source": [
    "# Tensorflow содержит модуль tf.nn, в котором реализованы сверточные слои tf.nn.conv2d\n",
    "# tf.keras также включает необходимые классы\n",
    "\n",
    "learning_rate = 0.005\n",
    "batch_size = 128\n",
    "n_epochs = 10\n",
    "\n",
    "\n",
    "model = tf.keras.Sequential([\n",
    "    # Задаем сверточный слой 7x7, на выходе получаем 26x26x32 нейрона\n",
    "    tf.keras.layers.Conv2D(filters=32, kernel_size=(7, 7), strides=(1, 1), activation='relu',\n",
    "                           input_shape=(32, 32, 3)),\n",
    "    # Задаем pooling слой. По умолчанию 2x2, следовательно на выходе 13x13x32\n",
    "    tf.keras.layers.MaxPooling2D(),\n",
    "    \n",
    "    # Ограничим размер нашей сети одним сверточным слоем с пуллингом\n",
    "    # Остальные 2 слоя оставим полносвязыми\n",
    "    # Чтобы срастить светочные слои с полносвязными используем Flatten,\n",
    "    # которые преобразует выходную матрицу сверточного слоя в вектор\n",
    "    tf.keras.layers.Flatten(),\n",
    "    tf.keras.layers.Dense(256, activation='relu'), \n",
    "    tf.keras.layers.Dense(10, activation='softmax'),     \n",
    "])\n",
    "\n",
    "model.compile(\n",
    "    # Воспользуемся более продвинутым оптимизатором\n",
    "    # Adam (adaptive moment estimation) - это разновидность SGD,\n",
    "    # включающая момент (инерция изменения градиента)\n",
    "    # и подстройку значения градиента под отдельные параметры\n",
    "    # [*] Kingma and Ba, “Adam: A method for stochastic optimization”, ICLR 2015\n",
    "    optimizer=tf.optimizers.Adam(learning_rate=learning_rate),\n",
    "    loss=tf.losses.CategoricalCrossentropy(),\n",
    "    metrics=['categorical_accuracy']\n",
    ")\n",
    "\n",
    "model.fit(\n",
    "    x=cifar10_train_norm_img,\n",
    "    y=tf.one_hot(cifar10_train['labels'], depth=10),\n",
    "    batch_size=batch_size,\n",
    "    epochs=n_epochs,\n",
    "    validation_data=(cifar10_test_norm_img, tf.one_hot(cifar10_test['labels'], depth=10)),\n",
    "    callbacks=[tf.keras.callbacks.LearningRateScheduler(schedule=lr_schedule)],\n",
    ")"
   ]
  },
  {
   "cell_type": "code",
   "execution_count": 26,
   "metadata": {},
   "outputs": [
    {
     "name": "stdout",
     "output_type": "stream",
     "text": [
      "Размерность весов первого слоя: (7, 7, 3, 32)\n"
     ]
    },
    {
     "data": {
      "image/png": "[encoded data removed]",
      "text/plain": [
       "<Figure size 432x288 with 32 Axes>"
      ]
     },
     "metadata": {
      "needs_background": "light"
     },
     "output_type": "display_data"
    }
   ],
   "source": [
    "# Постоим веса\n",
    "weights = model.get_weights()[0]\n",
    "print('Размерность весов первого слоя:', weights.shape)\n",
    "\n",
    "weights = weights.transpose(3, 0, 1, 2)\n",
    "weights = renormalize(weights)\n",
    "\n",
    "fig, axes = plt.subplots(4, 8, figsize=(6, 4))\n",
    "axes = axes.ravel()\n",
    "for ax, w in zip(axes, weights):\n",
    "    ax.imshow(w.astype('uint8'), cmap='plasma')\n",
    "    ax.axis('off')\n"
   ]
  },
  {
   "cell_type": "markdown",
   "metadata": {},
   "source": [
    "Сеть даже с одним сверточным слоем достаточно быстро набирает хорошую точность на тренировочный выборке, по сравнению с полносвязной сетью. Однако разница в точности предсказаний на тренеровочных и тестовых данных возросла. Поэтому необходима дополнительная регуляризация.\n",
    "\n",
    "Самым действенным способом регуляризации сети является увеличение размера тренировочной выборки.\n",
    "\n",
    "Может использоваться классическая l1, l2 регуляризация, т.е. ограничение на значение весов сети. Другой способ регуляризации - **dropout**, когда часть нейронов сети не учавствуют в обучении:\n",
    "\n",
    "![dropout](img/dropout.png)\n",
    "\n",
    "Сеть учиться получать одинаковый результат разными способами, не переобучая конкретные нейроны.\n",
    "\n",
    "[*] Srivastava et al, “Dropout: A simple way to prevent neural networks from overfitting”, JMLR 2014\n",
    "\n",
    "В некоторых задачах, связанных с картинками, также можно искусственно увеличить размер выборки, применяя различные преобразования - вращения, приближения, отражения - к исходным изображениям."
   ]
  },
  {
   "cell_type": "code",
   "execution_count": 27,
   "metadata": {},
   "outputs": [
    {
     "name": "stdout",
     "output_type": "stream",
     "text": [
      "Train on 50000 samples, validate on 10000 samples\n",
      "Epoch 1/10\n",
      "50000/50000 [==============================] - 5s 97us/sample - loss: 1.6033 - categorical_accuracy: 0.4629 - val_loss: 1.4422 - val_categorical_accuracy: 0.5320\n",
      "Epoch 2/10\n",
      "50000/50000 [==============================] - 4s 88us/sample - loss: 1.3332 - categorical_accuracy: 0.5735 - val_loss: 1.2739 - val_categorical_accuracy: 0.5942\n",
      "Epoch 3/10\n",
      "50000/50000 [==============================] - 4s 88us/sample - loss: 1.1730 - categorical_accuracy: 0.6317 - val_loss: 1.1801 - val_categorical_accuracy: 0.6300\n",
      "Epoch 4/10\n",
      "50000/50000 [==============================] - 4s 88us/sample - loss: 1.0614 - categorical_accuracy: 0.6719 - val_loss: 1.1334 - val_categorical_accuracy: 0.6479\n",
      "Epoch 5/10\n",
      "50000/50000 [==============================] - 4s 88us/sample - loss: 0.9949 - categorical_accuracy: 0.6976 - val_loss: 1.1061 - val_categorical_accuracy: 0.6529\n",
      "Epoch 6/10\n",
      "50000/50000 [==============================] - 4s 88us/sample - loss: 0.9549 - categorical_accuracy: 0.7141 - val_loss: 1.0974 - val_categorical_accuracy: 0.6546\n",
      "Epoch 7/10\n",
      "50000/50000 [==============================] - 4s 88us/sample - loss: 0.9331 - categorical_accuracy: 0.7223 - val_loss: 1.0880 - val_categorical_accuracy: 0.6602\n",
      "Epoch 8/10\n",
      "50000/50000 [==============================] - 4s 88us/sample - loss: 0.9229 - categorical_accuracy: 0.7254 - val_loss: 1.0846 - val_categorical_accuracy: 0.6606\n",
      "Epoch 9/10\n",
      "50000/50000 [==============================] - 4s 88us/sample - loss: 0.9186 - categorical_accuracy: 0.7267 - val_loss: 1.0839 - val_categorical_accuracy: 0.6606\n",
      "Epoch 10/10\n",
      "50000/50000 [==============================] - 4s 88us/sample - loss: 0.9164 - categorical_accuracy: 0.7269 - val_loss: 1.0831 - val_categorical_accuracy: 0.6603\n"
     ]
    },
    {
     "data": {
      "text/plain": [
       "<tensorflow.python.keras.callbacks.History at 0x22e6cb9ae48>"
      ]
     },
     "execution_count": 27,
     "metadata": {},
     "output_type": "execute_result"
    }
   ],
   "source": [
    "# Обучим ту же сеть, но добавив дропаут и регуляризацию весов\n",
    "\n",
    "learning_rate = 0.005\n",
    "batch_size = 128\n",
    "n_epochs = 10\n",
    "\n",
    "\n",
    "model = tf.keras.Sequential([\n",
    "    tf.keras.layers.Conv2D(filters=32, kernel_size=(7, 7), strides=(1, 1), activation='relu',\n",
    "                           input_shape=(32, 32, 3)),\n",
    "    tf.keras.layers.MaxPooling2D(),\n",
    "    tf.keras.layers.Flatten(),\n",
    "    # L2 регуляризация весов задается для каждого слоя по отдельности\n",
    "    # необходимо задать коэффиицент при норме весов\n",
    "    tf.keras.layers.Dense(256, activation='relu', \n",
    "                          kernel_regularizer=tf.keras.regularizers.l2(0.0001)),\n",
    "    tf.keras.layers.Dropout(0.05),  # доля отключаемых нейронов\n",
    "    tf.keras.layers.Dense(10, activation='softmax'),     \n",
    "])\n",
    "\n",
    "model.compile(\n",
    "    optimizer=tf.optimizers.Adam(learning_rate=learning_rate),\n",
    "    loss=tf.losses.CategoricalCrossentropy(),\n",
    "    metrics=['categorical_accuracy']\n",
    ")\n",
    "\n",
    "model.fit(\n",
    "    x=cifar10_train_norm_img,\n",
    "    y=tf.one_hot(cifar10_train['labels'], depth=10),\n",
    "    batch_size=batch_size,\n",
    "    epochs=n_epochs,\n",
    "    validation_data=(cifar10_test_norm_img, tf.one_hot(cifar10_test['labels'], depth=10)),\n",
    "    callbacks=[tf.keras.callbacks.LearningRateScheduler(schedule=lr_schedule)],\n",
    ")"
   ]
  },
  {
   "cell_type": "code",
   "execution_count": 28,
   "metadata": {},
   "outputs": [
    {
     "name": "stdout",
     "output_type": "stream",
     "text": [
      "Размерность весов первого слоя: (7, 7, 3, 32)\n"
     ]
    },
    {
     "data": {
      "image/png": "[encoded data removed]",
      "text/plain": [
       "<Figure size 432x288 with 32 Axes>"
      ]
     },
     "metadata": {
      "needs_background": "light"
     },
     "output_type": "display_data"
    }
   ],
   "source": [
    "# Постоим веса\n",
    "weights = model.get_weights()[0]\n",
    "print('Размерность весов первого слоя:', weights.shape)\n",
    "\n",
    "weights = weights.transpose(3, 0, 1, 2)\n",
    "weights = renormalize(weights)\n",
    "\n",
    "fig, axes = plt.subplots(4, 8, figsize=(6, 4))\n",
    "axes = axes.ravel()\n",
    "for ax, w in zip(axes, weights):\n",
    "    ax.imshow(w.astype('uint8'), cmap='plasma')\n",
    "    ax.axis('off')\n"
   ]
  },
  {
   "cell_type": "markdown",
   "metadata": {},
   "source": [
    "Регуляризация практические всегда приводит к ухудшению результата на тренировочной выборки и не всегда - к улучшению на тестовой выборке."
   ]
  },
  {
   "cell_type": "markdown",
   "metadata": {},
   "source": [
    "## Задачи, решаемые сверточными нейросетями\n",
    "- Классификация изображений\n",
    "- Сегментация (instance и semantic segmentation)\n",
    "- Подсчет объектов"
   ]
  },
  {
   "cell_type": "markdown",
   "metadata": {},
   "source": [
    "### Архитектуры сетей, используемые в задачах классификации\n",
    "Мы рассмотрели общие принципы построения и обучения сверточных нейросетей и применили их для классификации изображений набора данных CIFAR10. Задача классикации является достаточно хорошо изученной и в последние годы появилось множество подходов к ее решению. В основном подходы основываются на различных архитектурах сверточных сетей, которые характеризуются временем обучения/предсказания, количеством параметров (следовательно и необходимыми вычислительными мощностями) и качеством предсказаний.\n",
    "\n",
    "- ***AlexNet*** - первая сверточная нейросеть, победившая в соревновании по классификации ImageNet. В ней используется активация ReLU, в отличие от прежних нейросетей, где применялись sigmoid или tanh. Последние две функции активации сильно ослабляют распросранение градентов, когда выход функции близок к 0 и 1 (для signomoid) или -1 и 1 (для tanh).\n",
    "![alexnet](img/alexnet.png)\n",
    "- ***VGG*** - сеть, которая усовершенствовала AlexNet, заменив \"тяжелые\" начальные свертки 11х11 и 5х5 на свертки 3х3. Также увеличилась глубина сети.\n",
    "- ***Inception-v1 (-v2 и -v3)*** сети направлены на дальнейшую оптимизацию архитектуры сети. Они состоят из специальных блоков, в которых параллельно осуществляются свертки 3x3 (разложенные в 1х3 и 3х1), 1x1 (для увеличения числа фильтров) и другие. Это позволило существенно снизить количество параметров сети при сохранении точности.\n",
    "- ***ResNet*** - сеть, в которой решается проблема распространения градиента в глубину при обучении. В ней используются residual блоки, в которых помимо свертки есть прямая связь между входом и выходом.\n",
    "![resnet_block](img/residual_block.png)\n",
    "\n",
    "Таким образом градиент с последних слоев может распространяться к первым слоям напрямую.\n",
    "\n",
    "| Название      | Число слоев | Кол-во параметров | Top-5 точность | Год\n",
    "| ------------- | :---------- |:-----------------:| --------------:| -----:|\n",
    "| AlexNet       | 8           | 61 млн.           | 80.2           |  2012\n",
    "| VGG           | 19          | 138 млн.          | 91.2           | 2013\n",
    "| Inception-v1  | ?           | 7 млн.            | 89.3           | 2013\n",
    "| Inception-v3  | 159         | 23.8 млн.         | 95.7           | 2015\n",
    "| ResNet-50     | 50          | 25.5 млн.         | 93             | 2015\n",
    "| ResNet-152    | 152         | 60.2 млн.         | 96.4           | 2015\n",
    "\n",
    "**[AlexNet]** Krizhevsky et al, ImageNet Classification with Deep Convolutional Neural Networks, 2012\n",
    "\n",
    "**[VGG]** Simonyan, Zisserman, Very Deep Convolutional Networks For Large-Scale Image Recognition, 2015\n",
    "\n",
    "**[Inception-v3]** Szegedy et al, Rethinking the Inception Architecture for Computer Vision, 2015\n",
    "\n",
    "**[ResNet]** He et al, Deep Residual Learning for Image Recognition, 2015"
   ]
  },
  {
   "cell_type": "code",
   "execution_count": 29,
   "metadata": {},
   "outputs": [
    {
     "name": "stderr",
     "output_type": "stream",
     "text": [
      "C:\\Anaconda3\\envs\\dl_env\\lib\\site-packages\\keras_applications\\resnet50.py:265: UserWarning: The output shape of `ResNet50(include_top=False)` has been changed since Keras 2.2.0.\n",
      "  warnings.warn('The output shape of `ResNet50(include_top=False)` '\n"
     ]
    }
   ],
   "source": [
    "# Некоторые реализованные архитектуры можно найти в tf.keras\n",
    "resnet = tf.keras.applications.ResNet50(\n",
    "    # не использовать финальный полносвязный слой\n",
    "    include_top=False,  \n",
    "    # указав weights='imagenet', \n",
    "    # веса будут инициализированны весами resnet50,\n",
    "    # предобученной на Imagenet\n",
    "    weights=None,  \n",
    "    input_shape=(32, 32, 3)\n",
    ")\n",
    "# Берем выходной слой resnet50 для наших входов [1, 1, 2048] \n",
    "x = resnet.output\n",
    "# Преобразуем в вектор\n",
    "# Создаем класс Flatten и вызываем его с аргументом предыдущего слоя\n",
    "# Это функциональный стиль построения моделей в tf.keras \n",
    "x = tf.keras.layers.Flatten()(x)\n",
    "x = tf.keras.layers.Dense(1024, activation='relu')(x)\n",
    "# Слой предсказаний\n",
    "predictions = tf.keras.layers.Dense(10, activation='softmax')(x)\n",
    "\n",
    "# Теперь необходимо обернуть модель в класс Model\n",
    "# (ранее мы использовали для этого класс Sequential())\n",
    "model = tf.keras.Model(inputs=resnet.input, outputs=predictions)"
   ]
  },
  {
   "cell_type": "code",
   "execution_count": 30,
   "metadata": {},
   "outputs": [
    {
     "name": "stdout",
     "output_type": "stream",
     "text": [
      "Learning rate:  0.001\n",
      "Train on 50000 samples, validate on 10000 samples\n",
      "Learning rate:  0.001\n",
      "Epoch 1/30\n",
      "50000/50000 [==============================] - 143s 3ms/sample - loss: 1.7667 - categorical_accuracy: 0.3723 - val_loss: 1.4689 - val_categorical_accuracy: 0.4738\n",
      "Learning rate:  0.001\n",
      "Epoch 2/30\n",
      "50000/50000 [==============================] - 135s 3ms/sample - loss: 1.4766 - categorical_accuracy: 0.4723 - val_loss: 1.5721 - val_categorical_accuracy: 0.4490\n",
      "Learning rate:  0.001\n",
      "Epoch 3/30\n",
      "50000/50000 [==============================] - 135s 3ms/sample - loss: 1.2577 - categorical_accuracy: 0.5543 - val_loss: 1.3234 - val_categorical_accuracy: 0.5438\n",
      "Learning rate:  0.001\n",
      "Epoch 4/30\n",
      "50000/50000 [==============================] - 134s 3ms/sample - loss: 1.0714 - categorical_accuracy: 0.6289 - val_loss: 1.0517 - val_categorical_accuracy: 0.6508\n",
      "Learning rate:  0.001\n",
      "Epoch 5/30\n",
      "50000/50000 [==============================] - 135s 3ms/sample - loss: 0.9515 - categorical_accuracy: 0.6723 - val_loss: 1.0475 - val_categorical_accuracy: 0.6402\n",
      "Learning rate:  0.001\n",
      "Epoch 6/30\n",
      "50000/50000 [==============================] - 135s 3ms/sample - loss: 0.8303 - categorical_accuracy: 0.7147 - val_loss: 0.9414 - val_categorical_accuracy: 0.6849\n",
      "Learning rate:  0.001\n",
      "Epoch 7/30\n",
      "50000/50000 [==============================] - 135s 3ms/sample - loss: 0.7514 - categorical_accuracy: 0.7439 - val_loss: 0.8538 - val_categorical_accuracy: 0.7111\n",
      "Learning rate:  0.001\n",
      "Epoch 8/30\n",
      "50000/50000 [==============================] - 136s 3ms/sample - loss: 0.6758 - categorical_accuracy: 0.7694 - val_loss: 0.9716 - val_categorical_accuracy: 0.6940\n",
      "Learning rate:  0.001\n",
      "Epoch 9/30\n",
      "50000/50000 [==============================] - 136s 3ms/sample - loss: 0.6266 - categorical_accuracy: 0.7878 - val_loss: 0.7792 - val_categorical_accuracy: 0.7402\n",
      "Learning rate:  0.001\n",
      "Epoch 10/30\n",
      "50000/50000 [==============================] - 136s 3ms/sample - loss: 0.5276 - categorical_accuracy: 0.8202 - val_loss: 0.7880 - val_categorical_accuracy: 0.7455\n",
      "Learning rate:  0.001\n",
      "Epoch 11/30\n",
      "50000/50000 [==============================] - 136s 3ms/sample - loss: 0.4335 - categorical_accuracy: 0.8527 - val_loss: 0.8267 - val_categorical_accuracy: 0.7464\n",
      "Learning rate:  0.001\n",
      "Epoch 12/30\n",
      "50000/50000 [==============================] - 137s 3ms/sample - loss: 0.4277 - categorical_accuracy: 0.8542 - val_loss: 1.0625 - val_categorical_accuracy: 0.6623\n",
      "Learning rate:  0.001\n",
      "Epoch 13/30\n",
      "50000/50000 [==============================] - 137s 3ms/sample - loss: 0.3634 - categorical_accuracy: 0.8773 - val_loss: 0.7932 - val_categorical_accuracy: 0.7642\n",
      "Learning rate:  0.001\n",
      "Epoch 14/30\n",
      "50000/50000 [==============================] - 136s 3ms/sample - loss: 0.2760 - categorical_accuracy: 0.9050 - val_loss: 0.8564 - val_categorical_accuracy: 0.7534\n",
      "Learning rate:  0.001\n",
      "Epoch 15/30\n",
      "50000/50000 [==============================] - 136s 3ms/sample - loss: 0.2425 - categorical_accuracy: 0.9182 - val_loss: 0.8817 - val_categorical_accuracy: 0.7484\n",
      "Learning rate:  0.001\n",
      "Epoch 16/30\n",
      "50000/50000 [==============================] - 135s 3ms/sample - loss: 0.2761 - categorical_accuracy: 0.9089 - val_loss: 0.8555 - val_categorical_accuracy: 0.7626\n",
      "Learning rate:  0.001\n",
      "Epoch 17/30\n",
      "50000/50000 [==============================] - 135s 3ms/sample - loss: 0.2024 - categorical_accuracy: 0.9333 - val_loss: 0.9050 - val_categorical_accuracy: 0.7634\n",
      "Learning rate:  0.001\n",
      "Epoch 18/30\n",
      "50000/50000 [==============================] - 134s 3ms/sample - loss: 0.2061 - categorical_accuracy: 0.9322 - val_loss: 0.8633 - val_categorical_accuracy: 0.7742\n",
      "Learning rate:  0.001\n",
      "Epoch 19/30\n",
      "50000/50000 [==============================] - 135s 3ms/sample - loss: 0.1442 - categorical_accuracy: 0.9525 - val_loss: 0.9705 - val_categorical_accuracy: 0.7578\n",
      "Learning rate:  0.001\n",
      "Epoch 20/30\n",
      "50000/50000 [==============================] - 136s 3ms/sample - loss: 0.1801 - categorical_accuracy: 0.9399 - val_loss: 0.9374 - val_categorical_accuracy: 0.7609\n",
      "Learning rate:  0.001\n",
      "Epoch 21/30\n",
      "50000/50000 [==============================] - 137s 3ms/sample - loss: 0.1261 - categorical_accuracy: 0.9589 - val_loss: 0.9164 - val_categorical_accuracy: 0.7692\n",
      "Learning rate:  0.0001\n",
      "Epoch 22/30\n",
      "50000/50000 [==============================] - 136s 3ms/sample - loss: 0.0477 - categorical_accuracy: 0.9860 - val_loss: 0.9688 - val_categorical_accuracy: 0.7833\n",
      "Learning rate:  0.0001\n",
      "Epoch 23/30\n",
      "50000/50000 [==============================] - 135s 3ms/sample - loss: 0.0202 - categorical_accuracy: 0.9946 - val_loss: 1.0598 - val_categorical_accuracy: 0.7897\n",
      "Learning rate:  0.0001\n",
      "Epoch 24/30\n",
      "50000/50000 [==============================] - 136s 3ms/sample - loss: 0.0124 - categorical_accuracy: 0.9967 - val_loss: 1.1540 - val_categorical_accuracy: 0.7904\n",
      "Learning rate:  0.0001\n",
      "Epoch 25/30\n",
      "50000/50000 [==============================] - 136s 3ms/sample - loss: 0.0080 - categorical_accuracy: 0.9979 - val_loss: 1.2583 - val_categorical_accuracy: 0.7902\n",
      "Learning rate:  0.0001\n",
      "Epoch 26/30\n",
      "50000/50000 [==============================] - 136s 3ms/sample - loss: 0.0059 - categorical_accuracy: 0.9986 - val_loss: 1.3338 - val_categorical_accuracy: 0.7908\n",
      "Learning rate:  1e-05\n",
      "Epoch 27/30\n",
      "50000/50000 [==============================] - 136s 3ms/sample - loss: 0.0050 - categorical_accuracy: 0.9987 - val_loss: 1.3449 - val_categorical_accuracy: 0.7896\n",
      "Learning rate:  1e-05\n",
      "Epoch 28/30\n",
      "50000/50000 [==============================] - 136s 3ms/sample - loss: 0.0036 - categorical_accuracy: 0.9992 - val_loss: 1.3505 - val_categorical_accuracy: 0.7903\n",
      "Learning rate:  1e-05\n",
      "Epoch 29/30\n",
      "50000/50000 [==============================] - 135s 3ms/sample - loss: 0.0034 - categorical_accuracy: 0.9991 - val_loss: 1.3597 - val_categorical_accuracy: 0.7902\n",
      "Learning rate:  1e-06\n",
      "Epoch 30/30\n",
      "50000/50000 [==============================] - 137s 3ms/sample - loss: 0.0028 - categorical_accuracy: 0.9993 - val_loss: 1.3583 - val_categorical_accuracy: 0.7911\n"
     ]
    },
    {
     "data": {
      "text/plain": [
       "<tensorflow.python.keras.callbacks.History at 0x230e639a898>"
      ]
     },
     "execution_count": 30,
     "metadata": {},
     "output_type": "execute_result"
    }
   ],
   "source": [
    "n_epochs = 30\n",
    "batch_size = 32\n",
    "\n",
    "def lr_schedule(epoch):\n",
    "    lr = 1e-3\n",
    "    if epoch > 28:\n",
    "        lr *= 1e-3\n",
    "    elif epoch > 25:\n",
    "        lr *= 1e-2\n",
    "    elif epoch > 20:\n",
    "        lr *= 1e-1\n",
    "    print('Learning rate: ', lr)\n",
    "    return lr\n",
    "\n",
    "cifar10_train_preproc = cifar10_train['data'] / 255\n",
    "cifar10_test_preproc = cifar10_test['data'] / 255\n",
    "train_mean = cifar10_train_preproc.mean()\n",
    "\n",
    "cifar10_train_preproc -= train_mean\n",
    "cifar10_test_preproc -= train_mean\n",
    "\n",
    "model.compile(\n",
    "    optimizer=tf.optimizers.Adam(learning_rate=lr_schedule(0)),\n",
    "    loss=tf.losses.CategoricalCrossentropy(),\n",
    "    metrics=['categorical_accuracy']\n",
    ")\n",
    "\n",
    "model.fit(\n",
    "    x=cifar10_train_preproc,\n",
    "    y=tf.one_hot(cifar10_train['labels'], depth=10),\n",
    "    batch_size=batch_size,\n",
    "    epochs=n_epochs,\n",
    "    validation_data=(cifar10_test_preproc, tf.one_hot(cifar10_test['labels'], depth=10)),\n",
    "    callbacks=[tf.keras.callbacks.LearningRateScheduler(schedule=lr_schedule)],\n",
    ")"
   ]
  },
  {
   "cell_type": "code",
   "execution_count": 31,
   "metadata": {},
   "outputs": [
    {
     "name": "stdout",
     "output_type": "stream",
     "text": [
      "Размерность весов первого слоя: (7, 7, 3, 64)\n"
     ]
    },
    {
     "data": {
      "image/png": "[encoded data removed]",
      "text/plain": [
       "<Figure size 432x432 with 64 Axes>"
      ]
     },
     "metadata": {
      "needs_background": "light"
     },
     "output_type": "display_data"
    }
   ],
   "source": [
    "# Постоим веса\n",
    "weights = model.get_weights()[0]\n",
    "print('Размерность весов первого слоя:', weights.shape)\n",
    "\n",
    "weights = weights.transpose(3, 0, 1, 2)\n",
    "weights = renormalize(weights)\n",
    "\n",
    "fig, axes = plt.subplots(8, 8, figsize=(6, 6))\n",
    "axes = axes.ravel()\n",
    "for ax, w in zip(axes, weights):\n",
    "    ax.imshow(w.astype('uint8'), cmap='plasma')\n",
    "    ax.axis('off')\n"
   ]
  },
  {
   "cell_type": "markdown",
   "metadata": {},
   "source": [
    "### Сегментация объектов на изображении\n",
    "В задаче сегментации для каждого пикселя на изображении надо указать, принадлежит он к определенному классу объектов или нет. Различают 2 вида сегментации: semantic segmentation и instance segmentation. В первом случае должны быть отмечены все пиксели принадлежащие классу, т.е. если на картинке есть стулья они все должны быть отмечены. При instance сегментации необходимо также указать, если пиксели принадлежат разным объектам.\n",
    "\n",
    "![segmentation](img/segmentation.png)\n",
    "\n",
    "В задаче обычно дается 2 картинки - оригинальные изображения и маски, указывающие, какие пиксели принадлежат искомому классу. Трудозатраты на разметку для сегментации существенно выше, чем для классификации, поэтому такие наборы данных меньше. В связи с этим большой положительный эффект на качество сети имеют аугментации, т.е. создание искусственных данных на основе имеющихся (вращение, растягивания, отражения имеющихся изображений).\n",
    "\n",
    "Один из эффективных методов для решения задачи сегментации является сеть с архитектурой ***U-net***. Основная идея заключается в последовательном сжатии исходных изображений, декодировании, а также объединение декодированных слоев с оригинальными слоями того же размера. Таким образом, сети будут доступны как высокоинформативные сжатые признаки, так и особенности изначальных изображений. В U-net используется upsampling-convolution, где размер слоя после свертки становиться больше, чем до нее.\n",
    "\n",
    "![unet](img/unet.png)\n",
    "\n",
    "**[U-net]** Ronnenberger et al, U-net - Convolutional Networks for Biomedical Image Segmentation, 2015\n",
    "\n",
    "В качестве примера задачи приведем соревнование *2018 Data Science Bowl* на платформе Kaggle, где нужно было отмечать ядра клеток на медицинских снимках.\n",
    "\n",
    "https://www.kaggle.com/c/data-science-bowl-2018/overview\n",
    "\n",
    "В решении победителей https://www.kaggle.com/c/data-science-bowl-2018/discussion/54741#latest-477226, используется U-net. Главная особенность решения - предсказывались не только размеченные маски ядер, но и граница между ними. Таким образом, из задачи semantic segmentation делалась instance segmentation. Дополнительная задача для нейросети - определение границ - помогает лучше разделять близко расположенные ядра и улучшить финальный результат.\n",
    "\n",
    "![ds_bowl2018](img/ds_bowl2018.png)"
   ]
  },
  {
   "cell_type": "markdown",
   "metadata": {},
   "source": [
    "### Подсчет объектов на примере соревнования *Kaggle Sea Lion Population*\n",
    "\n",
    "https://www.kaggle.com/c/noaa-fisheries-steller-sea-lion-population-count\n",
    "\n",
    "В этой задаче нужно было предсказать количество морских котиков на снимках с квадракоптеров. Снимки большие, ~5500x3500. Котики разделены на 5 групп (взрослые самцы, молодые самцы, взрослые самки, подростки и детеныши). Тренировочные данные (1000 изображений) представляли из себя пару: оригинальная картинка и картинка, где котики отмечены точками (считать нужно было самостоятельно). Тестовые данные - 18000 изображений без точек. Метрика - RMSE, усредненная по классам.\n",
    "\n",
    "![sea_lions](img/sea_lions.png)\n",
    "\n",
    "Во многих решениях картинки разбивались на более мелкие изображения (например, 256х256), чтобы уменьшить количество необходимых вычислений.\n",
    "\n",
    "Решения:\n",
    "- 2 место: 2 этапа - использование U-net для предсказания квадратов на месте котиков:\n",
    "![sea_lion_second](img/sea_lion_second.png)\n",
    "Далее из картинок с квадратиками извлекались вторичные признаки: сумма предсказанных вероятностей, сумма вероятностей выше заданного порога, число и сумма скоплений квадратов. Все эти признаки подавались на вход моделям, реализующим алгоритмы градиентного бустинга для получения итогового количества котиков.\n",
    "- 1 место: предобученная на Imagenet сверточная сеть VGG тренировалась для непосредственного предсказания количества котиков (регрессия). Кроме того, финалные предсказания модели были некоторым образом изменены. Например, количество котиков-подростков было умножено на 1.5, количество детенышей - на 1.2. Эти числа выбирались исходя из качества предсказаний на открытой части тестовой выборки (места распределяются по предсказаниям на закрытой части выборки). Предполагается, что это связано с различием между тренировочными и тестовыми данными.\n",
    "\n",
    "Ссылки на решения:\n",
    "\n",
    "https://www.youtube.com/watch?v=PZfD-StZltk - 2 место\n",
    "\n",
    "https://habr.com/ru/company/ods/blog/337548/ - 4 место"
   ]
  }
 ],
 "metadata": {
  "kernelspec": {
   "display_name": "Python 3",
   "language": "python",
   "name": "python3"
  },
  "language_info": {
   "codemirror_mode": {
    "name": "ipython",
    "version": 3
   },
   "file_extension": ".py",
   "mimetype": "text/x-python",
   "name": "python",
   "nbconvert_exporter": "python",
   "pygments_lexer": "ipython3",
   "version": "3.7.3"
  }
 },
 "nbformat": 4,
 "nbformat_minor": 2
}
