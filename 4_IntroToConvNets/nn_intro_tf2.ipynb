{
 "cells": [
  {
   "cell_type": "markdown",
   "metadata": {},
   "source": [
    "# Семинар по методам интеллектуального анализа данных\n",
    "## Введение в сверточные нейронные сети и библиотеку Tensorflow 2.0"
   ]
  },
  {
   "cell_type": "markdown",
   "metadata": {},
   "source": [
    "Содержание\n",
    "- Задача классификации изображений\n",
    "- Линейный классификатор\n",
    "- Функция потерь, обучение линейного классификатора\n",
    "- Сверточный слой нейросети\n",
    "- Задачи, решаемые сверточными нейросетями\n",
    "\n",
    "Отличный курс по нейросетям (видео лекций и материалы по курсу):\n",
    "\n",
    "CS231n: Convolutional Neural Networks for Visual Recognition (Stanford)\n",
    "\n",
    "http://cs231n.stanford.edu/"
   ]
  },
  {
   "cell_type": "markdown",
   "metadata": {},
   "source": [
    "### Библиотека Tensorflow"
   ]
  },
  {
   "cell_type": "markdown",
   "metadata": {},
   "source": [
    "<img align=left src=\"img/tf_logo.png\">"
   ]
  },
  {
   "cell_type": "markdown",
   "metadata": {},
   "source": [
    "https://www.tensorflow.org/\n",
    "\n",
    "Другие библиотеки для обучения нейросетей (глубокого обучения - Deep learning):\n",
    "- PyTorch https://pytorch.org/\n",
    "- Apache MXNet https://mxnet.apache.org/\n",
    "- Caffe2 https://caffe2.ai/"
   ]
  },
  {
   "cell_type": "code",
   "execution_count": 1,
   "metadata": {},
   "outputs": [
    {
     "name": "stdout",
     "output_type": "stream",
     "text": [
      "Python version: 3.7.3 (default, Mar 27 2019, 17:13:21) [MSC v.1915 64 bit (AMD64)]\n",
      "Tensorflow version: 2.0.0-alpha0\n",
      "Numpy version: 1.16.2\n",
      "Scikit-learn version: 0.20.3\n",
      "Matplotlib version 3.0.3\n"
     ]
    }
   ],
   "source": [
    "%matplotlib inline\n",
    "import sys\n",
    "import math\n",
    "import tensorflow as tf\n",
    "import pickle\n",
    "import numpy as np\n",
    "import sklearn\n",
    "from pathlib import Path\n",
    "import matplotlib\n",
    "from matplotlib import pyplot as plt\n",
    "from sklearn.metrics import accuracy_score\n",
    "\n",
    "print('Python version:', sys.version)\n",
    "print('Tensorflow version:', tf.__version__)\n",
    "print('Numpy version:', np.__version__)\n",
    "print('Scikit-learn version:', sklearn.__version__)\n",
    "print('Matplotlib version', matplotlib.__version__)"
   ]
  },
  {
   "cell_type": "code",
   "execution_count": 2,
   "metadata": {},
   "outputs": [],
   "source": [
    "# PATHS\n",
    "PATH_CIFAR = Path('data') / 'cifar-10-batches-py'"
   ]
  },
  {
   "cell_type": "markdown",
   "metadata": {},
   "source": [
    "### Задача классификации изображений\n",
    "\n",
    "Пусть имеется набор изображений с известными метками классов (кошка, собака, машина и т.п.). Необходимо составить алгоритм, который будет определять метку класса для нового изображения. Наиболее известным набором размеченных изображений, на котором сравнивается качество разных алгоримов, является ImageNet, содержащий более 14 миллионов картинок, разделенных на 20000 классов.\n",
    "\n",
    "Примеры изображений ImageNet:\n",
    "\n",
    "![Imagenet_sample1](img/imagenet_sample1.jpg)\n",
    "![Imagenet_sample1](img/imagenet_sample2.jpg)\n",
    "\n",
    "Ежегодно проводится соревнование ImageNet Large Scale Visual Recognition Challenge (ILSVRC), где используется малая часть ImageNet (1.4 млн изображений, 1000 классов). В настоящее время нейросети показывают наилучшие результаты при решении этой задачи.\n",
    "\n",
    "![Imagenet_winner_history](img/ILSVRC_winners.png)\n",
    "\n",
    "- Deng et al, ImageNet: A Large-Scale Hierarchical Image Database, 2009."
   ]
  },
  {
   "cell_type": "markdown",
   "metadata": {},
   "source": [
    "Сети для классификации изображений ImageNet тренируются несколько дней. Чтобы уменьшить объем вычислений, мы будем использовать набор данных поменьше - **CIFAR**, который включает 10 классов, 50000 тренировочных и 10000 тестовых изображений.\n",
    "\n",
    "CIFAR-10 можно загрузить по ссылке: https://www.cs.toronto.edu/~kriz/cifar-10-python.tar.gz и необходимо распаковать в папку data.\n",
    "\n",
    "Изображения из набора данных CIFAR-10:\n",
    "\n",
    "![CIRAR](img/cifar_classes.png)"
   ]
  },
  {
   "cell_type": "code",
   "execution_count": 3,
   "metadata": {},
   "outputs": [],
   "source": [
    "def get_cifar10():\n",
    "    CIFAR_DIM = (3, 32, 32)\n",
    "    path_meta = PATH_CIFAR / 'batches.meta'\n",
    "    paths_batches = [\n",
    "        PATH_CIFAR / 'data_batch_1',\n",
    "        PATH_CIFAR / 'data_batch_2',\n",
    "        PATH_CIFAR / 'data_batch_3',\n",
    "        PATH_CIFAR / 'data_batch_4',\n",
    "        PATH_CIFAR / 'data_batch_5',    \n",
    "    ]\n",
    "    path_test = PATH_CIFAR / 'test_batch'\n",
    "    \n",
    "    # Train\n",
    "    cifar10_train = {'data': [], 'labels': []}\n",
    "    for path in paths_batches:\n",
    "        with open(path, 'rb') as file:\n",
    "            x = pickle.load(file, encoding='bytes')\n",
    "            cifar10_train['data'].append(x[b'data'])\n",
    "            cifar10_train['labels'].append(x[b'labels'])\n",
    "    cifar10_train['data'] = np.concatenate(cifar10_train['data'])\n",
    "    cifar10_train['data'] = cifar10_train['data'].reshape(-1, *CIFAR_DIM).transpose(0, 2, 3, 1)\n",
    "    cifar10_train['labels'] = np.concatenate(cifar10_train['labels'])\n",
    "    \n",
    "    # Test\n",
    "    cifar10_test = {}\n",
    "    with open(path_test, 'rb') as file:\n",
    "        x = pickle.load(file, encoding='bytes')\n",
    "        cifar10_test['data'] = x[b'data'].reshape(-1, *CIFAR_DIM).transpose(0, 2, 3, 1)\n",
    "        cifar10_test['labels'] = np.array(x[b'labels'], dtype=np.int32)\n",
    "    \n",
    "    # Class names\n",
    "    with open(path_meta, 'rb') as file:\n",
    "        class_names = [bytes_name.decode() for bytes_name \n",
    "                       in pickle.load(file, encoding='bytes')[b'label_names']]\n",
    "    \n",
    "    return cifar10_train, cifar10_test, class_names"
   ]
  },
  {
   "cell_type": "code",
   "execution_count": 4,
   "metadata": {},
   "outputs": [
    {
     "name": "stdout",
     "output_type": "stream",
     "text": [
      "Имена классов: ['airplane', 'automobile', 'bird', 'cat', 'deer', 'dog', 'frog', 'horse', 'ship', 'truck']\n",
      "Размер тренировочных данных: 50000\n",
      "Размер тестовых данных: 10000\n",
      "Размер изображения: 32 (32x32x3)\n",
      "Количество пикселей на изображении: 3072\n"
     ]
    }
   ],
   "source": [
    "# Загрузим датасет CIFAR10\n",
    "cifar10_train, cifar10_test, class_names = get_cifar10()\n",
    "\n",
    "cifar10_train_size = cifar10_train['data'].shape[0]\n",
    "cifar10_test_size = cifar10_test['data'].shape[0]\n",
    "\n",
    "# Нам также понадобяться изображения в виде вектора пикселей\n",
    "# длиной 3072 = 32x32x3\n",
    "cifar10_train_vectors = cifar10_train['data'].reshape(cifar10_train_size, -1)\n",
    "cifar10_test_vectors = cifar10_test['data'].reshape(cifar10_test_size, -1)\n",
    "\n",
    "print('Имена классов:', class_names)\n",
    "print('Размер тренировочных данных:', cifar10_train_size)\n",
    "assert cifar10_train_size == cifar10_train['labels'].size\n",
    "print('Размер тестовых данных:', cifar10_test_size)\n",
    "assert cifar10_test_size == cifar10_test['labels'].size\n",
    "print('Размер изображения: {} (32x32x3)'.format(cifar10_train['data'].shape[1]))\n",
    "print('Количество пикселей на изображении: {}'.format(np.product(cifar10_train['data'].shape[1:])))"
   ]
  },
  {
   "cell_type": "code",
   "execution_count": 5,
   "metadata": {},
   "outputs": [
    {
     "data": {
      "image/png": "[encoded data removed]",
      "text/plain": [
       "<Figure size 864x216 with 10 Axes>"
      ]
     },
     "metadata": {
      "needs_background": "light"
     },
     "output_type": "display_data"
    }
   ],
   "source": [
    "# Построим 10 случайных изображений CIFAR\n",
    "def plot_cifar_imgs(imgs, labels, interpolation=None):\n",
    "    plt.figure(figsize=(len(imgs) + 2, 3))\n",
    "    for img_num, (img, lbl) in enumerate(zip(imgs, labels), 1):\n",
    "        plt.subplot(1, len(imgs), img_num)\n",
    "        plt.imshow(img, interpolation=interpolation)\n",
    "        plt.title(class_names[lbl])\n",
    "        plt.axis('off')\n",
    "\n",
    "show_idxs = np.random.randint(0, cifar10_train_size, size=10)\n",
    "images = [cifar10_train['data'][idx] for idx in show_idxs]\n",
    "labels = [cifar10_train['labels'][idx] for idx in show_idxs]\n",
    "plot_cifar_imgs(images, labels)"
   ]
  },
  {
   "cell_type": "code",
   "execution_count": 6,
   "metadata": {},
   "outputs": [
    {
     "name": "stdout",
     "output_type": "stream",
     "text": [
      "[5000 5000 5000 5000 5000 5000 5000 5000 5000 5000]\n",
      "[1000 1000 1000 1000 1000 1000 1000 1000 1000 1000]\n"
     ]
    }
   ],
   "source": [
    "# Посмотрим на распредление классов\n",
    "print(np.unique(cifar10_train['labels'], return_counts=True)[1])\n",
    "print(np.unique(cifar10_test['labels'], return_counts=True)[1])"
   ]
  },
  {
   "cell_type": "markdown",
   "metadata": {},
   "source": [
    "Видно, что изображения CIFAR10 распределены по классам равномерно."
   ]
  },
  {
   "cell_type": "markdown",
   "metadata": {},
   "source": [
    "### Обучение однослойной нейросети\n",
    "В основе нейросети лежит линейная функция (простейший классификатор):\n",
    "\n",
    "$$y = Wx + b,$$\n",
    "\n",
    "где $x$ - входной вектор $\\mathbb{R}^N$, $y$ - выходной вектор  $\\mathbb{R}^M$, $W$ - матрица весов $\\mathbb{R}^{M \\times N}$, $b$ - вектор смещений $\\mathbb{R}^M$."
   ]
  },
  {
   "cell_type": "code",
   "execution_count": 7,
   "metadata": {},
   "outputs": [
    {
     "data": {
      "image/png": "[encoded data removed]",
      "text/plain": [
       "<Figure size 360x216 with 3 Axes>"
      ]
     },
     "metadata": {
      "needs_background": "light"
     },
     "output_type": "display_data"
    }
   ],
   "source": [
    "# Возмем 3 изображения разных классов\n",
    "labels = [3, 6, 8]\n",
    "images = np.stack([cifar10_train['data'][np.where(cifar10_train['labels'] == lbl)[0][0]] for lbl in labels])\n",
    "plot_cifar_imgs(images, labels)"
   ]
  },
  {
   "cell_type": "code",
   "execution_count": 8,
   "metadata": {},
   "outputs": [],
   "source": [
    "# Представим изображения в виде векторов длинной 3072 = 32x32x3\n",
    "images = images.reshape(3, -1)"
   ]
  },
  {
   "cell_type": "code",
   "execution_count": 9,
   "metadata": {},
   "outputs": [],
   "source": [
    "# Создадим случайную матрицу весов и вектор смещений\n",
    "n = images[0].shape[0]\n",
    "m = 10  # 10 классов\n",
    "weights = tf.random.normal((m, n)) / 10\n",
    "bias = tf.random.normal((m, ))"
   ]
  },
  {
   "cell_type": "code",
   "execution_count": 10,
   "metadata": {},
   "outputs": [
    {
     "name": "stdout",
     "output_type": "stream",
     "text": [
      "tf.Tensor(\n",
      "[[  -81.9006     -77.571236  -345.08432     90.41148    307.46414\n",
      "    470.80234    493.42947   -398.48715     61.82173   -678.6799  ]\n",
      " [  656.61237   -205.3349   -1138.1771     258.72107    605.1578\n",
      "   -132.15976    399.0356    -142.39156    575.00165   -735.24396 ]\n",
      " [  992.4763    -416.1196   -1621.0288     238.70137    795.57135\n",
      "   1123.8597    1084.699     -631.9208     611.799     -481.32422 ]], shape=(3, 10), dtype=float32)\n"
     ]
    }
   ],
   "source": [
    "# Применим линейную функцию к изображениям\n",
    "# images - numpy массив, weights - tensorflow массив, но их можно перемножать\n",
    "y = images @ tf.transpose(weights) + bias  # @ - умножение матриц (== tf.matmul)\n",
    "print(y)  # получается tensorflow массив"
   ]
  },
  {
   "cell_type": "markdown",
   "metadata": {},
   "source": [
    "Каждое число (или score) можно интерпретировать, как принадлежность каждого изображения к одному из 10 классов. Тот индекс, где score наибольший и есть предсказанный класс."
   ]
  },
  {
   "cell_type": "code",
   "execution_count": 11,
   "metadata": {},
   "outputs": [
    {
     "name": "stdout",
     "output_type": "stream",
     "text": [
      "Предсказание для изображения cat: frog\n",
      "Предсказание для изображения frog: airplane\n",
      "Предсказание для изображения ship: dog\n"
     ]
    }
   ],
   "source": [
    "predictions = tf.argmax(y, axis=1)\n",
    "for true_label, prediction in zip(labels, predictions):\n",
    "    print('Предсказание для изображения {}: {}'\n",
    "          ''.format(class_names[true_label], class_names[prediction]))"
   ]
  },
  {
   "cell_type": "code",
   "execution_count": 12,
   "metadata": {},
   "outputs": [],
   "source": [
    "# Введем метрику для оценки качества предсказаний\n",
    "def estimate_accuracy(input_weights, input_bias, input_data, input_labels):\n",
    "    y = input_data @ tf.transpose(input_weights) + bias\n",
    "    return accuracy_score(input_labels, tf.argmax(y, axis=1))"
   ]
  },
  {
   "cell_type": "code",
   "execution_count": 13,
   "metadata": {},
   "outputs": [
    {
     "name": "stdout",
     "output_type": "stream",
     "text": [
      "Точность предсказания: 10.41%\n"
     ]
    }
   ],
   "source": [
    "# Оценим качество предсказания для тестовой выборки для наших текущих, случаных весов\n",
    "cifar10_test_predictions_random_weights = estimate_accuracy(\n",
    "    weights, bias, cifar10_train_vectors, cifar10_train['labels']\n",
    ")\n",
    "print('Точность предсказания: {:.2f}%'.format(cifar10_test_predictions_random_weights * 100))"
   ]
  },
  {
   "cell_type": "markdown",
   "metadata": {},
   "source": [
    "Точность находится в пределах 10%, потому что у нас 10 классов, а предсказание - случайное. Чтобы найти веса, которые позволят лучше разделять классы необходимо ввести функцию потерь, которая будет штрафовать классификатор за неверные предсказания классов. Один из вариатов таких функций является Hinge loss, которая применятся в методе опорных векторов (SVM):\n",
    "\n",
    "$$L = \\max(0, 1 + \\max\\limits_{i\\neq t}(y_i - y_t)),$$\n",
    "\n",
    "$y_t$ - значения предсказания для истинного класса. Если максимальное значение среди предсказаний соотсветствует истинному классу, значение функции потерь равно0, если другому классу, то $L > 0$."
   ]
  },
  {
   "cell_type": "code",
   "execution_count": 14,
   "metadata": {
    "scrolled": true
   },
   "outputs": [
    {
     "name": "stdout",
     "output_type": "stream",
     "text": [
      "Закодированные метки классов:\n",
      "[[0. 0. 0. 1. 0. 0. 0. 0. 0. 0.]\n",
      " [0. 0. 0. 0. 0. 0. 1. 0. 0. 0.]\n",
      " [0. 0. 0. 0. 0. 0. 0. 0. 1. 0.]]\n",
      "\n",
      "Значение функции потерь (усреднение по трем предсказаниям): 391.89\n"
     ]
    }
   ],
   "source": [
    "# В Tensorflow 2.0 функции потерь находяться в модуле tf.losses\n",
    "hinge_loss = tf.losses.CategoricalHinge()\n",
    "\n",
    "# Однако на вход функции необходимо подавать не индексы классов, \n",
    "# а вектор 0 и 1 длиной 10 (например, 3 класс преобразуется в [0, 0, 0, 1, 0, 0, 0, 0, 0, 0])\n",
    "# Это называется one-hot-encoding\n",
    "one_hot_labels = tf.one_hot(labels, depth=10)\n",
    "print('Закодированные метки классов:\\n{}\\n'.format(one_hot_labels))\n",
    "loss = hinge_loss(one_hot_labels, y)\n",
    "print('Значение функции потерь (усреднение по трем предсказаниям): {:.2f}'.format(loss.numpy().item()))"
   ]
  },
  {
   "cell_type": "markdown",
   "metadata": {},
   "source": [
    "Hinge loss - выпуклая, но недифференцируемая функция, однако при минимизации этим пренебрегают. Теперь мы может использовать простейший градиентый спуск для того чтобы найти оптимальные весовые коэффициенты."
   ]
  },
  {
   "cell_type": "code",
   "execution_count": 15,
   "metadata": {},
   "outputs": [
    {
     "name": "stdout",
     "output_type": "stream",
     "text": [
      "tf.Tensor(\n",
      "[[ 19.666668  20.666668  21.       ...  41.        30.666668  24.      ]\n",
      " [  0.         0.         0.       ...   0.         0.         0.      ]\n",
      " [  0.         0.         0.       ...   0.         0.         0.      ]\n",
      " ...\n",
      " [  0.         0.         0.       ...   0.         0.         0.      ]\n",
      " [-44.666668 -62.       -74.333336 ... -10.666667 -31.333334 -46.      ]\n",
      " [  0.         0.         0.       ...   0.         0.         0.      ]], shape=(10, 3072), dtype=float32)\n"
     ]
    }
   ],
   "source": [
    "# Tensorflow обладает модулем автоматического дифференцирования\n",
    "# Однако, чтобы получить доступ к градиентам необходимо указать,\n",
    "# какие переменные должны отслеживаться.\n",
    "# Это необходимо, так как мы используем динамические вычисления\n",
    "# (раньше Tensorflow составлял граф всех необходимых вычислений,\n",
    "# который испольнялся в специальной сессии)\n",
    "with tf.GradientTape() as g:\n",
    "    g.watch(weights)\n",
    "    y = images @ tf.transpose(weights) + bias\n",
    "    loss = hinge_loss(one_hot_labels, y)\n",
    "\n",
    "dL_dW = g.gradient(loss, weights)\n",
    "print(dL_dW)"
   ]
  },
  {
   "cell_type": "code",
   "execution_count": 16,
   "metadata": {},
   "outputs": [
    {
     "name": "stdout",
     "output_type": "stream",
     "text": [
      "Эпоха 1/10\n",
      "Точность на тренировочных данных: 24.01%\n",
      "Точность на тeстовых данных: 23.55%\n",
      "Эпоха 2/10\n",
      "Точность на тренировочных данных: 18.86%\n",
      "Точность на тeстовых данных: 18.22%\n",
      "Эпоха 3/10\n",
      "Точность на тренировочных данных: 28.95%\n",
      "Точность на тeстовых данных: 28.64%\n",
      "Эпоха 4/10\n",
      "Точность на тренировочных данных: 30.89%\n",
      "Точность на тeстовых данных: 29.80%\n",
      "Эпоха 5/10\n",
      "Точность на тренировочных данных: 36.64%\n",
      "Точность на тeстовых данных: 34.30%\n",
      "Эпоха 6/10\n",
      "Точность на тренировочных данных: 37.06%\n",
      "Точность на тeстовых данных: 34.51%\n",
      "Эпоха 7/10\n",
      "Точность на тренировочных данных: 37.90%\n",
      "Точность на тeстовых данных: 34.38%\n",
      "Эпоха 8/10\n",
      "Точность на тренировочных данных: 37.81%\n",
      "Точность на тeстовых данных: 34.30%\n",
      "Эпоха 9/10\n",
      "Точность на тренировочных данных: 37.84%\n",
      "Точность на тeстовых данных: 34.44%\n",
      "Эпоха 10/10\n",
      "Точность на тренировочных данных: 37.94%\n",
      "Точность на тeстовых данных: 34.51%\n"
     ]
    }
   ],
   "source": [
    "# У нас есть все инструменты для написания простого алгоритма градиентного спуска\n",
    "# Параметры обучения\n",
    "batch_size = 128\n",
    "learning_rate = 0.001\n",
    "n_epochs = 10\n",
    "\n",
    "# Эпохами называют проход по всем изображениям набора данных\n",
    "for epoch in range(n_epochs):    \n",
    "    print('Эпоха {}/{}'.format(epoch + 1, n_epochs))\n",
    "    \n",
    "    # Разобъем имеющиеся данные на батчи по 128 изображений\n",
    "    # Таким образом мы получаем стохастический градиентный спуск\n",
    "    # и при этом алгоритм не будет работь слишком медленно\n",
    "    for batch_num in range(math.ceil(cifar10_train_size / batch_size)):\n",
    "        sl = slice(batch_num * batch_size,\n",
    "                   min((batch_num + 1) * batch_size, cifar10_train_size))\n",
    "        batch_train = cifar10_train_vectors[sl]\n",
    "        batch_labels = cifar10_train['labels'][sl]\n",
    "        one_hot_labels = tf.one_hot(batch_labels, depth=10)\n",
    "        \n",
    "        # Фиксируем градиенты весов и смещений\n",
    "        with tf.GradientTape() as g:\n",
    "            g.watch([weights, bias])\n",
    "            \n",
    "            # Однослойный линейный классификатор\n",
    "            y = batch_train @ tf.transpose(weights) + bias\n",
    "            loss = hinge_loss(one_hot_labels, y)\n",
    "        \n",
    "        # Делаем шаг в направлении убывания градиента\n",
    "        dL_dW, dL_db = g.gradient(loss, [weights, bias])\n",
    "        weights -= learning_rate * dL_dW\n",
    "        bias -= learning_rate * dL_db\n",
    "    \n",
    "    # Уменьшаем скорость обучения с каждой пройденой эпохой\n",
    "    # На первых эпохах происходит грубая подгонка весов,\n",
    "    # затем они уточняются\n",
    "    learning_rate /= 2\n",
    "\n",
    "    # Оченим качество предсказаний на всем тренировочном и тестовом датасете\n",
    "    accuracy_train = estimate_accuracy(weights, bias, cifar10_train_vectors, cifar10_train['labels'])\n",
    "    accuracy_test = estimate_accuracy(weights, bias, cifar10_test_vectors, cifar10_test['labels'])\n",
    "\n",
    "    print('Точность на тренировочных данных: {:.2f}%'.format(accuracy_train * 100))\n",
    "    print('Точность на тeстовых данных: {:.2f}%'.format(accuracy_test * 100))"
   ]
  },
  {
   "cell_type": "markdown",
   "metadata": {},
   "source": [
    "Конечно в tensorflow есть более простые способы для обучения классификатора."
   ]
  },
  {
   "cell_type": "code",
   "execution_count": 17,
   "metadata": {},
   "outputs": [
    {
     "name": "stdout",
     "output_type": "stream",
     "text": [
      "Смещение до шага минимизации: [ 1.0654587  -2.1551843  -0.09288601 -0.00282294  0.21634191  1.0412611\n",
      " -0.34741983  0.20299445 -0.08968253  0.892675  ]\n",
      "Смещение после шага минимизации: [ 1.0653837  -2.1550844  -0.09324851 -0.00269794  0.21606691  1.0413486\n",
      " -0.34730732  0.20309445 -0.08957003  0.89274997]\n"
     ]
    }
   ],
   "source": [
    "# Например, tf.optimizers содержат готовые алгоритмы оптимизации\n",
    "# (реализации одного \"шага\" изменения весов)\n",
    "# Однако из интерфейс привязан к представлению статичных графов tensorflow\n",
    "# Веса и смещения должны быть обернуты в специальный класс tf.Variable\n",
    "# Это те тензоры, значения которых не должны меняться по мере обучения\n",
    "weights = tf.Variable(tf.random.normal((m, n)))\n",
    "bias = tf.Variable(tf.random.normal((m, )))\n",
    "\n",
    "# Оптимизатор Stochastic gradient descent\n",
    "sgd = tf.optimizers.SGD(learning_rate=0.001)\n",
    "\n",
    "# Оптимизируемая функция\n",
    "def foo():\n",
    "    y = batch_train @ tf.transpose(weights) + bias\n",
    "    return hinge_loss(one_hot_labels, y)\n",
    "\n",
    "# Один шаг изменения весов\n",
    "print('Смещение до шага минимизации:', bias.numpy())\n",
    "sgd.minimize(foo, [weights, bias]);\n",
    "print('Смещение после шага минимизации:', bias.numpy())"
   ]
  },
  {
   "cell_type": "markdown",
   "metadata": {},
   "source": [
    "# Место для рассказа про статический граф"
   ]
  },
  {
   "cell_type": "markdown",
   "metadata": {},
   "source": [
    "Tensorflow также обладает более высокоуровненым интерфейсом:\n",
    "![tf_api](img/tensorflow_api.png)\n",
    "\n",
    "Основные компоненты библиотеки и иструменты для распределенных вычислений написаны на C++ и CUDA. Наиболее полноценный и задокументированный API написан Python, но есть интерфейсы и для других языков. \n",
    "\n",
    "tf.losses, tf.optimizers, tf.GradientTape являются элементами низкого уровня, полезными, когда необходимо реализовать функционал, который отсутствует в API верхнего уровня. Создатели библиотеки рекомендуют использовать высокоуровнений API - tf.estimator и tf.keras (начиная с Tensorflow 2.0 утверждается, что tf.keras почти такой же быстрый).\n",
    "\n",
    "**tf.estimator** содержит готовые модели, включающие обучение, оценку, предсказание и экспорт моделей. https://www.tensorflow.org/guide/estimators\n",
    "\n",
    "**tf.keras** позволяет легко создавать собственные модели. https://www.tensorflow.org/guide/keras"
   ]
  },
  {
   "cell_type": "code",
   "execution_count": 18,
   "metadata": {},
   "outputs": [
    {
     "name": "stdout",
     "output_type": "stream",
     "text": [
      "Train on 50000 samples, validate on 10000 samples\n",
      "Epoch 1/10\n",
      "50000/50000 [==============================] - 3s 56us/sample - loss: 1.3490 - categorical_accuracy: 0.2173 - val_loss: 1.3538 - val_categorical_accuracy: 0.2550\n",
      "Epoch 2/10\n",
      "50000/50000 [==============================] - 3s 52us/sample - loss: 1.1513 - categorical_accuracy: 0.2979 - val_loss: 1.1603 - val_categorical_accuracy: 0.2867\n",
      "Epoch 3/10\n",
      "50000/50000 [==============================] - 3s 52us/sample - loss: 1.1163 - categorical_accuracy: 0.3142 - val_loss: 1.1109 - val_categorical_accuracy: 0.3150\n",
      "Epoch 4/10\n",
      "50000/50000 [==============================] - 3s 52us/sample - loss: 1.1050 - categorical_accuracy: 0.3198 - val_loss: 1.1057 - val_categorical_accuracy: 0.3173\n",
      "Epoch 5/10\n",
      "50000/50000 [==============================] - 3s 52us/sample - loss: 1.1005 - categorical_accuracy: 0.3239 - val_loss: 1.1037 - val_categorical_accuracy: 0.3213\n",
      "Epoch 6/10\n",
      "50000/50000 [==============================] - 3s 52us/sample - loss: 1.0984 - categorical_accuracy: 0.3235 - val_loss: 1.1016 - val_categorical_accuracy: 0.3230\n",
      "Epoch 7/10\n",
      "50000/50000 [==============================] - 3s 53us/sample - loss: 1.0975 - categorical_accuracy: 0.3245 - val_loss: 1.1006 - val_categorical_accuracy: 0.3224\n",
      "Epoch 8/10\n",
      "50000/50000 [==============================] - 3s 55us/sample - loss: 1.0970 - categorical_accuracy: 0.3248 - val_loss: 1.1003 - val_categorical_accuracy: 0.3232\n",
      "Epoch 9/10\n",
      "50000/50000 [==============================] - 3s 53us/sample - loss: 1.0967 - categorical_accuracy: 0.3249 - val_loss: 1.1002 - val_categorical_accuracy: 0.3246\n",
      "Epoch 10/10\n",
      "50000/50000 [==============================] - 3s 54us/sample - loss: 1.0966 - categorical_accuracy: 0.3254 - val_loss: 1.1002 - val_categorical_accuracy: 0.3240\n"
     ]
    },
    {
     "data": {
      "text/plain": [
       "<tensorflow.python.keras.callbacks.History at 0x19449adc2b0>"
      ]
     },
     "execution_count": 18,
     "metadata": {},
     "output_type": "execute_result"
    }
   ],
   "source": [
    "# Построим с помощью keras такой же однослойный классификатор, как и ранее\n",
    "\n",
    "# Параметры\n",
    "learning_rate = 0.01\n",
    "\n",
    "def lr_schedule(epoch):\n",
    "    return learning_rate / (2 ** (epoch + 1))\n",
    "\n",
    "batch_size = 128\n",
    "n_epochs = 10\n",
    "\n",
    "# Создадим линейный слой 3072 -> 10\n",
    "model = tf.keras.Sequential([\n",
    "    tf.keras.layers.Dense(10, input_shape=(3072, )),\n",
    "])\n",
    "\n",
    "# Зададим параметры обучения с помощью model.compile()\n",
    "model.compile(\n",
    "    optimizer=tf.optimizers.SGD(learning_rate=learning_rate),\n",
    "    loss=tf.losses.CategoricalHinge(),\n",
    "    metrics=['categorical_accuracy']\n",
    ")\n",
    "\n",
    "# Не нужно разбивать набор на батчи и создавать цикл по эпохам,\n",
    "# keras все сделает сам, задаем только параметры\n",
    "\n",
    "model.fit(\n",
    "    x=cifar10_train_vectors / 255.0,\n",
    "    y=tf.one_hot(cifar10_train['labels'], depth=10),\n",
    "    batch_size=batch_size,\n",
    "    epochs=n_epochs,\n",
    "    # Тестовые данные в качестве валидации\n",
    "    validation_data=(cifar10_test_vectors / 255.0, tf.one_hot(cifar10_test['labels'], depth=10)),\n",
    "    # callbacks - это набор функций, которые будут вызываться каждую эпоху\n",
    "    callbacks=[tf.keras.callbacks.LearningRateScheduler(schedule=lr_schedule)],\n",
    ")"
   ]
  },
  {
   "cell_type": "code",
   "execution_count": 19,
   "metadata": {},
   "outputs": [
    {
     "name": "stdout",
     "output_type": "stream",
     "text": [
      "Точность на тренировочных данных: 32.32%\n",
      "Точность на тeстовых данных: 32.10%\n"
     ]
    }
   ],
   "source": [
    "# Можно извлечь веса модели и оценик точность самостоятельно\n",
    "weights, bias = model.get_weights()\n",
    "\n",
    "accuracy_train = estimate_accuracy(weights.T, bias, cifar10_train_vectors, cifar10_train['labels'])\n",
    "accuracy_test = estimate_accuracy(weights.T, bias, cifar10_test_vectors, cifar10_test['labels'])\n",
    "\n",
    "print('Точность на тренировочных данных: {:.2f}%'.format(accuracy_train * 100))\n",
    "print('Точность на тeстовых данных: {:.2f}%'.format(accuracy_test * 100))"
   ]
  },
  {
   "cell_type": "code",
   "execution_count": 20,
   "metadata": {},
   "outputs": [],
   "source": [
    "# Посмотрим на изображение весов модели\n",
    "...\n",
    "...\n",
    "..."
   ]
  },
  {
   "cell_type": "code",
   "execution_count": 21,
   "metadata": {},
   "outputs": [],
   "source": [
    "# !Использовать tf.metrics\n",
    "...\n",
    "...\n",
    "..."
   ]
  },
  {
   "cell_type": "markdown",
   "metadata": {},
   "source": [
    "Чаще в качестве функции потерь для задачи определения меток взаимоисключающих классов используется перекрестная энтропия (**cross-entropy loss**). Метки классов - это вектор нулей и единиц (например, кошка в CIFAR-10 - [0, 0, 0, 1, 0, 0, 0, 0, 0, 0]), который можно интерпретировать как вероятность принадлежности к классу, поэтому удобно, когда выходные значения нейросети тоже представляют собой вероятности.\n",
    "\n",
    "Функция **softmax** позволяет отнормировать предсказания линейного слоя ($y$) и получить подобие вероятностного распределения:\n",
    "\n",
    "$$z = \\sigma(y)_i = \\frac{e^{y_i}}{\\sum\\limits_{k=1}^K e^{y_k}}$$\n",
    "\n",
    "**Cross-entropy loss** - это функция потерь, которая исользует истинное и предсказанное распределение классов:\n",
    "\n",
    "$$L = \\frac{1}{N} \\sum\\limits_{n=1}^N H(p_n, q_n)\n",
    "    = -\\frac{1}{N} \\sum\\limits_{n=1}^N [z_n \\log \\hat{z}_n + (1 - z_n)\\log(1 - \\hat{z}_n)],$$\n",
    "    \n",
    "где $p$ - истинное распределение классов, $q$ - распределение, предсказанное моделью, $N$ - размер выборки. Чем больше предсказанная вероятность для истинного класса, тем меньше значение функции потерь. Однако, как видно из формулы, если модель предскажет 1 там, где должен быть 0, функция потерь $L = \\infty$. Это приводит к тому, что модели, обученные с помощью перекрестной энтропии, никогда не уверенны до конца в своих предсказаниях."
   ]
  },
  {
   "cell_type": "code",
   "execution_count": 22,
   "metadata": {},
   "outputs": [
    {
     "name": "stdout",
     "output_type": "stream",
     "text": [
      "Train on 50000 samples, validate on 10000 samples\n",
      "Epoch 1/10\n",
      "50000/50000 [==============================] - 3s 54us/sample - loss: 1.9097 - categorical_accuracy: 0.3383 - val_loss: 1.8301 - val_categorical_accuracy: 0.3672\n",
      "Epoch 2/10\n",
      "50000/50000 [==============================] - 3s 51us/sample - loss: 1.8041 - categorical_accuracy: 0.3806 - val_loss: 1.7917 - val_categorical_accuracy: 0.3817\n",
      "Epoch 3/10\n",
      "50000/50000 [==============================] - 3s 50us/sample - loss: 1.7834 - categorical_accuracy: 0.3915 - val_loss: 1.7825 - val_categorical_accuracy: 0.3910\n",
      "Epoch 4/10\n",
      "50000/50000 [==============================] - 3s 50us/sample - loss: 1.7753 - categorical_accuracy: 0.3957 - val_loss: 1.7755 - val_categorical_accuracy: 0.3921\n",
      "Epoch 5/10\n",
      "50000/50000 [==============================] - 3s 50us/sample - loss: 1.7714 - categorical_accuracy: 0.3958 - val_loss: 1.7739 - val_categorical_accuracy: 0.3911\n",
      "Epoch 6/10\n",
      "50000/50000 [==============================] - 3s 50us/sample - loss: 1.7696 - categorical_accuracy: 0.3973 - val_loss: 1.7726 - val_categorical_accuracy: 0.3927\n",
      "Epoch 7/10\n",
      "50000/50000 [==============================] - 3s 50us/sample - loss: 1.7686 - categorical_accuracy: 0.3970 - val_loss: 1.7722 - val_categorical_accuracy: 0.3936\n",
      "Epoch 8/10\n",
      "50000/50000 [==============================] - 3s 50us/sample - loss: 1.7681 - categorical_accuracy: 0.3972 - val_loss: 1.7720 - val_categorical_accuracy: 0.3924\n",
      "Epoch 9/10\n",
      "50000/50000 [==============================] - 3s 51us/sample - loss: 1.7679 - categorical_accuracy: 0.3977 - val_loss: 1.7719 - val_categorical_accuracy: 0.3916\n",
      "Epoch 10/10\n",
      "50000/50000 [==============================] - 3s 52us/sample - loss: 1.7677 - categorical_accuracy: 0.3978 - val_loss: 1.7718 - val_categorical_accuracy: 0.3916\n"
     ]
    },
    {
     "data": {
      "text/plain": [
       "<tensorflow.python.keras.callbacks.History at 0x1944f71cf98>"
      ]
     },
     "execution_count": 22,
     "metadata": {},
     "output_type": "execute_result"
    }
   ],
   "source": [
    "# Однослойный классификатор с cross-entropy loss\n",
    "# Дополнительно указываем, что к выходам линейного слоя должна быть применена\n",
    "# функция softmax\n",
    "learning_rate = 10.\n",
    "\n",
    "# Чтобы классификатор бысрее обучался, а также для того чтобы получить\n",
    "# красивые картинки весов, вычтем среднее и разделим на дисперсию\n",
    "mean, var = cifar10_train_vectors.mean(), cifar10_train_vectors.var()\n",
    "\n",
    "model = tf.keras.Sequential([\n",
    "    tf.keras.layers.Dense(10, input_shape=(3072, ), activation='softmax'), \n",
    "])\n",
    "\n",
    "model.compile(\n",
    "    optimizer=tf.optimizers.SGD(learning_rate=learning_rate),\n",
    "    # изменяем функцию потерь\n",
    "    loss=tf.losses.CategoricalCrossentropy(),\n",
    "    metrics=['categorical_accuracy']\n",
    ")\n",
    "\n",
    "model.fit(\n",
    "    x=(cifar10_train_vectors - mean) / var,\n",
    "    # Как и для Hinge loss, здесь ожидается, что метки классов закодированы\n",
    "    y=tf.one_hot(cifar10_train['labels'], depth=10),\n",
    "    batch_size=batch_size,\n",
    "    epochs=n_epochs,\n",
    "    validation_data=((cifar10_test_vectors - mean) / var, tf.one_hot(cifar10_test['labels'], depth=10)),\n",
    "    callbacks=[tf.keras.callbacks.LearningRateScheduler(schedule=lr_schedule)],\n",
    ")"
   ]
  },
  {
   "cell_type": "code",
   "execution_count": 23,
   "metadata": {},
   "outputs": [
    {
     "data": {
      "image/png": "[encoded data removed]",
      "text/plain": [
       "<Figure size 864x216 with 10 Axes>"
      ]
     },
     "metadata": {
      "needs_background": "light"
     },
     "output_type": "display_data"
    }
   ],
   "source": [
    "# Посмотрим на изображение весов модели\n",
    "weights = model.get_weights()[0]  # 3072 x 10\n",
    "weights = weights.T  # 10 x 3072\n",
    "# Отнормируем веса в диапазон [0..255]\n",
    "weights = ((weights - weights.min(axis=1, keepdims=True)) \n",
    "           / weights.ptp(axis=1, keepdims=True) * 255).astype(int)\n",
    "# 3072 = 32х32х3\n",
    "weights = weights.reshape(10, 32, 32, 3)\n",
    "plot_cifar_imgs(weights, np.arange(10))"
   ]
  },
  {
   "cell_type": "markdown",
   "metadata": {},
   "source": [
    "Видно, что классификатор пытается уловить средние цвета и форму изображений разных классов."
   ]
  },
  {
   "cell_type": "markdown",
   "metadata": {},
   "source": [
    "## Обучения двухслойной сети\n",
    "Линейный классификатор можно интерпретировать как поверхность, разделяющую разные классы в многомерном прострастве всех возможноых пикселей.\n",
    "\n",
    "![linear_separation](img/linear_separation.png)\n",
    "\n",
    "Чтобы получить поверхности более сложной формы используют несколько линейный слоев, причем к выходу каждого слоя применятся нелинейная функция - активация. Если не применять активацию, то сколько бы линейных слоев мы не сделали, все они могут быть выражены одним линейным слоем. Понятие искуственной нейронной сети применяют именно к набору линейных слоев с активациями, по аналогии с нейронами у животных.\n",
    "\n",
    "Разные функции активации:\n",
    "\n",
    "![activations](img/activations.png)"
   ]
  },
  {
   "cell_type": "code",
   "execution_count": 31,
   "metadata": {},
   "outputs": [
    {
     "name": "stdout",
     "output_type": "stream",
     "text": [
      "Train on 50000 samples, validate on 10000 samples\n",
      "Epoch 1/10\n",
      "50000/50000 [==============================] - 3s 60us/sample - loss: 1.9474 - categorical_accuracy: 0.2994 - val_loss: 1.8009 - val_categorical_accuracy: 0.3520\n",
      "Epoch 2/10\n",
      "50000/50000 [==============================] - 3s 55us/sample - loss: 1.7189 - categorical_accuracy: 0.3957 - val_loss: 1.6890 - val_categorical_accuracy: 0.4035\n",
      "Epoch 3/10\n",
      "50000/50000 [==============================] - 3s 55us/sample - loss: 1.6538 - categorical_accuracy: 0.4232 - val_loss: 1.6376 - val_categorical_accuracy: 0.4299\n",
      "Epoch 4/10\n",
      "50000/50000 [==============================] - 3s 55us/sample - loss: 1.6250 - categorical_accuracy: 0.4343 - val_loss: 1.6213 - val_categorical_accuracy: 0.4378\n",
      "Epoch 5/10\n",
      "50000/50000 [==============================] - 3s 56us/sample - loss: 1.6106 - categorical_accuracy: 0.4415 - val_loss: 1.6157 - val_categorical_accuracy: 0.4349\n",
      "Epoch 6/10\n",
      "50000/50000 [==============================] - 3s 57us/sample - loss: 1.6036 - categorical_accuracy: 0.4423 - val_loss: 1.6108 - val_categorical_accuracy: 0.4376\n",
      "Epoch 7/10\n",
      "50000/50000 [==============================] - 3s 55us/sample - loss: 1.6003 - categorical_accuracy: 0.4441 - val_loss: 1.6082 - val_categorical_accuracy: 0.4398\n",
      "Epoch 8/10\n",
      "50000/50000 [==============================] - 3s 56us/sample - loss: 1.5984 - categorical_accuracy: 0.4443 - val_loss: 1.6073 - val_categorical_accuracy: 0.4405\n",
      "Epoch 9/10\n",
      "50000/50000 [==============================] - 3s 56us/sample - loss: 1.5976 - categorical_accuracy: 0.4457 - val_loss: 1.6067 - val_categorical_accuracy: 0.4397\n",
      "Epoch 10/10\n",
      "50000/50000 [==============================] - 3s 56us/sample - loss: 1.5971 - categorical_accuracy: 0.4453 - val_loss: 1.6066 - val_categorical_accuracy: 0.4398\n"
     ]
    },
    {
     "data": {
      "text/plain": [
       "<tensorflow.python.keras.callbacks.History at 0x1958cedde48>"
      ]
     },
     "execution_count": 31,
     "metadata": {},
     "output_type": "execute_result"
    }
   ],
   "source": [
    "# Двухслойная нейросеть\n",
    "learning_rate = 0.1\n",
    "hidden_layer = 256  # размерность выходов первого слоя сети (их называют скрытыми)\n",
    "\n",
    "model = tf.keras.Sequential([\n",
    "    # Добавляем дополнительный слой [3072 -> 256] с активацией ReLU (Rectifier Linear Unit)\n",
    "    tf.keras.layers.Dense(256, input_shape=(3072, ), activation='relu'), \n",
    "    # [256 -> 10]\n",
    "    tf.keras.layers.Dense(10, activation='softmax'),     \n",
    "])\n",
    "\n",
    "model.compile(\n",
    "    optimizer=tf.optimizers.SGD(learning_rate=learning_rate),\n",
    "    loss=tf.losses.CategoricalCrossentropy(),\n",
    "    metrics=['categorical_accuracy']\n",
    ")\n",
    "\n",
    "model.fit(\n",
    "    x=(cifar10_train_vectors / 255.),\n",
    "    y=tf.one_hot(cifar10_train['labels'], depth=10),\n",
    "    batch_size=batch_size,\n",
    "    epochs=n_epochs,\n",
    "    validation_data=(cifar10_test_vectors / 255., tf.one_hot(cifar10_test['labels'], depth=10)),\n",
    "    callbacks=[tf.keras.callbacks.LearningRateScheduler(schedule=lr_schedule)],\n",
    ")"
   ]
  },
  {
   "cell_type": "markdown",
   "metadata": {},
   "source": [
    "По мере роста глубины сети и размерности скрытых слоев, точность будет немного возрастать и выйдет на плато. Такие сети, где все нейроны соседних слоев связаны между собой, называют полносвязными (**Fully-connected nets**). Качество предсказаний такой модели мало отличается от деревьев решений (если не меньше), поскольку все пиксели изображений рассматриваются по отдельности. Если мы перемешаем все пиксели на всех изображениях одинаковым образом, качество предсказаний не измениться.\n",
    "\n",
    "Чтобы включить в сеть информацию о простраственной связности пикселей, используют сверточные нейросети."
   ]
  },
  {
   "cell_type": "markdown",
   "metadata": {},
   "source": [
    "## Сверточные нейросети"
   ]
  },
  {
   "cell_type": "code",
   "execution_count": null,
   "metadata": {},
   "outputs": [],
   "source": []
  },
  {
   "cell_type": "markdown",
   "metadata": {},
   "source": [
    "## Задачи, решаемые сверточными нейросетями\n",
    "- Классификация изображений\n",
    "- Сегментация (instance и semantic segmentation)\n",
    "- Подсчет объектов"
   ]
  },
  {
   "cell_type": "code",
   "execution_count": null,
   "metadata": {},
   "outputs": [],
   "source": []
  }
 ],
 "metadata": {
  "kernelspec": {
   "display_name": "Python 3",
   "language": "python",
   "name": "python3"
  },
  "language_info": {
   "codemirror_mode": {
    "name": "ipython",
    "version": 3
   },
   "file_extension": ".py",
   "mimetype": "text/x-python",
   "name": "python",
   "nbconvert_exporter": "python",
   "pygments_lexer": "ipython3",
   "version": "3.7.3"
  }
 },
 "nbformat": 4,
 "nbformat_minor": 2
}
