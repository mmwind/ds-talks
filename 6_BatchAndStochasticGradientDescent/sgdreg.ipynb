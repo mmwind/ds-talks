{
 "cells": [
  {
   "cell_type": "markdown",
   "metadata": {},
   "source": [
    "# Применение градиентных методов для вычисления коэффициентов линейной регрессии"
   ]
  },
  {
   "cell_type": "markdown",
   "metadata": {},
   "source": [
    "**Рассмотрим алгоритмы градиентного спуска на задаче восстановления линейной регрессии**"
   ]
  },
  {
   "cell_type": "code",
   "execution_count": 2,
   "metadata": {},
   "outputs": [],
   "source": [
    "import numpy as np\n",
    "\n",
    "# Сгенерируем набор данных, который можно апроксимировать с помощью линейной регрессии\n",
    "X = 2 * np.random.rand(100, 1)\n",
    "y = 4 + 3 * X + np.random.randn(100, 1)"
   ]
  },
  {
   "cell_type": "code",
   "execution_count": 3,
   "metadata": {},
   "outputs": [
    {
     "data": {
      "image/png": "[encoded data removed]",
      "text/plain": [
       "<Figure size 432x288 with 1 Axes>"
      ]
     },
     "metadata": {
      "needs_background": "light"
     },
     "output_type": "display_data"
    }
   ],
   "source": [
    "%matplotlib inline\n",
    "\n",
    "import matplotlib\n",
    "import matplotlib.pyplot as plt\n",
    "\n",
    "plt.scatter(X, y)\n",
    "plt.show()"
   ]
  },
  {
   "cell_type": "markdown",
   "metadata": {},
   "source": [
    "# Пакетный градиентный спуск (Batch Gradient Descent)\n",
    "\n",
    "Общий признак градиентных методов оптимизации - итеративное уменьшение значения функции ошибки при помощи движения в сторону её антиградиента.\n",
    "![title](img/gd.png)\n",
    "\n",
    "\n",
    "Рассмотрим задачу линейной регрессии, приближающей некоторую зависимость:  \n",
    "<p style=\"text-align: center;\">$\\hat{y_i} = \\beta_0 + \\beta_1 x_{1,i} + \\beta_2 x_{2,i} + ... + \\beta_n x_{n,i}$ (1)</p>\n",
    "Простейший вариант:  \n",
    "\n",
    "<p style=\"text-align: center;\">$\\hat{y_i} = \\beta_0 + \\beta_1 x_{i}$</p>   \n",
    "\n",
    "\n",
    "**Задача: подобрать коэффициенты $\\beta$ таким образом, чтобы наиболее точно апроксимировать (приблизить) моделируемую зависимость.**\n",
    "Для реализации градиентного спуска необходимо итеративно вычислять градиент функции ошибки относительно параметров $\\beta$. Другими словами, мы вычисляем как сильно изменится функция ошибки, если мы немного изменим каждый из коэффициентов $\\beta$. Это называется частными производными. Данное действие похоже на то, если бы мы спросили себя: насколько низко я спущусь с горы, если немного пройду на восток? А если на юг? А теперь представим, что у нас множество таких измерений [3]. \n",
    "\n",
    "Чтобы вычислить коэффициенты модели, на первом этапе необходимо ввести функцию ошибки, которую необходимо минимизировать.  \n",
    "Обозначим $e_i$ как ошибку модели на точке с номером $i$, таким образом:    \n",
    "<p style=\"text-align: center;\">$e_i = y_i - \\hat{y_i}$</p> \n",
    "\n",
    "Где $\\hat{y_i}$ - моделируемый результат, $y_i$ - известный результат.    \n",
    "Объявим функцию ошибки:    \n",
    "\n",
    "<p style=\"text-align: center;\">$Loss(\\beta)= \\frac{1}{m}\\sum_{i=1}^m e_i^2 = \\frac{1}{m}\\sum_{i=1}^m (y_i - \\hat{y_i})^2 = \\frac{1}{m}\\sum_{i=1}^m (y_i - X\\beta)^2 $</p>\n",
    "\n",
    "  \n",
    "Градиент функции ошибки (вектор частных производных):  \n",
    "\n",
    "<p style=\"text-align: center;\">$\\frac{\\partial}{\\partial\\beta_{j}}Loss(\\beta)=\\frac{2}{m}\\sum_{i=1}^m(y^{(i)}-x^{(i)}\\beta)(-x_{j}^{(i)})$</p>  \n",
    "  \n",
    "Где $j=0,....,n-1$ - номер признака (feature), $i=1,2,.....,m$ - номер элемента набора данных (другими словами номер строки) \n",
    "\n",
    "Перепишем в матричной форме:\n",
    "<p style=\"text-align: center;\">$\\frac{\\partial}{\\partial\\beta}Loss(\\beta)=\\frac{2}{m}(-X)^{T}(Y-X\\beta)$</p>\n",
    "\n",
    "После того как в рамках каждой итерации мы вычислили градиент, который показывает направление роста функции, нам необходимо двигаться в направлении антиградиента, для того чтобы стремиться к минимуму функции ошибок:\n",
    "\n",
    "<p style=\"text-align: center;\">$\\beta^{next}=\\beta-\\eta\\nabla_{\\beta}Loss(\\beta)$</p>\n",
    "\n",
    "Где $\\eta$ - показатель обучения (learning rate)"
   ]
  },
  {
   "cell_type": "markdown",
   "metadata": {},
   "source": [
    "### Программная реализация пакетного градиентного спуска"
   ]
  },
  {
   "cell_type": "code",
   "execution_count": 4,
   "metadata": {},
   "outputs": [],
   "source": [
    "# Реализация в коде\n",
    "from sklearn.base import BaseEstimator\n",
    "import numpy as np\n",
    "\n",
    "class BatchGradientRegressor(BaseEstimator):\n",
    "    ''' Пакетный градиентный спуск\n",
    "    '''\n",
    "    def __init__(self, learning_rate = 0.01, epochs = 10, verbose = False): \n",
    "        self.learning_rate = learning_rate\n",
    "        self.epochs = epochs\n",
    "        self.verbose = verbose\n",
    "    \n",
    "    def __calc_loss(self, X, y, beta):\n",
    "        lp = y - X.dot(beta)\n",
    "        return lp.T.dot(lp)\n",
    "        \n",
    "    def fit(self, X, y):\n",
    "        m = X.shape[0]\n",
    "        n = X.shape[1]\n",
    "       \n",
    "        beta = np.ones((n, 1)) # Инициализируем веса (Про способы инициализации весов (эвристики) можно почитать в [5])\n",
    "        # Попробуйте инициализировать веса в соответствии с эвристиками. Стал ли лучше сходиться алгоритм? Как вы это выяснили?\n",
    "        \n",
    "        for ep in range(0, self.epochs):\n",
    "            gradient = (2 / m) * (np.negative(X).T.dot(y - X.dot(beta))) # Вычислем градиент по формуле, описанной выше\n",
    "            beta = beta - self.learning_rate * gradient # Движемся в направлении антиградиента\n",
    "            \n",
    "            loss = self.__calc_loss(X, y, beta) # Оцениваем качество\n",
    "            \n",
    "            if (self.verbose):\n",
    "                print(\"Loss:\", loss)\n",
    "        \n",
    "        self.coeffs_ = beta\n",
    "\n",
    "    def predict(self, X):\n",
    "        X_b = np.c_[np.ones((X.shape[0], 1)), X]\n",
    "        return X_b.dot(self.coeffs_)"
   ]
  },
  {
   "cell_type": "markdown",
   "metadata": {},
   "source": [
    "При разработке моделей машинного обучения принято соблюдать соглашение, описывающее структуру класса и его методы.  \n",
    "Подробнее можно почитать в [[1]](https://arxiv.org/pdf/1309.0238v1.pdf) и [[2]](https://scikit-learn.org/dev/developers/develop.html)"
   ]
  },
  {
   "cell_type": "markdown",
   "metadata": {},
   "source": [
    "### Генерация данных для обучения"
   ]
  },
  {
   "cell_type": "code",
   "execution_count": 5,
   "metadata": {},
   "outputs": [],
   "source": [
    "# Сгенерируем точки с шумом\n",
    "X = 4 * np.random.rand(100, 1)\n",
    "y = 7 + 5 * X + np.random.randn(100, 1)"
   ]
  },
  {
   "cell_type": "code",
   "execution_count": 6,
   "metadata": {},
   "outputs": [
    {
     "data": {
      "image/png": "[encoded data removed]",
      "text/plain": [
       "<Figure size 432x288 with 1 Axes>"
      ]
     },
     "metadata": {
      "needs_background": "light"
     },
     "output_type": "display_data"
    }
   ],
   "source": [
    "plt.scatter(X, y)\n",
    "plt.show()"
   ]
  },
  {
   "cell_type": "markdown",
   "metadata": {},
   "source": [
    "Помимо градиентных методов, коэффициенты линейной регрессии можно вычислить аналитически по формуле:\n",
    "<p style=\"text-align: center;\">$\\hat{\\beta} = (X^{T}X)^{-1} X^{T}Y$</p>  \n",
    "Выполним это вычисление, будем считать его эталонным и сравнивать с ним градиентные методы."
   ]
  },
  {
   "cell_type": "code",
   "execution_count": 7,
   "metadata": {},
   "outputs": [],
   "source": [
    "# Найдём коэффициенты линейной регрессии, с помощью аналитического решения, приведённого выше\n",
    "# Функция np.c_ соединяет два массива как две колонки\n",
    "# Добавляем x0 = 1 для каждого примера. (Данная колонка будет отвечать за коэффициент 𝛽0)\n",
    "X_b = np.c_[np.ones((100, 1)), X]\n",
    "beta_best = np.linalg.inv(X_b.T.dot(X_b)).dot(X_b.T).dot(y)"
   ]
  },
  {
   "cell_type": "code",
   "execution_count": 8,
   "metadata": {},
   "outputs": [
    {
     "data": {
      "text/plain": [
       "array([[7.11513102],\n",
       "       [4.95720724]])"
      ]
     },
     "execution_count": 8,
     "metadata": {},
     "output_type": "execute_result"
    }
   ],
   "source": [
    "beta_best # Найденные коэффициенты линейной регрессии с помощью аналитического решения"
   ]
  },
  {
   "cell_type": "markdown",
   "metadata": {},
   "source": [
    "### Обучение модели пакетного градиентного спуска"
   ]
  },
  {
   "cell_type": "code",
   "execution_count": 9,
   "metadata": {},
   "outputs": [],
   "source": [
    "batch_regressor = BatchGradientRegressor(learning_rate=0.1, epochs=100)\n",
    "batch_regressor.fit(X_b, y) # Обучаем модель - вычисляем коэффициенты линейной регрессии при помощи пакетного градиентного спуска"
   ]
  },
  {
   "cell_type": "code",
   "execution_count": 10,
   "metadata": {},
   "outputs": [
    {
     "data": {
      "text/plain": [
       "array([[7.02874485],\n",
       "       [4.98958075]])"
      ]
     },
     "execution_count": 10,
     "metadata": {},
     "output_type": "execute_result"
    }
   ],
   "source": [
    "batch_regressor.coeffs_ # Найденные коэффициенты линейной регрессии с помощью пакетного градиентного спуска"
   ]
  },
  {
   "cell_type": "code",
   "execution_count": 11,
   "metadata": {},
   "outputs": [
    {
     "data": {
      "image/png": "[encoded data removed]",
      "text/plain": [
       "<Figure size 432x288 with 1 Axes>"
      ]
     },
     "metadata": {
      "needs_background": "light"
     },
     "output_type": "display_data"
    }
   ],
   "source": [
    "# Построим график восстановленной линейной регрессии\n",
    "plt.scatter(X, y)\n",
    "x = np.linspace(0.,4.)\n",
    "plt.plot(x, batch_regressor.coeffs_[0] + x * batch_regressor.coeffs_[1], color='r')\n",
    "plt.show()"
   ]
  },
  {
   "cell_type": "code",
   "execution_count": 12,
   "metadata": {},
   "outputs": [
    {
     "data": {
      "text/plain": [
       "array([[17.00790635],\n",
       "       [21.9974871 ],\n",
       "       [26.98706785]])"
      ]
     },
     "execution_count": 12,
     "metadata": {},
     "output_type": "execute_result"
    }
   ],
   "source": [
    "# Вычислим предсказания\n",
    "X_test = np.array([2, 3, 4]).T\n",
    "y_pred = batch_regressor.predict(X_test)\n",
    "\n",
    "y_pred"
   ]
  },
  {
   "cell_type": "markdown",
   "metadata": {},
   "source": [
    "# Стохастический градиентный спуск (Stohastic Gradient Descent)"
   ]
  },
  {
   "cell_type": "markdown",
   "metadata": {},
   "source": [
    "Главная проблема пакетного градиентного спуска (Batch Gradient Descent) заключается в том, что он использует всю выборку для вычисления градиентов на каждом шагу, что делает его очень медленным при большом датасете. Стохастический градиентный спуск же выбирает случайный экземпляр данных и вычисляет градиент только на его основании. Очевидно, это делает алгоритм намного быстрее, так как он оперирует малым количеством данных  на каждой итерации. \n",
    "С другой стороны, из-за своей стохастической (случайной) природы, этот алгоритм гораздо менее устойчив.\n",
    "Значение функции ошибок будет скакать вверх и вниз, уменьшаясь в среднем.\n",
    "![title](img/sgd.png)"
   ]
  },
  {
   "cell_type": "markdown",
   "metadata": {},
   "source": [
    "### Псевдокод алгоритма стохастического градиентного спуска (вариация)\n",
    "        \n",
    "    \n",
    "•Выбрать начальный вектор параметров $\\beta$ и коэффициент обучения  $\\eta$  \n",
    "•Повторять до тех пор пока не будет получен минимум функции ошибки:  \n",
    "&emsp;&emsp;•Случайным образом перемешать элементы обучающей выборки  \n",
    "&emsp;&emsp;&emsp;&emsp;•Для $i = 1,2,....,m$, выполнить:   \n",
    "    \n",
    "<p style=\"text-align: center;\">$\\beta^{next}=\\beta-\\eta\\nabla_{\\beta}Loss_{i}(\\beta)$</p>"
   ]
  },
  {
   "cell_type": "markdown",
   "metadata": {},
   "source": [
    "### Программная реализация стохастического градиентного спуска\n",
    "Обратите внимание, данная реализация несколько отличается от приведенного выше псевдокода (Чем именно? Попробуйте изменить алгоритм и оценить его качество.)"
   ]
  },
  {
   "cell_type": "code",
   "execution_count": 15,
   "metadata": {},
   "outputs": [],
   "source": [
    "class StohasticGradientRegressor(BaseEstimator):\n",
    "    ''' Стохастический градиентный спуск\n",
    "    '''\n",
    "    def __init__(self, epochs = 10, verbose = False): \n",
    "        self.epochs = epochs\n",
    "        self.verbose = verbose\n",
    "    \n",
    "    def __calc_loss(self, X, y, beta):\n",
    "        lp = y - X.dot(beta)\n",
    "        return lp.T.dot(lp)\n",
    "        \n",
    "    __t0, __t1 = 5, 50 # learning schedule hyperparameters\n",
    "    \n",
    "    def __learning_schedule(self, t):\n",
    "        return self.__t0 / (t + self.__t1)\n",
    "        \n",
    "    def fit(self, X, y):\n",
    "        n_epochs = self.epochs\n",
    "        m = X.shape[0]\n",
    "        n = X.shape[1]\n",
    "       \n",
    "        beta = np.ones((n, 1)) # Инициализируем веса (Про способы инициализации весов (эвристики) можно почитать в [5])\n",
    "        # Попробуйте инициализировать веса в соответствии с эвристиками. Стал ли лучше сходиться алгоритм? Как вы это выяснили?\n",
    "        \n",
    "        for epoch in range(n_epochs): # В данном случае эпохой называем проход по m элементам\n",
    "            for i in range(m): \n",
    "                random_index = np.random.randint(m)\n",
    "                xi = X[random_index:random_index+1] # Выбираем случайную строку из двумерного массива\n",
    "                yi = y[random_index:random_index+1]\n",
    "                \n",
    "                #gradients = 2 * xi.T.dot(xi.dot(beta) - yi) # Вариант из книги [3]\n",
    "                gradients = 2 * (np.negative(xi).T.dot(yi - xi.dot(beta))) \n",
    "                \n",
    "                eta = self.__learning_schedule(epoch * m + i) # уменьшаем learning_rate по мере приближения к минимуму ошибки\n",
    "                beta = beta - eta * gradients\n",
    "                \n",
    "            loss = self.__calc_loss(X, y, beta)   # Оцениваем качество\n",
    "            # Для ускорения работы алгоритма, функционал ошибки можно не вычислять каждый раз,\n",
    "            # а лишь оценивать с помощью рекуррентных формул, подробнее в [5]\n",
    "            \n",
    "            if (self.verbose):\n",
    "                    print(\"Loss:\", loss)\n",
    "        \n",
    "        self.coeffs_ = beta\n",
    "\n",
    "    def predict(self, X):\n",
    "        X_b = np.c_[np.ones((X.shape[0], 1)), X]\n",
    "        return X_b.dot(self.coeffs_)"
   ]
  },
  {
   "cell_type": "markdown",
   "metadata": {},
   "source": [
    "### Обучение модели стохастического градиентного спуска"
   ]
  },
  {
   "cell_type": "code",
   "execution_count": 16,
   "metadata": {},
   "outputs": [
    {
     "name": "stdout",
     "output_type": "stream",
     "text": [
      "Loss: [[116.10504487]]\n",
      "Loss: [[96.33878453]]\n",
      "Loss: [[95.11723361]]\n",
      "Loss: [[94.33214007]]\n",
      "Loss: [[91.81181624]]\n",
      "[[7.04386435]\n",
      " [4.94416901]]\n"
     ]
    },
    {
     "data": {
      "image/png": "[encoded data removed]",
      "text/plain": [
       "<Figure size 432x288 with 1 Axes>"
      ]
     },
     "metadata": {
      "needs_background": "light"
     },
     "output_type": "display_data"
    }
   ],
   "source": [
    "sgd_regressor = StohasticGradientRegressor(verbose=True, epochs=5)\n",
    "sgd_regressor.fit(X_b, y)\n",
    "\n",
    "print(sgd_regressor.coeffs_)\n",
    "# Построим график восстановленной линейной регрессии с помощью стохастического градиентного спуска\n",
    "plt.scatter(X, y)\n",
    "x = np.linspace(0.,4.)\n",
    "plt.plot(x, sgd_regressor.coeffs_[0] + x * sgd_regressor.coeffs_[1], color='r')\n",
    "plt.show()"
   ]
  },
  {
   "cell_type": "markdown",
   "metadata": {},
   "source": [
    "### Обучение модели стохастического градиентного спуска (с помощью библиотеки sklearn)"
   ]
  },
  {
   "cell_type": "code",
   "execution_count": 17,
   "metadata": {},
   "outputs": [
    {
     "name": "stdout",
     "output_type": "stream",
     "text": [
      "Коэффициенты: [6.71699114] [5.10779256]\n",
      "Предсказания: [16.93257625 22.04036881 27.14816137]\n"
     ]
    }
   ],
   "source": [
    "# Обучение регрессии, с помощью библиотеки sklearn\n",
    "from sklearn.linear_model import SGDRegressor\n",
    "\n",
    "X_new = np.array([[2], [3], [4]])\n",
    "\n",
    "sgd_reg = SGDRegressor()\n",
    "sgd_reg.fit(X, y.ravel())\n",
    "print(\"Коэффициенты:\", sgd_reg.intercept_, sgd_reg.coef_)\n",
    "\n",
    "y_pred = sgd_reg.predict(X_new)\n",
    "print(\"Предсказания:\", y_pred)"
   ]
  },
  {
   "cell_type": "markdown",
   "metadata": {},
   "source": [
    "### Ссылки\n",
    "1. https://arxiv.org/pdf/1309.0238v1.pdf\n",
    "2. https://scikit-learn.org/dev/developers/develop.html\n",
    "3. Aurélien Géron. Hands-On Machine Learning with Scikit-Learn and TensorFlow, C. 158\n",
    "4. https://en.wikipedia.org/wiki/Stochastic_gradient_descent\n",
    "5. http://neerc.ifmo.ru/wiki/index.php?title=%D0%A1%D1%82%D0%BE%D1%85%D0%B0%D1%81%D1%82%D0%B8%D1%87%D0%B5%D1%81%D0%BA%D0%B8%D0%B9_%D0%B3%D1%80%D0%B0%D0%B4%D0%B8%D0%B5%D0%BD%D1%82%D0%BD%D1%8B%D0%B9_%D1%81%D0%BF%D1%83%D1%81%D0%BA "
   ]
  }
 ],
 "metadata": {
  "kernelspec": {
   "display_name": "Python 3",
   "language": "python",
   "name": "python3"
  },
  "language_info": {
   "codemirror_mode": {
    "name": "ipython",
    "version": 3
   },
   "file_extension": ".py",
   "mimetype": "text/x-python",
   "name": "python",
   "nbconvert_exporter": "python",
   "pygments_lexer": "ipython3",
   "version": "3.7.4"
  }
 },
 "nbformat": 4,
 "nbformat_minor": 2
}
