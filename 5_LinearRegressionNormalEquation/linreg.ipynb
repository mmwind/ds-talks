{
 "cells": [
  {
   "cell_type": "markdown",
   "metadata": {},
   "source": [
    "# Линейная регрессия"
   ]
  },
  {
   "cell_type": "code",
   "execution_count": 26,
   "metadata": {},
   "outputs": [],
   "source": [
    "import numpy as np\n",
    "X = 2 * np.random.rand(100, 1)\n",
    "y = 4 + 3 * X + np.random.randn(100, 1)"
   ]
  },
  {
   "cell_type": "code",
   "execution_count": 27,
   "metadata": {},
   "outputs": [
    {
     "data": {
      "image/png": "[encoded data removed]",
      "text/plain": [
       "<Figure size 432x288 with 1 Axes>"
      ]
     },
     "metadata": {
      "needs_background": "light"
     },
     "output_type": "display_data"
    }
   ],
   "source": [
    "%matplotlib inline\n",
    "\n",
    "import matplotlib\n",
    "import matplotlib.pyplot as plt\n",
    "\n",
    "plt.scatter(X, y)\n",
    "plt.show()"
   ]
  },
  {
   "cell_type": "markdown",
   "metadata": {},
   "source": [
    "# Вычисление коэффициентов многомерной линейной регрессии\n",
    "\n",
    "Линейная регрессия, приближающая некоторую зависимость:  \n",
    "<p style=\"text-align: center;\">$\\hat{y_i} = \\beta_0 + \\beta_1 x_{1,i} + \\beta_2 x_{2,i} + ... + \\beta_n x_{n,i}$ (1)</p>\n",
    "Простейший вариант:  \n",
    "\n",
    "<p style=\"text-align: center;\">$\\hat{y_i} = \\beta_0 + \\beta_1 x_{i}$</p>    \n",
    "\n",
    "Математически коэффициенты $\\beta_0, \\beta_1, \\beta_2 ... \\beta_n$  могут быть оценены с помощью формулы:    \n",
    "\n",
    "<p style=\"text-align: center;\">$\\hat{\\beta} = (X^{T}X)^{-1} X^{T}Y$</p>  \n",
    "\n",
    "Где $X$ - матрица признаков размером $M \\times N$, $M$ - количество наблюдений, $N$ - количество признаков (features). $Y$ - известная зависимая величина, которую мы хотим приблизить с помощью модели (Тоже матрица, но размером $M \\times 1$).  Чтобы вычислить коэффициенты модели, необходимо ввести функцию ошибки, которую необходимо минимизировать.  \n",
    "Обозначим $e_i$ как ошибку модели на точке с номером $i$, таким образом:    \n",
    "<p style=\"text-align: center;\">$e_i = y_i - \\hat{y_i}$</p> \n",
    "\n",
    "Где $\\hat{y_i}$ - моделируемый результат, $y_i$ - известный результат.    \n",
    "Объявим функцию ошибки:    \n",
    "<p style=\"text-align: center;\">$\\sum_{i=1}^m e_i^2 = \\sum_{i=1}^m (y_i - \\hat{y_i})^2$</p>  \n",
    "\n",
    "Где $m$ - количество наблюдений.   \n",
    "Модель регрессии (1) мы можем перезаписать в матричной форме:  \n",
    "<p style=\"text-align: center;\">$\\hat{Y} = X\\beta$</p>   \n",
    "\n",
    "Мы знаем, что:  \n",
    "<p style=\"text-align: center;\">$\\sum_{i=1}^m e_i^2 = E^{T}E$</p>  \n",
    "\n",
    "Мы хотим минимизировать общую квадратичную ошибку, так, чтобы значение приведенного выражения, было маленьким, насколько это возможно.    \n",
    "<p style=\"text-align: center;\">$E^{T}E = (Y-\\hat{Y})^{T} (Y-\\hat{Y})$</p>    \n",
    "Это выражение эквивалентно следующему:    \n",
    "<p style=\"text-align: center;\">$E^{T}E = (Y-X\\beta)^{T} (Y-X\\beta)$</p>    \n",
    "\n",
    "Мы хотим найти значения $\\beta$, при которых значения данного выражения минимально. Для этого продиффиренцируем его по $\\beta$ и приравняем $0$. Используем правило дифференцирования сложной функции.    \n",
    "<p style=\"text-align: center;\">$\\frac{dE^{T}E}{d\\beta} = - 2 X^{T}Y + 2 X^{T}X\\beta = 0$</p>  \n",
    "  \n",
    "Упрощаем:    \n",
    "\n",
    "<p style=\"text-align: center;\">$X^{T}X\\beta = X^{T}Y$</p>  \n",
    "\n",
    "Осталяем $\\beta$ в левой стороне, все остальное переносим в правую часть.  В итоге, коэффициенты можно найти по формуле:    \n",
    "\n",
    "<p style=\"text-align: center;\">$\\beta = (X^{T}X)^{-1} X^{T}Y$</p>  \n",
    "\n",
    "Мы нашли требуемое решение, однако, с точки зрения производительности, проблемой является вычисление обратной матрицы, которое сложно произвести, если датасет большой. В этой ситуации оптимальным является к примеру стохастический градиентный спуск.  \n",
    "**Дополнение. Нахождение обратной матрицы.** \n",
    "<p style=\"text-align: center;\">$A^{-1}=\\frac{1}{|A|}A_+^{T}$</p>  \n",
    "\n",
    "Где $|A|$ - определитель матрицы $A$, $A_+^{T}$ - транспонированная матрица алгебраических дополнений."
   ]
  },
  {
   "cell_type": "code",
   "execution_count": 40,
   "metadata": {},
   "outputs": [],
   "source": [
    "# Сгенерируем точки с шумом\n",
    "X = 4 * np.random.rand(100, 1)\n",
    "y = 7 + 5 * X + np.random.randn(100, 1)"
   ]
  },
  {
   "cell_type": "code",
   "execution_count": 41,
   "metadata": {},
   "outputs": [
    {
     "data": {
      "image/png": "[encoded data removed]",
      "text/plain": [
       "<Figure size 432x288 with 1 Axes>"
      ]
     },
     "metadata": {
      "needs_background": "light"
     },
     "output_type": "display_data"
    }
   ],
   "source": [
    "plt.scatter(X, y)\n",
    "plt.show()"
   ]
  },
  {
   "cell_type": "code",
   "execution_count": 42,
   "metadata": {},
   "outputs": [],
   "source": [
    "# Найдём коэффициенты линейной регрессии, с помощью аналитического решения, приведённого выше\n",
    "\n",
    "# Функция np.c_ соединяет два массива как две колонки\n",
    "# Добавляем x0 = 1 для каждого примера. (Данная колонка будет отвечать за коэффициент 𝛽0)\n",
    "X_b = np.c_[np.ones((100, 1)), X]\n",
    "\n",
    "beta_best = np.linalg.inv(X_b.T.dot(X_b)).dot(X_b.T).dot(y)"
   ]
  },
  {
   "cell_type": "code",
   "execution_count": 43,
   "metadata": {},
   "outputs": [
    {
     "data": {
      "text/plain": [
       "array([[6.88328114],\n",
       "       [5.01023548]])"
      ]
     },
     "execution_count": 43,
     "metadata": {},
     "output_type": "execute_result"
    }
   ],
   "source": [
    "beta_best"
   ]
  },
  {
   "cell_type": "code",
   "execution_count": 45,
   "metadata": {},
   "outputs": [
    {
     "data": {
      "image/png": "[encoded data removed]",
      "text/plain": [
       "<Figure size 432x288 with 1 Axes>"
      ]
     },
     "metadata": {
      "needs_background": "light"
     },
     "output_type": "display_data"
    }
   ],
   "source": [
    "# Построим график восстановленной линейной регрессии\n",
    "\n",
    "plt.scatter(X, y)\n",
    "\n",
    "x = np.linspace(0.,4.)\n",
    "plt.plot(x, beta_best[0] + x * beta_best[1], color='r')\n",
    "\n",
    "plt.show()"
   ]
  },
  {
   "cell_type": "code",
   "execution_count": 46,
   "metadata": {},
   "outputs": [
    {
     "name": "stdout",
     "output_type": "stream",
     "text": [
      "[6.88328114] [[5.01023548]]\n"
     ]
    }
   ],
   "source": [
    "# Обучение регрессии, с помощью библиотеки sklearn\n",
    "from sklearn.linear_model import LinearRegression\n",
    "\n",
    "X_new = np.array([[0], [2]])\n",
    "\n",
    "lin_reg = LinearRegression()\n",
    "lin_reg.fit(X, y)\n",
    "print(lin_reg.intercept_, lin_reg.coef_)\n",
    "\n",
    "y_pred = lin_reg.predict(X_new)\n",
    "#print(y_pred)"
   ]
  },
  {
   "cell_type": "markdown",
   "metadata": {},
   "source": [
    "### Ссылки\n",
    "\n",
    "1. Оригинал аналитического решения:\n",
    "https://stats.stackexchange.com/a/46171\n",
    "\n",
    "2. Aurélien Géron. Hands-On Machine Learning with Scikit-Learn and TensorFlow, C. 150"
   ]
  }
 ],
 "metadata": {
  "kernelspec": {
   "display_name": "Python 3",
   "language": "python",
   "name": "python3"
  },
  "language_info": {
   "codemirror_mode": {
    "name": "ipython",
    "version": 3
   },
   "file_extension": ".py",
   "mimetype": "text/x-python",
   "name": "python",
   "nbconvert_exporter": "python",
   "pygments_lexer": "ipython3",
   "version": "3.7.4"
  }
 },
 "nbformat": 4,
 "nbformat_minor": 2
}
